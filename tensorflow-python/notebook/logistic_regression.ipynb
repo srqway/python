{
 "cells": [
  {
   "cell_type": "code",
   "execution_count": 1,
   "metadata": {},
   "outputs": [],
   "source": [
    "import tensorflow as tf\n",
    "import numpy as np"
   ]
  },
  {
   "cell_type": "markdown",
   "metadata": {},
   "source": [
    "# data"
   ]
  },
  {
   "cell_type": "code",
   "execution_count": 2,
   "metadata": {},
   "outputs": [],
   "source": [
    "def sigmoid(x):\n",
    "    return 1 / (1 + np.exp(-x))\n",
    "x_data = np.random.randn(20000,3)\n",
    "w_real = [0.3,0.5,0.1]\n",
    "b_real = -0.2\n",
    "wxb = np.matmul(w_real,x_data.T) + b_real\n",
    "y_data_pre_noise = sigmoid(wxb)\n",
    "y_data = np.random.binomial(1,y_data_pre_noise)"
   ]
  },
  {
   "cell_type": "markdown",
   "metadata": {},
   "source": [
    "# train"
   ]
  },
  {
   "cell_type": "code",
   "execution_count": 3,
   "metadata": {},
   "outputs": [
    {
     "name": "stdout",
     "output_type": "stream",
     "text": [
      "0 [array([[0.03660844, 0.05730662, 0.01023392]], dtype=float32), -0.02169997]\n",
      "5 [array([[0.16165462, 0.25380486, 0.04502222]], dtype=float32), -0.0957579]\n",
      "10 [array([[0.22816691, 0.35895926, 0.06334281]], dtype=float32), -0.13498245]\n",
      "15 [array([[0.26517242, 0.41773888, 0.07342503]], dtype=float32), -0.15664746]\n",
      "20 [array([[0.28638273, 0.45155317, 0.07914078]], dtype=float32), -0.16895853]\n",
      "25 [array([[0.2987581 , 0.4713412 , 0.08244092]], dtype=float32), -0.17607795]\n",
      "30 [array([[0.30605513, 0.48303792, 0.08436786]], dtype=float32), -0.18023977]\n",
      "35 [array([[0.31038475, 0.48999268, 0.08550093]], dtype=float32), -0.18268912]\n",
      "40 [array([[0.31296325, 0.49414217, 0.08617017]], dtype=float32), -0.1841369]\n",
      "45 [array([[0.31450233, 0.49662298, 0.08656664]], dtype=float32), -0.18499511]\n",
      "50 [array([[0.31542218, 0.4981078 , 0.086802  ]], dtype=float32), -0.18550484]\n"
     ]
    }
   ],
   "source": [
    "NUM_STEPS = 51\n",
    "g = tf.Graph()\n",
    "with g.as_default():\n",
    "    x = tf.placeholder(tf.float32,shape=[None,3])\n",
    "    y_true = tf.placeholder(tf.float32,shape=None)\n",
    "    with tf.name_scope('predict') as scope:\n",
    "        w = tf.Variable([[0,0,0]],dtype=tf.float32,name='weights')\n",
    "        b = tf.Variable(0,dtype=tf.float32,name='bias')\n",
    "        y_pred = tf.matmul(w,tf.transpose(x)) + b\n",
    "    with tf.name_scope('loss') as scope:\n",
    "        loss = tf.nn.sigmoid_cross_entropy_with_logits(labels=y_true,logits=y_pred) \n",
    "        loss = tf.reduce_mean(loss)\n",
    "    with tf.name_scope('optimize') as scope:\n",
    "        learning_rate = 0.5\n",
    "        optimizer = tf.train.GradientDescentOptimizer(learning_rate)\n",
    "        optimize = optimizer.minimize(loss)\n",
    "    with tf.Session() as sess:\n",
    "        sess.run(tf.global_variables_initializer())      \n",
    "        for step in range(NUM_STEPS):\n",
    "            sess.run(optimize,{x: x_data, y_true: y_data})\n",
    "            if (step % 5 == 0):\n",
    "                print(step, sess.run([w,b]))"
   ]
  }
 ],
 "metadata": {
  "kernelspec": {
   "display_name": "Python 3",
   "language": "python",
   "name": "python3"
  },
  "language_info": {
   "codemirror_mode": {
    "name": "ipython",
    "version": 3
   },
   "file_extension": ".py",
   "mimetype": "text/x-python",
   "name": "python",
   "nbconvert_exporter": "python",
   "pygments_lexer": "ipython3",
   "version": "3.6.6"
  }
 },
 "nbformat": 4,
 "nbformat_minor": 2
}
