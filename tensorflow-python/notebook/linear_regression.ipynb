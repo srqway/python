{
 "cells": [
  {
   "cell_type": "code",
   "execution_count": 1,
   "metadata": {
    "scrolled": true
   },
   "outputs": [],
   "source": [
    "import tensorflow as tf\n",
    "import numpy as np"
   ]
  },
  {
   "cell_type": "markdown",
   "metadata": {},
   "source": [
    "# data"
   ]
  },
  {
   "cell_type": "code",
   "execution_count": 2,
   "metadata": {},
   "outputs": [],
   "source": [
    "x_data = np.random.randn(2000,3)\n",
    "w_real = [0.3,0.5,0.1]\n",
    "b_real = -0.2\n",
    "noise = np.random.randn(1,2000)*0.1\n",
    "y_data = np.matmul(w_real,x_data.T) + b_real + noise"
   ]
  },
  {
   "cell_type": "markdown",
   "metadata": {},
   "source": [
    "# train"
   ]
  },
  {
   "cell_type": "code",
   "execution_count": 3,
   "metadata": {},
   "outputs": [
    {
     "name": "stdout",
     "output_type": "stream",
     "text": [
      "0 [array([[0.2641024 , 0.49045146, 0.077907  ]], dtype=float32), -0.19429615]\n",
      "1 [array([[0.29607847, 0.49753374, 0.10128872]], dtype=float32), -0.20074894]\n",
      "2 [array([[0.2986834 , 0.49915782, 0.10173927]], dtype=float32), -0.20147656]\n",
      "3 [array([[0.29887232, 0.49923223, 0.10187404]], dtype=float32), -0.20154417]\n",
      "4 [array([[0.29888922, 0.49924153, 0.10187785]], dtype=float32), -0.20154847]\n",
      "5 [array([[0.29889044, 0.49924204, 0.10187864]], dtype=float32), -0.2015489]\n",
      "6 [array([[0.29889053, 0.4992421 , 0.10187867]], dtype=float32), -0.20154892]\n",
      "7 [array([[0.29889056, 0.4992421 , 0.10187867]], dtype=float32), -0.20154893]\n",
      "8 [array([[0.29889056, 0.4992421 , 0.10187867]], dtype=float32), -0.20154893]\n",
      "9 [array([[0.29889056, 0.4992421 , 0.10187867]], dtype=float32), -0.20154893]\n"
     ]
    }
   ],
   "source": [
    "NUM_STEPS = 10\n",
    "g = tf.Graph()\n",
    "with g.as_default():\n",
    "    x = tf.placeholder(tf.float32,shape=[None,3])\n",
    "    y_true = tf.placeholder(tf.float32,shape=None)\n",
    "    with tf.name_scope('predict') as scope:\n",
    "        w = tf.Variable([[0,0,0]],dtype=tf.float32,name='weights')\n",
    "        b = tf.Variable(0,dtype=tf.float32,name='bias')\n",
    "        y_pred = tf.matmul(w,tf.transpose(x)) + b\n",
    "    with tf.name_scope('loss') as scope:\n",
    "        loss = tf.reduce_mean(tf.square(y_true-y_pred))\n",
    "    with tf.name_scope('optimize') as scope:\n",
    "        learning_rate = 0.5\n",
    "        optimizer = tf.train.GradientDescentOptimizer(learning_rate)\n",
    "        optimize = optimizer.minimize(loss)\n",
    "    with tf.Session() as sess:\n",
    "        sess.run(tf.global_variables_initializer())\n",
    "        for step in range(NUM_STEPS):\n",
    "            sess.run(optimize,{x: x_data, y_true: y_data})\n",
    "            print(step, sess.run([w,b]))"
   ]
  }
 ],
 "metadata": {
  "kernelspec": {
   "display_name": "Python 3",
   "language": "python",
   "name": "python3"
  },
  "language_info": {
   "codemirror_mode": {
    "name": "ipython",
    "version": 3
   },
   "file_extension": ".py",
   "mimetype": "text/x-python",
   "name": "python",
   "nbconvert_exporter": "python",
   "pygments_lexer": "ipython3",
   "version": "3.6.6"
  }
 },
 "nbformat": 4,
 "nbformat_minor": 2
}
