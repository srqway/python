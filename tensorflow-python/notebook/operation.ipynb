{
 "cells": [
  {
   "cell_type": "code",
   "execution_count": 1,
   "metadata": {},
   "outputs": [],
   "source": [
    "import tensorflow as tf"
   ]
  },
  {
   "cell_type": "markdown",
   "metadata": {},
   "source": [
    "# matmul"
   ]
  },
  {
   "cell_type": "code",
   "execution_count": 2,
   "metadata": {},
   "outputs": [
    {
     "name": "stdout",
     "output_type": "stream",
     "text": [
      "original x shape : (3,)\n",
      "expanded x shape : (3, 1)\n",
      "matmul result : [[ 4]\n",
      " [10]]\n"
     ]
    }
   ],
   "source": [
    "A = tf.constant(\n",
    "    [ \n",
    "        [1,2,3],\n",
    "        [4,5,6] \n",
    "    ]\n",
    ")\n",
    "x = tf.constant([1,0,1])\n",
    "print(\"original x shape : {}\".format(x.get_shape()))\n",
    "x = tf.expand_dims(x,1)\n",
    "print(\"expanded x shape : {}\".format(x.get_shape()))\n",
    "b = tf.matmul(A,x)\n",
    "with tf.Session() as sess:\n",
    "    print('matmul result : {}'.format(b.eval()))"
   ]
  }
 ],
 "metadata": {
  "kernelspec": {
   "display_name": "Python 3",
   "language": "python",
   "name": "python3"
  },
  "language_info": {
   "codemirror_mode": {
    "name": "ipython",
    "version": 3
   },
   "file_extension": ".py",
   "mimetype": "text/x-python",
   "name": "python",
   "nbconvert_exporter": "python",
   "pygments_lexer": "ipython3",
   "version": "3.6.6"
  }
 },
 "nbformat": 4,
 "nbformat_minor": 2
}
