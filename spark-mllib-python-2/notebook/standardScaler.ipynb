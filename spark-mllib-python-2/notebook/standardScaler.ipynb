{
 "cells": [
  {
   "cell_type": "code",
   "execution_count": 1,
   "metadata": {},
   "outputs": [],
   "source": [
    "from pyspark.mllib.linalg import Vectors\n",
    "from pyspark.mllib.feature import StandardScaler"
   ]
  },
  {
   "cell_type": "code",
   "execution_count": 2,
   "metadata": {},
   "outputs": [
    {
     "name": "stdout",
     "output_type": "stream",
     "text": [
      "std : [2.8284271247461903,1.4142135623730951,0.0]\n",
      "mean : [-1.0,1.0,3.0]\n",
      "result : [DenseVector([-0.7071, -0.7071, 0.0]), DenseVector([0.7071, 0.7071, 0.0])]\n"
     ]
    }
   ],
   "source": [
    "vs = [Vectors.dense([-3, 0, 3]), Vectors.dense([1, 2, 3])]\n",
    "dataset = sc.parallelize(vs)\n",
    "standardizer = StandardScaler(True, True)\n",
    "model = standardizer.fit(dataset)\n",
    "result = model.transform(dataset)\n",
    "print(\"std : %s\" % model.std)\n",
    "print(\"mean : %s\" % model.mean)\n",
    "print(\"result : %s\" % result.collect())"
   ]
  }
 ],
 "metadata": {
  "kernelspec": {
   "display_name": "Python 2",
   "language": "python",
   "name": "python2"
  },
  "language_info": {
   "codemirror_mode": {
    "name": "ipython",
    "version": 2
   },
   "file_extension": ".py",
   "mimetype": "text/x-python",
   "name": "python",
   "nbconvert_exporter": "python",
   "pygments_lexer": "ipython2",
   "version": "2.7.14"
  }
 },
 "nbformat": 4,
 "nbformat_minor": 2
}
