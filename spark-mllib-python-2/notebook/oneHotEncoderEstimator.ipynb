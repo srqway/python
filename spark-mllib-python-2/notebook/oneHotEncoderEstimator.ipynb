{
 "cells": [
  {
   "cell_type": "code",
   "execution_count": 1,
   "metadata": {},
   "outputs": [],
   "source": [
    "from pyspark.ml.feature import OneHotEncoderEstimator"
   ]
  },
  {
   "cell_type": "markdown",
   "metadata": {},
   "source": [
    "# training model"
   ]
  },
  {
   "cell_type": "code",
   "execution_count": 2,
   "metadata": {},
   "outputs": [
    {
     "name": "stdout",
     "output_type": "stream",
     "text": [
      "+---------------+---------------+-------------+-------------+\n",
      "|categoryIndex_0|categoryIndex_1|categoryVec_0|categoryVec_1|\n",
      "+---------------+---------------+-------------+-------------+\n",
      "|            0.0|            1.0|(3,[0],[1.0])|(3,[1],[1.0])|\n",
      "|            1.0|            0.0|(3,[1],[1.0])|(3,[0],[1.0])|\n",
      "|            2.0|            1.0|(3,[2],[1.0])|(3,[1],[1.0])|\n",
      "|            0.0|            2.0|(3,[0],[1.0])|(3,[2],[1.0])|\n",
      "|            0.0|            1.0|(3,[0],[1.0])|(3,[1],[1.0])|\n",
      "|            2.0|            0.0|(3,[2],[1.0])|(3,[0],[1.0])|\n",
      "+---------------+---------------+-------------+-------------+\n",
      "\n"
     ]
    }
   ],
   "source": [
    "trainDf = spark.createDataFrame([\n",
    "        (0.0, 1.0),\n",
    "        (1.0, 0.0),\n",
    "        (2.0, 1.0),\n",
    "        (0.0, 2.0),\n",
    "        (0.0, 1.0),\n",
    "        (2.0, 0.0)\n",
    "    ], \n",
    "    [\"categoryIndex_0\", \"categoryIndex_1\"])\n",
    "\n",
    "oneHotEncoderEstimator = OneHotEncoderEstimator(inputCols=[\"categoryIndex_0\", \"categoryIndex_1\"],\n",
    "                                 outputCols=[\"categoryVec_0\", \"categoryVec_1\"])\n",
    "oneHotEncoderModel = oneHotEncoderEstimator.setHandleInvalid(\"keep\").fit(trainDf)\n",
    "transformedDf = oneHotEncoderModel.transform(trainDf)\n",
    "transformedDf.show()"
   ]
  },
  {
   "cell_type": "markdown",
   "metadata": {},
   "source": [
    "# test"
   ]
  },
  {
   "cell_type": "code",
   "execution_count": 3,
   "metadata": {},
   "outputs": [
    {
     "name": "stdout",
     "output_type": "stream",
     "text": [
      "+---------------+---------------+-------------+-------------+\n",
      "|categoryIndex_0|categoryIndex_1|categoryVec_0|categoryVec_1|\n",
      "+---------------+---------------+-------------+-------------+\n",
      "|            0.0|            1.0|(3,[0],[1.0])|(3,[1],[1.0])|\n",
      "|            1.0|            2.0|(3,[1],[1.0])|(3,[2],[1.0])|\n",
      "|            2.0|            3.0|(3,[2],[1.0])|    (3,[],[])|\n",
      "+---------------+---------------+-------------+-------------+\n",
      "\n"
     ]
    }
   ],
   "source": [
    "testDf = spark.createDataFrame([\n",
    "        (0.0, 1.0),\n",
    "        (1.0, 2.0),\n",
    "        (2.0, 3.0)\n",
    "    ],\n",
    "    [\"categoryIndex_0\", \"categoryIndex_1\"])\n",
    "\n",
    "oneHotEncoderModel.transform(testDf).show()"
   ]
  }
 ],
 "metadata": {
  "kernelspec": {
   "display_name": "Python 2",
   "language": "python",
   "name": "python2"
  },
  "language_info": {
   "codemirror_mode": {
    "name": "ipython",
    "version": 2
   },
   "file_extension": ".py",
   "mimetype": "text/x-python",
   "name": "python",
   "nbconvert_exporter": "python",
   "pygments_lexer": "ipython2",
   "version": "2.7.14"
  }
 },
 "nbformat": 4,
 "nbformat_minor": 2
}
