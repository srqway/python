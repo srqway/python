{
 "cells": [
  {
   "cell_type": "code",
   "execution_count": 1,
   "metadata": {},
   "outputs": [],
   "source": [
    "from pyspark.sql import SQLContext\n",
    "from pyspark.sql import Row\n",
    "from pyspark.sql.types import *"
   ]
  },
  {
   "cell_type": "markdown",
   "metadata": {},
   "source": [
    "# generate RDD"
   ]
  },
  {
   "cell_type": "code",
   "execution_count": 2,
   "metadata": {},
   "outputs": [
    {
     "data": {
      "text/plain": [
       "[[u'root', u'x', u'0', u'0', u'root', u'/root', u'/bin/bash'],\n",
       " [u'bin', u'x', u'1', u'1', u'bin', u'/bin', u'/sbin/nologin'],\n",
       " [u'daemon', u'x', u'2', u'2', u'daemon', u'/sbin', u'/sbin/nologin'],\n",
       " [u'adm', u'x', u'3', u'4', u'adm', u'/var/adm', u'/sbin/nologin'],\n",
       " [u'lp', u'x', u'4', u'7', u'lp', u'/var/spool/lpd', u'/sbin/nologin']]"
      ]
     },
     "execution_count": 2,
     "metadata": {},
     "output_type": "execute_result"
    }
   ],
   "source": [
    "localFile = sc.textFile(\"file:///etc/passwd\")\n",
    "rdd = localFile.map(lambda line : line.split(\":\"))\n",
    "rdd.take(5)"
   ]
  },
  {
   "cell_type": "markdown",
   "metadata": {},
   "source": [
    "# generate DataFrame"
   ]
  },
  {
   "cell_type": "code",
   "execution_count": 3,
   "metadata": {},
   "outputs": [
    {
     "data": {
      "text/plain": [
       "[Row(commandShell=u'/bin/bash', groupId=0, homeDirectory=u'/root', password=u'x', userId=0, userIdInfo=u'root', username=u'root'),\n",
       " Row(commandShell=u'/sbin/nologin', groupId=1, homeDirectory=u'/bin', password=u'x', userId=1, userIdInfo=u'bin', username=u'bin'),\n",
       " Row(commandShell=u'/sbin/nologin', groupId=2, homeDirectory=u'/sbin', password=u'x', userId=2, userIdInfo=u'daemon', username=u'daemon'),\n",
       " Row(commandShell=u'/sbin/nologin', groupId=4, homeDirectory=u'/var/adm', password=u'x', userId=3, userIdInfo=u'adm', username=u'adm'),\n",
       " Row(commandShell=u'/sbin/nologin', groupId=7, homeDirectory=u'/var/spool/lpd', password=u'x', userId=4, userIdInfo=u'lp', username=u'lp')]"
      ]
     },
     "execution_count": 3,
     "metadata": {},
     "output_type": "execute_result"
    }
   ],
   "source": [
    "rows = rdd.map(lambda t : \n",
    "    Row(\n",
    "        username = t[0],\n",
    "        password = t[1],\n",
    "        userId = int(t[2]),\n",
    "        groupId = int(t[3]),\n",
    "        userIdInfo = t[4],\n",
    "        homeDirectory = t[5],\n",
    "        commandShell = t[6]\n",
    "    )\n",
    ")\n",
    "rows.take(5)"
   ]
  },
  {
   "cell_type": "code",
   "execution_count": 4,
   "metadata": {},
   "outputs": [
    {
     "name": "stdout",
     "output_type": "stream",
     "text": [
      "root\n",
      " |-- commandShell: string (nullable = true)\n",
      " |-- groupId: long (nullable = true)\n",
      " |-- homeDirectory: string (nullable = true)\n",
      " |-- password: string (nullable = true)\n",
      " |-- userId: long (nullable = true)\n",
      " |-- userIdInfo: string (nullable = true)\n",
      " |-- username: string (nullable = true)\n",
      "\n"
     ]
    }
   ],
   "source": [
    "sqlContext = SQLContext(sc)\n",
    "df = sqlContext.createDataFrame(rows)\n",
    "df.printSchema()"
   ]
  },
  {
   "cell_type": "code",
   "execution_count": 5,
   "metadata": {},
   "outputs": [
    {
     "name": "stdout",
     "output_type": "stream",
     "text": [
      "+-------------+-------+--------------+--------+------+----------+--------+\n",
      "| commandShell|groupId| homeDirectory|password|userId|userIdInfo|username|\n",
      "+-------------+-------+--------------+--------+------+----------+--------+\n",
      "|    /bin/bash|      0|         /root|       x|     0|      root|    root|\n",
      "|/sbin/nologin|      1|          /bin|       x|     1|       bin|     bin|\n",
      "|/sbin/nologin|      2|         /sbin|       x|     2|    daemon|  daemon|\n",
      "|/sbin/nologin|      4|      /var/adm|       x|     3|       adm|     adm|\n",
      "|/sbin/nologin|      7|/var/spool/lpd|       x|     4|        lp|      lp|\n",
      "+-------------+-------+--------------+--------+------+----------+--------+\n",
      "only showing top 5 rows\n",
      "\n"
     ]
    }
   ],
   "source": [
    "df.show(5)"
   ]
  },
  {
   "cell_type": "markdown",
   "metadata": {},
   "source": [
    "# select"
   ]
  },
  {
   "cell_type": "code",
   "execution_count": 6,
   "metadata": {},
   "outputs": [
    {
     "name": "stdout",
     "output_type": "stream",
     "text": [
      "+--------+--------+------+-------+----------+--------------+-------------+\n",
      "|username|password|userId|groupId|userIdInfo| homeDirectory| commandShell|\n",
      "+--------+--------+------+-------+----------+--------------+-------------+\n",
      "|    root|       x|     0|      0|      root|         /root|    /bin/bash|\n",
      "|     bin|       x|     1|      1|       bin|          /bin|/sbin/nologin|\n",
      "|  daemon|       x|     2|      2|    daemon|         /sbin|/sbin/nologin|\n",
      "|     adm|       x|     3|      4|       adm|      /var/adm|/sbin/nologin|\n",
      "|      lp|       x|     4|      7|        lp|/var/spool/lpd|/sbin/nologin|\n",
      "+--------+--------+------+-------+----------+--------------+-------------+\n",
      "only showing top 5 rows\n",
      "\n"
     ]
    }
   ],
   "source": [
    "df.select(\"username\", \"password\", \"userId\", \"groupId\", \"userIdInfo\", \"homeDirectory\", \"commandShell\").show(5)"
   ]
  },
  {
   "cell_type": "code",
   "execution_count": 7,
   "metadata": {},
   "outputs": [
    {
     "name": "stdout",
     "output_type": "stream",
     "text": [
      "+--------+--------+------+-------+----------+--------------+-------------+\n",
      "|username|password|userId|groupId|userIdInfo| homeDirectory| commandShell|\n",
      "+--------+--------+------+-------+----------+--------------+-------------+\n",
      "|    root|       x|     0|      0|      root|         /root|    /bin/bash|\n",
      "|     bin|       x|     1|      1|       bin|          /bin|/sbin/nologin|\n",
      "|  daemon|       x|     2|      2|    daemon|         /sbin|/sbin/nologin|\n",
      "|     adm|       x|     3|      4|       adm|      /var/adm|/sbin/nologin|\n",
      "|      lp|       x|     4|      7|        lp|/var/spool/lpd|/sbin/nologin|\n",
      "+--------+--------+------+-------+----------+--------------+-------------+\n",
      "only showing top 5 rows\n",
      "\n"
     ]
    }
   ],
   "source": [
    "df.select(df.username, df.password, df.userId, df.groupId, df.userIdInfo, df.homeDirectory, df.commandShell).show(5)"
   ]
  },
  {
   "cell_type": "code",
   "execution_count": 8,
   "metadata": {},
   "outputs": [
    {
     "name": "stdout",
     "output_type": "stream",
     "text": [
      "+--------+--------+------+-------+----------+--------------+-------------+\n",
      "|username|password|userId|groupId|userIdInfo| homeDirectory| commandShell|\n",
      "+--------+--------+------+-------+----------+--------------+-------------+\n",
      "|    root|       x|     0|      0|      root|         /root|    /bin/bash|\n",
      "|     bin|       x|     1|      1|       bin|          /bin|/sbin/nologin|\n",
      "|  daemon|       x|     2|      2|    daemon|         /sbin|/sbin/nologin|\n",
      "|     adm|       x|     3|      4|       adm|      /var/adm|/sbin/nologin|\n",
      "|      lp|       x|     4|      7|        lp|/var/spool/lpd|/sbin/nologin|\n",
      "+--------+--------+------+-------+----------+--------------+-------------+\n",
      "only showing top 5 rows\n",
      "\n"
     ]
    }
   ],
   "source": [
    "df.select(df[\"username\"], df[\"password\"], df[\"userId\"], df[\"groupId\"], df[\"userIdInfo\"], df[\"homeDirectory\"], df[\"commandShell\"]).show(5)"
   ]
  },
  {
   "cell_type": "code",
   "execution_count": 9,
   "metadata": {},
   "outputs": [
    {
     "name": "stdout",
     "output_type": "stream",
     "text": [
      "+---------+\n",
      "|newUserId|\n",
      "+---------+\n",
      "|      100|\n",
      "|      101|\n",
      "|      102|\n",
      "|      103|\n",
      "|      104|\n",
      "+---------+\n",
      "only showing top 5 rows\n",
      "\n"
     ]
    }
   ],
   "source": [
    "df.select((df.userId + 100).alias(\"newUserId\")).show(5)"
   ]
  },
  {
   "cell_type": "code",
   "execution_count": 10,
   "metadata": {},
   "outputs": [
    {
     "name": "stdout",
     "output_type": "stream",
     "text": [
      "+---------+\n",
      "|newUserId|\n",
      "+---------+\n",
      "|      100|\n",
      "|      101|\n",
      "|      102|\n",
      "|      103|\n",
      "|      104|\n",
      "+---------+\n",
      "only showing top 5 rows\n",
      "\n"
     ]
    }
   ],
   "source": [
    "df.select((df[\"userId\"] + 100).alias(\"newUserId\")).show(5)"
   ]
  },
  {
   "cell_type": "markdown",
   "metadata": {},
   "source": [
    "# filter"
   ]
  },
  {
   "cell_type": "code",
   "execution_count": 11,
   "metadata": {},
   "outputs": [
    {
     "name": "stdout",
     "output_type": "stream",
     "text": [
      "+-------------+-------+-------------+--------+------+----------+--------+\n",
      "| commandShell|groupId|homeDirectory|password|userId|userIdInfo|username|\n",
      "+-------------+-------+-------------+--------+------+----------+--------+\n",
      "|    /bin/bash|      0|        /root|       x|     0|      root|    root|\n",
      "|/sbin/nologin|      2|        /sbin|       x|     2|    daemon|  daemon|\n",
      "|/sbin/nologin|      4|     /var/adm|       x|     3|       adm|     adm|\n",
      "+-------------+-------+-------------+--------+------+----------+--------+\n",
      "\n"
     ]
    }
   ],
   "source": [
    "df.filter(\"userId < 5\").filter(\"groupId % 2 = 0\").show()"
   ]
  },
  {
   "cell_type": "code",
   "execution_count": 12,
   "metadata": {},
   "outputs": [
    {
     "name": "stdout",
     "output_type": "stream",
     "text": [
      "+-------------+-------+-------------+--------+------+----------+--------+\n",
      "| commandShell|groupId|homeDirectory|password|userId|userIdInfo|username|\n",
      "+-------------+-------+-------------+--------+------+----------+--------+\n",
      "|    /bin/bash|      0|        /root|       x|     0|      root|    root|\n",
      "|/sbin/nologin|      2|        /sbin|       x|     2|    daemon|  daemon|\n",
      "|/sbin/nologin|      4|     /var/adm|       x|     3|       adm|     adm|\n",
      "+-------------+-------+-------------+--------+------+----------+--------+\n",
      "\n"
     ]
    }
   ],
   "source": [
    "df.filter(\"userId < 5 and groupId % 2 = 0\").show()"
   ]
  },
  {
   "cell_type": "code",
   "execution_count": 13,
   "metadata": {},
   "outputs": [
    {
     "name": "stdout",
     "output_type": "stream",
     "text": [
      "+-------------+-------+-------------+--------+------+----------+--------+\n",
      "| commandShell|groupId|homeDirectory|password|userId|userIdInfo|username|\n",
      "+-------------+-------+-------------+--------+------+----------+--------+\n",
      "|    /bin/bash|      0|        /root|       x|     0|      root|    root|\n",
      "|/sbin/nologin|      2|        /sbin|       x|     2|    daemon|  daemon|\n",
      "|/sbin/nologin|      4|     /var/adm|       x|     3|       adm|     adm|\n",
      "+-------------+-------+-------------+--------+------+----------+--------+\n",
      "\n"
     ]
    }
   ],
   "source": [
    "df.filter((df.userId < 5) & (df.groupId % 2 == 0)).show()"
   ]
  },
  {
   "cell_type": "code",
   "execution_count": 14,
   "metadata": {},
   "outputs": [
    {
     "name": "stdout",
     "output_type": "stream",
     "text": [
      "+-------------+-------+-------------+--------+------+----------+--------+\n",
      "| commandShell|groupId|homeDirectory|password|userId|userIdInfo|username|\n",
      "+-------------+-------+-------------+--------+------+----------+--------+\n",
      "|    /bin/bash|      0|        /root|       x|     0|      root|    root|\n",
      "|/sbin/nologin|      2|        /sbin|       x|     2|    daemon|  daemon|\n",
      "|/sbin/nologin|      4|     /var/adm|       x|     3|       adm|     adm|\n",
      "+-------------+-------+-------------+--------+------+----------+--------+\n",
      "\n"
     ]
    }
   ],
   "source": [
    "df.filter((df[\"userId\"] < 5) & (df[\"groupId\"] % 2 == 0)).show()"
   ]
  },
  {
   "cell_type": "markdown",
   "metadata": {},
   "source": [
    "# orderBy"
   ]
  },
  {
   "cell_type": "code",
   "execution_count": 15,
   "metadata": {},
   "outputs": [
    {
     "name": "stdout",
     "output_type": "stream",
     "text": [
      "+-------------+-------+------------------+--------+------+------------------+-----------------+\n",
      "| commandShell|groupId|     homeDirectory|password|userId|        userIdInfo|         username|\n",
      "+-------------+-------+------------------+--------+------+------------------+-----------------+\n",
      "|/sbin/nologin|  65534|      /var/lib/nfs|       x| 65534|Anonymous NFS User|        nfsnobody|\n",
      "|    /bin/bash|   1000|/home/hsiehpinghan|       x|  1000|      hsiehpinghan|     hsiehpinghan|\n",
      "|/sbin/nologin|    997|                 /|       x|   999| systemd Bus Proxy|systemd-bus-proxy|\n",
      "|/sbin/nologin|    996|                 /|       x|   998|  User for polkitd|          polkitd|\n",
      "|/sbin/nologin|    995|   /var/lib/chrony|       x|   997|                  |           chrony|\n",
      "+-------------+-------+------------------+--------+------+------------------+-----------------+\n",
      "only showing top 5 rows\n",
      "\n"
     ]
    }
   ],
   "source": [
    "df.orderBy(\"userId\", ascending = 0).show(5)"
   ]
  },
  {
   "cell_type": "code",
   "execution_count": 16,
   "metadata": {},
   "outputs": [
    {
     "name": "stdout",
     "output_type": "stream",
     "text": [
      "+-------------+-------+------------------+--------+------+------------------+-----------------+\n",
      "| commandShell|groupId|     homeDirectory|password|userId|        userIdInfo|         username|\n",
      "+-------------+-------+------------------+--------+------+------------------+-----------------+\n",
      "|/sbin/nologin|  65534|      /var/lib/nfs|       x| 65534|Anonymous NFS User|        nfsnobody|\n",
      "|    /bin/bash|   1000|/home/hsiehpinghan|       x|  1000|      hsiehpinghan|     hsiehpinghan|\n",
      "|/sbin/nologin|    997|                 /|       x|   999| systemd Bus Proxy|systemd-bus-proxy|\n",
      "|/sbin/nologin|    996|                 /|       x|   998|  User for polkitd|          polkitd|\n",
      "|/sbin/nologin|    995|   /var/lib/chrony|       x|   997|                  |           chrony|\n",
      "+-------------+-------+------------------+--------+------+------------------+-----------------+\n",
      "only showing top 5 rows\n",
      "\n"
     ]
    }
   ],
   "source": [
    "df.orderBy(df.userId.desc()).show(5)"
   ]
  },
  {
   "cell_type": "code",
   "execution_count": 17,
   "metadata": {},
   "outputs": [
    {
     "name": "stdout",
     "output_type": "stream",
     "text": [
      "+------------+-------+------------------+--------+------+-----------------+------------+\n",
      "|commandShell|groupId|     homeDirectory|password|userId|       userIdInfo|    username|\n",
      "+------------+-------+------------------+--------+------+-----------------+------------+\n",
      "|   /bin/bash|   1000|/home/hsiehpinghan|       x|  1000|     hsiehpinghan|hsiehpinghan|\n",
      "|   /bin/bash|      0|             /root|       x|     0|             root|        root|\n",
      "|   /bin/bash|     26|    /var/lib/pgsql|       x|    26|PostgreSQL Server|    postgres|\n",
      "|   /bin/sync|      0|             /sbin|       x|     5|             sync|        sync|\n",
      "|  /sbin/halt|      0|             /sbin|       x|     7|             halt|        halt|\n",
      "+------------+-------+------------------+--------+------+-----------------+------------+\n",
      "only showing top 5 rows\n",
      "\n"
     ]
    }
   ],
   "source": [
    "df.orderBy([\"password\", \"commandShell\"], ascending = [0, 1]).show(5)"
   ]
  },
  {
   "cell_type": "code",
   "execution_count": 18,
   "metadata": {},
   "outputs": [
    {
     "name": "stdout",
     "output_type": "stream",
     "text": [
      "+------------+-------+------------------+--------+------+-----------------+------------+\n",
      "|commandShell|groupId|     homeDirectory|password|userId|       userIdInfo|    username|\n",
      "+------------+-------+------------------+--------+------+-----------------+------------+\n",
      "|   /bin/bash|   1000|/home/hsiehpinghan|       x|  1000|     hsiehpinghan|hsiehpinghan|\n",
      "|   /bin/bash|      0|             /root|       x|     0|             root|        root|\n",
      "|   /bin/bash|     26|    /var/lib/pgsql|       x|    26|PostgreSQL Server|    postgres|\n",
      "|   /bin/sync|      0|             /sbin|       x|     5|             sync|        sync|\n",
      "|  /sbin/halt|      0|             /sbin|       x|     7|             halt|        halt|\n",
      "+------------+-------+------------------+--------+------+-----------------+------------+\n",
      "only showing top 5 rows\n",
      "\n"
     ]
    }
   ],
   "source": [
    "df.orderBy(df.password.desc(), df.commandShell.asc()).show(5)"
   ]
  },
  {
   "cell_type": "markdown",
   "metadata": {},
   "source": [
    "# distinct"
   ]
  },
  {
   "cell_type": "code",
   "execution_count": 19,
   "metadata": {},
   "outputs": [
    {
     "name": "stdout",
     "output_type": "stream",
     "text": [
      "+--------------+\n",
      "|  commandShell|\n",
      "+--------------+\n",
      "| /sbin/nologin|\n",
      "|/sbin/shutdown|\n",
      "|    /sbin/halt|\n",
      "|     /bin/sync|\n",
      "|     /bin/bash|\n",
      "+--------------+\n",
      "\n"
     ]
    }
   ],
   "source": [
    "df.select(\"commandShell\").distinct().show()"
   ]
  },
  {
   "cell_type": "code",
   "execution_count": 20,
   "metadata": {},
   "outputs": [
    {
     "name": "stdout",
     "output_type": "stream",
     "text": [
      "+--------------+\n",
      "|  commandShell|\n",
      "+--------------+\n",
      "| /sbin/nologin|\n",
      "|/sbin/shutdown|\n",
      "|    /sbin/halt|\n",
      "|     /bin/sync|\n",
      "|     /bin/bash|\n",
      "+--------------+\n",
      "\n"
     ]
    }
   ],
   "source": [
    "df.select(df.commandShell).distinct().show()"
   ]
  },
  {
   "cell_type": "markdown",
   "metadata": {},
   "source": [
    "# groupBy"
   ]
  },
  {
   "cell_type": "code",
   "execution_count": 21,
   "metadata": {},
   "outputs": [
    {
     "name": "stdout",
     "output_type": "stream",
     "text": [
      "+--------+-----+\n",
      "|password|count|\n",
      "+--------+-----+\n",
      "|       x|   44|\n",
      "+--------+-----+\n",
      "\n"
     ]
    }
   ],
   "source": [
    "df.select(\"password\").groupBy(\"password\").count().show()"
   ]
  },
  {
   "cell_type": "code",
   "execution_count": 22,
   "metadata": {},
   "outputs": [
    {
     "name": "stdout",
     "output_type": "stream",
     "text": [
      "+--------+-----+\n",
      "|password|count|\n",
      "+--------+-----+\n",
      "|       x|   44|\n",
      "+--------+-----+\n",
      "\n"
     ]
    }
   ],
   "source": [
    "df.select(df.password).groupBy(df.password).count().show()"
   ]
  },
  {
   "cell_type": "markdown",
   "metadata": {},
   "source": [
    "# crosstab"
   ]
  },
  {
   "cell_type": "code",
   "execution_count": 23,
   "metadata": {},
   "outputs": [
    {
     "name": "stdout",
     "output_type": "stream",
     "text": [
      "+---------------------+---+\n",
      "|commandShell_password|  x|\n",
      "+---------------------+---+\n",
      "|        /sbin/nologin| 38|\n",
      "|            /bin/bash|  3|\n",
      "|            /bin/sync|  1|\n",
      "|           /sbin/halt|  1|\n",
      "|       /sbin/shutdown|  1|\n",
      "+---------------------+---+\n",
      "\n"
     ]
    }
   ],
   "source": [
    "df.stat.crosstab(\"commandShell\", \"password\").show(5)"
   ]
  },
  {
   "cell_type": "markdown",
   "metadata": {},
   "source": [
    "# join"
   ]
  },
  {
   "cell_type": "code",
   "execution_count": 24,
   "metadata": {},
   "outputs": [
    {
     "name": "stdout",
     "output_type": "stream",
     "text": [
      "root\n",
      " |-- commandShell: string (nullable = true)\n",
      " |-- groupId: long (nullable = true)\n",
      " |-- homeDirectory: string (nullable = true)\n",
      " |-- password: string (nullable = true)\n",
      " |-- userId: long (nullable = true)\n",
      " |-- userIdInfo: string (nullable = true)\n",
      " |-- username: string (nullable = true)\n",
      " |-- commandShell: string (nullable = true)\n",
      " |-- groupId: long (nullable = true)\n",
      " |-- homeDirectory: string (nullable = true)\n",
      " |-- password: string (nullable = true)\n",
      " |-- userId: long (nullable = true)\n",
      " |-- userIdInfo: string (nullable = true)\n",
      " |-- username: string (nullable = true)\n",
      "\n"
     ]
    }
   ],
   "source": [
    "otherDf = df\n",
    "joinedDf = df.join(otherDf, df.userId == otherDf.userId, \"left_outer\")\n",
    "joinedDf.printSchema()"
   ]
  },
  {
   "cell_type": "markdown",
   "metadata": {},
   "source": [
    "# read csv file"
   ]
  },
  {
   "cell_type": "code",
   "execution_count": 25,
   "metadata": {},
   "outputs": [
    {
     "name": "stdout",
     "output_type": "stream",
     "text": [
      "root\n",
      " |-- stringTypeField: string (nullable = true)\n",
      " |-- booleanTypeField: boolean (nullable = true)\n",
      " |-- dateTypeField: timestamp (nullable = true)\n",
      " |-- timestampTypeField: timestamp (nullable = true)\n",
      " |-- doubleTypeField: double (nullable = true)\n",
      " |-- floatTypeField: double (nullable = true)\n",
      " |-- integerTypeField: integer (nullable = true)\n",
      " |-- longTypeField: integer (nullable = true)\n",
      " |-- shortTypeField: integer (nullable = true)\n",
      "\n",
      "+---------------+----------------+-------------------+-------------------+---------------+--------------+----------------+-------------+--------------+\n",
      "|stringTypeField|booleanTypeField|      dateTypeField| timestampTypeField|doubleTypeField|floatTypeField|integerTypeField|longTypeField|shortTypeField|\n",
      "+---------------+----------------+-------------------+-------------------+---------------+--------------+----------------+-------------+--------------+\n",
      "|       string_0|            true|2001-01-01 00:00:00|2001-01-01 01:01:01|            1.1|           1.1|               1|            1|             1|\n",
      "|       string_2|           false|2002-02-02 00:00:00|2002-02-02 02:02:02|            2.2|           2.2|               2|            2|             2|\n",
      "|       string_0|            true|2003-03-03 00:00:00|2003-03-03 03:03:03|            3.3|           3.3|               3|            3|             3|\n",
      "+---------------+----------------+-------------------+-------------------+---------------+--------------+----------------+-------------+--------------+\n",
      "\n"
     ]
    }
   ],
   "source": [
    "df = sqlContext.read.csv(path=\"/home/hsiehpinghan/git/python/spark-python-2/data/dataFrame/tsvFile.tsv\", header='true', sep=\"\\t\", inferSchema=True)\n",
    "df.printSchema()\n",
    "df.show()"
   ]
  },
  {
   "cell_type": "code",
   "execution_count": 26,
   "metadata": {},
   "outputs": [
    {
     "name": "stdout",
     "output_type": "stream",
     "text": [
      "root\n",
      " |-- stringTypeField: string (nullable = true)\n",
      " |-- booleanTypeField: boolean (nullable = true)\n",
      " |-- dateTypeField: date (nullable = true)\n",
      " |-- timestampTypeField: timestamp (nullable = true)\n",
      " |-- doubleTypeField: double (nullable = true)\n",
      " |-- floatTypeField: float (nullable = true)\n",
      " |-- integerTypeField: integer (nullable = true)\n",
      " |-- longTypeField: long (nullable = true)\n",
      " |-- shortTypeField: short (nullable = true)\n",
      "\n",
      "+---------------+----------------+-------------+-------------------+---------------+--------------+----------------+-------------+--------------+\n",
      "|stringTypeField|booleanTypeField|dateTypeField| timestampTypeField|doubleTypeField|floatTypeField|integerTypeField|longTypeField|shortTypeField|\n",
      "+---------------+----------------+-------------+-------------------+---------------+--------------+----------------+-------------+--------------+\n",
      "|       string_0|            true|   2001-01-01|2001-01-01 01:01:01|            1.1|           1.1|               1|            1|             1|\n",
      "|       string_2|           false|   2002-02-02|2002-02-02 02:02:02|            2.2|           2.2|               2|            2|             2|\n",
      "|       string_0|            true|   2003-03-03|2003-03-03 03:03:03|            3.3|           3.3|               3|            3|             3|\n",
      "+---------------+----------------+-------------+-------------------+---------------+--------------+----------------+-------------+--------------+\n",
      "\n"
     ]
    }
   ],
   "source": [
    "schema = StructType([\n",
    "    StructField(\"stringTypeField\", StringType(), True),\n",
    "    StructField(\"booleanTypeField\", BooleanType(), True),\n",
    "    StructField(\"dateTypeField\", DateType(), True),\n",
    "    StructField(\"timestampTypeField\", TimestampType(), True),\n",
    "    StructField(\"doubleTypeField\", DoubleType(), True),\n",
    "    StructField(\"floatTypeField\", FloatType(), True),\n",
    "    StructField(\"integerTypeField\", IntegerType(), True),\n",
    "    StructField(\"longTypeField\", LongType(), True),\n",
    "    StructField(\"shortTypeField\", ShortType(), True),\n",
    "\n",
    "])\n",
    "df = sqlContext.read.csv(path=\"/home/hsiehpinghan/git/python/spark-python-2/data/dataFrame/tsvFile.tsv\", header='true', sep=\"\\t\", schema=schema)\n",
    "df.printSchema()\n",
    "df.show()"
   ]
  },
  {
   "cell_type": "markdown",
   "metadata": {},
   "source": [
    "# get specific columns"
   ]
  },
  {
   "cell_type": "code",
   "execution_count": 27,
   "metadata": {},
   "outputs": [
    {
     "data": {
      "text/plain": [
       "['integerTypeField']"
      ]
     },
     "execution_count": 27,
     "metadata": {},
     "output_type": "execute_result"
    }
   ],
   "source": [
    "filter(lambda col : col == \"integerTypeField\", df.columns)"
   ]
  }
 ],
 "metadata": {
  "kernelspec": {
   "display_name": "Python 2",
   "language": "python",
   "name": "python2"
  },
  "language_info": {
   "codemirror_mode": {
    "name": "ipython",
    "version": 2
   },
   "file_extension": ".py",
   "mimetype": "text/x-python",
   "name": "python",
   "nbconvert_exporter": "python",
   "pygments_lexer": "ipython2",
   "version": "2.7.15"
  }
 },
 "nbformat": 4,
 "nbformat_minor": 2
}
