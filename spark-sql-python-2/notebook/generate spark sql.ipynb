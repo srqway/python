{
 "cells": [
  {
   "cell_type": "code",
   "execution_count": 1,
   "metadata": {},
   "outputs": [],
   "source": [
    "from pyspark.sql import SQLContext\n",
    "from pyspark.sql import Row"
   ]
  },
  {
   "cell_type": "markdown",
   "metadata": {},
   "source": [
    "# generate RDD"
   ]
  },
  {
   "cell_type": "code",
   "execution_count": 2,
   "metadata": {},
   "outputs": [
    {
     "data": {
      "text/plain": [
       "[[u'root', u'x', u'0', u'0', u'root', u'/root', u'/bin/bash'],\n",
       " [u'bin', u'x', u'1', u'1', u'bin', u'/bin', u'/sbin/nologin'],\n",
       " [u'daemon', u'x', u'2', u'2', u'daemon', u'/sbin', u'/sbin/nologin'],\n",
       " [u'adm', u'x', u'3', u'4', u'adm', u'/var/adm', u'/sbin/nologin'],\n",
       " [u'lp', u'x', u'4', u'7', u'lp', u'/var/spool/lpd', u'/sbin/nologin']]"
      ]
     },
     "execution_count": 2,
     "metadata": {},
     "output_type": "execute_result"
    }
   ],
   "source": [
    "localFile = sc.textFile(\"file:///etc/passwd\")\n",
    "rdd = localFile.map(lambda line : line.split(\":\"))\n",
    "rdd.take(5)"
   ]
  },
  {
   "cell_type": "markdown",
   "metadata": {},
   "source": [
    "# generate DataFrame"
   ]
  },
  {
   "cell_type": "code",
   "execution_count": 3,
   "metadata": {},
   "outputs": [
    {
     "data": {
      "text/plain": [
       "[Row(commandShell=u'/bin/bash', groupId=0, homeDirectory=u'/root', password=u'x', userId=0, userIdInfo=u'root', username=u'root'),\n",
       " Row(commandShell=u'/sbin/nologin', groupId=1, homeDirectory=u'/bin', password=u'x', userId=1, userIdInfo=u'bin', username=u'bin'),\n",
       " Row(commandShell=u'/sbin/nologin', groupId=2, homeDirectory=u'/sbin', password=u'x', userId=2, userIdInfo=u'daemon', username=u'daemon'),\n",
       " Row(commandShell=u'/sbin/nologin', groupId=4, homeDirectory=u'/var/adm', password=u'x', userId=3, userIdInfo=u'adm', username=u'adm'),\n",
       " Row(commandShell=u'/sbin/nologin', groupId=7, homeDirectory=u'/var/spool/lpd', password=u'x', userId=4, userIdInfo=u'lp', username=u'lp')]"
      ]
     },
     "execution_count": 3,
     "metadata": {},
     "output_type": "execute_result"
    }
   ],
   "source": [
    "rows = rdd.map(lambda t : \n",
    "    Row(\n",
    "        username = t[0],\n",
    "        password = t[1],\n",
    "        userId = int(t[2]),\n",
    "        groupId = int(t[3]),\n",
    "        userIdInfo = t[4],\n",
    "        homeDirectory = t[5],\n",
    "        commandShell = t[6]\n",
    "    )\n",
    ")\n",
    "rows.take(5)"
   ]
  },
  {
   "cell_type": "code",
   "execution_count": 4,
   "metadata": {},
   "outputs": [
    {
     "name": "stdout",
     "output_type": "stream",
     "text": [
      "root\n",
      " |-- commandShell: string (nullable = true)\n",
      " |-- groupId: long (nullable = true)\n",
      " |-- homeDirectory: string (nullable = true)\n",
      " |-- password: string (nullable = true)\n",
      " |-- userId: long (nullable = true)\n",
      " |-- userIdInfo: string (nullable = true)\n",
      " |-- username: string (nullable = true)\n",
      "\n"
     ]
    }
   ],
   "source": [
    "sqlContext = SQLContext(sc)\n",
    "df = sqlContext.createDataFrame(rows)\n",
    "df.printSchema()"
   ]
  },
  {
   "cell_type": "code",
   "execution_count": 5,
   "metadata": {},
   "outputs": [
    {
     "name": "stdout",
     "output_type": "stream",
     "text": [
      "+-------------+-------+--------------+--------+------+----------+--------+\n",
      "| commandShell|groupId| homeDirectory|password|userId|userIdInfo|username|\n",
      "+-------------+-------+--------------+--------+------+----------+--------+\n",
      "|    /bin/bash|      0|         /root|       x|     0|      root|    root|\n",
      "|/sbin/nologin|      1|          /bin|       x|     1|       bin|     bin|\n",
      "|/sbin/nologin|      2|         /sbin|       x|     2|    daemon|  daemon|\n",
      "|/sbin/nologin|      4|      /var/adm|       x|     3|       adm|     adm|\n",
      "|/sbin/nologin|      7|/var/spool/lpd|       x|     4|        lp|      lp|\n",
      "+-------------+-------+--------------+--------+------+----------+--------+\n",
      "only showing top 5 rows\n",
      "\n"
     ]
    }
   ],
   "source": [
    "df.show(5)"
   ]
  },
  {
   "cell_type": "markdown",
   "metadata": {},
   "source": [
    "# generate spark sql"
   ]
  },
  {
   "cell_type": "code",
   "execution_count": 8,
   "metadata": {},
   "outputs": [
    {
     "name": "stdout",
     "output_type": "stream",
     "text": [
      "+-------------+-------+--------------+--------+------+----------+--------+\n",
      "| commandShell|groupId| homeDirectory|password|userId|userIdInfo|username|\n",
      "+-------------+-------+--------------+--------+------+----------+--------+\n",
      "|    /bin/bash|      0|         /root|       x|     0|      root|    root|\n",
      "|/sbin/nologin|      1|          /bin|       x|     1|       bin|     bin|\n",
      "|/sbin/nologin|      2|         /sbin|       x|     2|    daemon|  daemon|\n",
      "|/sbin/nologin|      4|      /var/adm|       x|     3|       adm|     adm|\n",
      "|/sbin/nologin|      7|/var/spool/lpd|       x|     4|        lp|      lp|\n",
      "+-------------+-------+--------------+--------+------+----------+--------+\n",
      "\n"
     ]
    }
   ],
   "source": [
    "df.registerTempTable(\"my_table\")\n",
    "df = sqlContext.sql(\"SELECT * FROM my_table LIMIT 5\")\n",
    "df.show()"
   ]
  },
  {
   "cell_type": "code",
   "execution_count": 10,
   "metadata": {},
   "outputs": [
    {
     "name": "stdout",
     "output_type": "stream",
     "text": [
      "== Parsed Logical Plan ==\n",
      "'GlobalLimit 5\n",
      "+- 'LocalLimit 5\n",
      "   +- 'Project [*]\n",
      "      +- 'UnresolvedRelation `my_table`\n",
      "\n",
      "== Analyzed Logical Plan ==\n",
      "commandShell: string, groupId: bigint, homeDirectory: string, password: string, userId: bigint, userIdInfo: string, username: string\n",
      "GlobalLimit 5\n",
      "+- LocalLimit 5\n",
      "   +- Project [commandShell#0, groupId#1L, homeDirectory#2, password#3, userId#4L, userIdInfo#5, username#6]\n",
      "      +- SubqueryAlias my_table\n",
      "         +- LogicalRDD [commandShell#0, groupId#1L, homeDirectory#2, password#3, userId#4L, userIdInfo#5, username#6], false\n",
      "\n",
      "== Optimized Logical Plan ==\n",
      "GlobalLimit 5\n",
      "+- LocalLimit 5\n",
      "   +- LogicalRDD [commandShell#0, groupId#1L, homeDirectory#2, password#3, userId#4L, userIdInfo#5, username#6], false\n",
      "\n",
      "== Physical Plan ==\n",
      "CollectLimit 5\n",
      "+- *(1) LocalLimit 5\n",
      "   +- Scan ExistingRDD[commandShell#0,groupId#1L,homeDirectory#2,password#3,userId#4L,userIdInfo#5,username#6]\n"
     ]
    }
   ],
   "source": [
    "df.explain(extended=True)"
   ]
  }
 ],
 "metadata": {
  "kernelspec": {
   "display_name": "Python 2",
   "language": "python",
   "name": "python2"
  },
  "language_info": {
   "codemirror_mode": {
    "name": "ipython",
    "version": 2
   },
   "file_extension": ".py",
   "mimetype": "text/x-python",
   "name": "python",
   "nbconvert_exporter": "python",
   "pygments_lexer": "ipython2",
   "version": "2.7.15"
  }
 },
 "nbformat": 4,
 "nbformat_minor": 2
}
