{
 "cells": [
  {
   "cell_type": "code",
   "execution_count": 8,
   "metadata": {},
   "outputs": [],
   "source": [
    "import numpy as np\n",
    "import matplotlib.pyplot as plt\n",
    "from scipy import stats"
   ]
  },
  {
   "cell_type": "markdown",
   "metadata": {},
   "source": [
    "# z-score"
   ]
  },
  {
   "cell_type": "code",
   "execution_count": 5,
   "metadata": {},
   "outputs": [
    {
     "data": {
      "text/plain": [
       "array([34., 68., 36., 54., 65., 35., 58., 36., 46., 64., 50., 55., 57.,\n",
       "       58., 55., 50., 52., 36., 52., 57., 55., 51., 54., 54., 74., 58.,\n",
       "       56., 49., 61., 45., 65., 49., 37., 54., 47., 59., 60., 50., 43.,\n",
       "       43., 53., 48., 54., 33., 45., 42., 65., 69., 58., 44., 61., 62.,\n",
       "       36., 39., 46., 49., 75., 57., 41., 31.])"
      ]
     },
     "execution_count": 5,
     "metadata": {},
     "output_type": "execute_result"
    }
   ],
   "source": [
    "data = np.random.normal(50, 10, 60).round()\n",
    "data"
   ]
  },
  {
   "cell_type": "code",
   "execution_count": 16,
   "metadata": {},
   "outputs": [
    {
     "data": {
      "image/png": "[encoded data removed]",
      "text/plain": [
       "<Figure size 432x288 with 1 Axes>"
      ]
     },
     "metadata": {},
     "output_type": "display_data"
    }
   ],
   "source": [
    "plt.hist(data, 30)\n",
    "plt.show()"
   ]
  },
  {
   "cell_type": "code",
   "execution_count": 12,
   "metadata": {},
   "outputs": [
    {
     "data": {
      "text/plain": [
       "array([-1.69668512,  1.59973169, -1.50277825,  0.24238359,  1.30887138,\n",
       "       -1.59973169,  0.63019733, -1.50277825, -0.5332439 ,  1.21191794,\n",
       "       -0.14543015,  0.33933702,  0.5332439 ,  0.63019733,  0.33933702,\n",
       "       -0.14543015,  0.04847672, -1.50277825,  0.04847672,  0.5332439 ,\n",
       "        0.33933702, -0.04847672,  0.24238359,  0.24238359,  2.1814523 ,\n",
       "        0.63019733,  0.43629046, -0.24238359,  0.92105764, -0.63019733,\n",
       "        1.30887138, -0.24238359, -1.40582482,  0.24238359, -0.43629046,\n",
       "        0.72715077,  0.8241042 , -0.14543015, -0.8241042 , -0.8241042 ,\n",
       "        0.14543015, -0.33933702,  0.24238359, -1.79363856, -0.63019733,\n",
       "       -0.92105764,  1.30887138,  1.69668512,  0.63019733, -0.72715077,\n",
       "        0.92105764,  1.01801107, -1.50277825, -1.21191794, -0.5332439 ,\n",
       "       -0.24238359,  2.27840574,  0.5332439 , -1.01801107, -1.98754543])"
      ]
     },
     "execution_count": 12,
     "metadata": {},
     "output_type": "execute_result"
    }
   ],
   "source": [
    "z_score = stats.zscore(data)\n",
    "z_score"
   ]
  },
  {
   "cell_type": "code",
   "execution_count": 15,
   "metadata": {},
   "outputs": [
    {
     "data": {
      "image/png": "[encoded data removed]",
      "text/plain": [
       "<Figure size 432x288 with 1 Axes>"
      ]
     },
     "metadata": {},
     "output_type": "display_data"
    }
   ],
   "source": [
    "plt.hist(z_score, 30)\n",
    "plt.show()"
   ]
  },
  {
   "cell_type": "markdown",
   "metadata": {},
   "source": [
    "# cumulative distribution function"
   ]
  },
  {
   "cell_type": "code",
   "execution_count": 23,
   "metadata": {},
   "outputs": [
    {
     "data": {
      "text/plain": [
       "0.9750021048517795"
      ]
     },
     "execution_count": 23,
     "metadata": {},
     "output_type": "execute_result"
    }
   ],
   "source": [
    "stats.norm.cdf(1.96)"
   ]
  },
  {
   "cell_type": "markdown",
   "metadata": {},
   "source": [
    "# percent point function"
   ]
  },
  {
   "cell_type": "code",
   "execution_count": 25,
   "metadata": {},
   "outputs": [
    {
     "data": {
      "text/plain": [
       "1.959999999999999"
      ]
     },
     "execution_count": 25,
     "metadata": {},
     "output_type": "execute_result"
    }
   ],
   "source": [
    "stats.norm.ppf(0.9750021048517795)"
   ]
  }
 ],
 "metadata": {
  "kernelspec": {
   "display_name": "Python 3",
   "language": "python",
   "name": "python3"
  },
  "language_info": {
   "codemirror_mode": {
    "name": "ipython",
    "version": 3
   },
   "file_extension": ".py",
   "mimetype": "text/x-python",
   "name": "python",
   "nbconvert_exporter": "python",
   "pygments_lexer": "ipython3",
   "version": "3.6.5"
  }
 },
 "nbformat": 4,
 "nbformat_minor": 2
}
