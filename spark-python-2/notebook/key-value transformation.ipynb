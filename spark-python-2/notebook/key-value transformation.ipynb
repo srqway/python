{
 "cells": [
  {
   "cell_type": "markdown",
   "metadata": {},
   "source": [
    "# keys"
   ]
  },
  {
   "cell_type": "code",
   "execution_count": 1,
   "metadata": {},
   "outputs": [
    {
     "data": {
      "text/plain": [
       "[0, 1, 2, 3, 4]"
      ]
     },
     "execution_count": 1,
     "metadata": {},
     "output_type": "execute_result"
    }
   ],
   "source": [
    "kvRDD = sc.parallelize([(0, \"a\"), (1, \"b\"), (2, \"c\"), (3, \"d\"), (4, \"e\")])\n",
    "kvRDD.keys().collect()"
   ]
  },
  {
   "cell_type": "markdown",
   "metadata": {},
   "source": [
    "# values"
   ]
  },
  {
   "cell_type": "code",
   "execution_count": 2,
   "metadata": {},
   "outputs": [
    {
     "data": {
      "text/plain": [
       "['a', 'b', 'c', 'd', 'e']"
      ]
     },
     "execution_count": 2,
     "metadata": {},
     "output_type": "execute_result"
    }
   ],
   "source": [
    "kvRDD = sc.parallelize([(0, \"a\"), (1, \"b\"), (2, \"c\"), (3, \"d\"), (4, \"e\")])\n",
    "kvRDD.values().collect()"
   ]
  },
  {
   "cell_type": "markdown",
   "metadata": {},
   "source": [
    "# filter"
   ]
  },
  {
   "cell_type": "code",
   "execution_count": 3,
   "metadata": {},
   "outputs": [
    {
     "data": {
      "text/plain": [
       "[(0, 'a'), (2, 'c'), (4, 'e')]"
      ]
     },
     "execution_count": 3,
     "metadata": {},
     "output_type": "execute_result"
    }
   ],
   "source": [
    "kvRDD = sc.parallelize([(0, \"a\"), (1, \"b\"), (2, \"c\"), (3, \"d\"), (4, \"e\")])\n",
    "kvRDD.filter(lambda kv : kv[0] % 2 == 0).collect()"
   ]
  },
  {
   "cell_type": "markdown",
   "metadata": {},
   "source": [
    "#  mapValues"
   ]
  },
  {
   "cell_type": "code",
   "execution_count": 4,
   "metadata": {},
   "outputs": [
    {
     "data": {
      "text/plain": [
       "[(0, 'az'), (1, 'bz'), (2, 'cz'), (3, 'dz'), (4, 'ez')]"
      ]
     },
     "execution_count": 4,
     "metadata": {},
     "output_type": "execute_result"
    }
   ],
   "source": [
    "kvRDD = sc.parallelize([(0, \"a\"), (1, \"b\"), (2, \"c\"), (3, \"d\"), (4, \"e\")])\n",
    "kvRDD.mapValues(lambda v : v + \"z\").collect()"
   ]
  },
  {
   "cell_type": "markdown",
   "metadata": {},
   "source": [
    "# sortByKey"
   ]
  },
  {
   "cell_type": "code",
   "execution_count": 5,
   "metadata": {},
   "outputs": [
    {
     "name": "stdout",
     "output_type": "stream",
     "text": [
      "[(0, 'a'), (1, 'b'), (2, 'c'), (3, 'd'), (4, 'e')]\n",
      "[(4, 'e'), (3, 'd'), (2, 'c'), (1, 'b'), (0, 'a')]\n"
     ]
    }
   ],
   "source": [
    "kvRDD = sc.parallelize([(4, \"e\"), (1, \"b\"), (3, \"d\"), (2, \"c\"), (0, \"a\")])\n",
    "print(kvRDD.sortByKey().collect())\n",
    "print(kvRDD.sortByKey(ascending=False).collect())"
   ]
  },
  {
   "cell_type": "markdown",
   "metadata": {},
   "source": [
    "# reduceByKey"
   ]
  },
  {
   "cell_type": "code",
   "execution_count": 6,
   "metadata": {},
   "outputs": [
    {
     "data": {
      "text/plain": [
       "[(0, 'acd'), (1, 'be')]"
      ]
     },
     "execution_count": 6,
     "metadata": {},
     "output_type": "execute_result"
    }
   ],
   "source": [
    "kvRDD = sc.parallelize([(0, \"a\"), (1, \"b\"), (0, \"c\"), (0, \"d\"), (1, \"e\")])\n",
    "kvRDD.reduceByKey(lambda v_0, v_1 : v_0 + v_1).collect()"
   ]
  },
  {
   "cell_type": "markdown",
   "metadata": {},
   "source": [
    "# join"
   ]
  },
  {
   "cell_type": "code",
   "execution_count": 7,
   "metadata": {},
   "outputs": [
    {
     "data": {
      "text/plain": [
       "[(2, ('c', 'c')), (1, ('b', 'b'))]"
      ]
     },
     "execution_count": 7,
     "metadata": {},
     "output_type": "execute_result"
    }
   ],
   "source": [
    "kvRDD_0 = sc.parallelize([(0, \"a\"), (1, \"b\"), (2, \"c\")])\n",
    "kvRDD_1 = sc.parallelize([(1, \"b\"), (2, \"c\"), (3, \"d\")])\n",
    "kvRDD_0.join(kvRDD_1).collect()"
   ]
  },
  {
   "cell_type": "markdown",
   "metadata": {},
   "source": [
    "# leftOuterJoin"
   ]
  },
  {
   "cell_type": "code",
   "execution_count": 8,
   "metadata": {},
   "outputs": [
    {
     "data": {
      "text/plain": [
       "[(0, ('a', None)), (2, ('c', 'c')), (1, ('b', 'b'))]"
      ]
     },
     "execution_count": 8,
     "metadata": {},
     "output_type": "execute_result"
    }
   ],
   "source": [
    "kvRDD_0 = sc.parallelize([(0, \"a\"), (1, \"b\"), (2, \"c\")])\n",
    "kvRDD_1 = sc.parallelize([(1, \"b\"), (2, \"c\"), (3, \"d\")])\n",
    "kvRDD_0.leftOuterJoin(kvRDD_1).collect()"
   ]
  },
  {
   "cell_type": "markdown",
   "metadata": {},
   "source": [
    "# subtractByKey"
   ]
  },
  {
   "cell_type": "code",
   "execution_count": 9,
   "metadata": {},
   "outputs": [
    {
     "data": {
      "text/plain": [
       "[(0, 'a')]"
      ]
     },
     "execution_count": 9,
     "metadata": {},
     "output_type": "execute_result"
    }
   ],
   "source": [
    "kvRDD_0 = sc.parallelize([(0, \"a\"), (1, \"b\"), (2, \"c\")])\n",
    "kvRDD_1 = sc.parallelize([(1, \"b\"), (2, \"c\"), (3, \"d\")])\n",
    "kvRDD_0.subtractByKey(kvRDD_1).collect()"
   ]
  }
 ],
 "metadata": {
  "kernelspec": {
   "display_name": "Python 2",
   "language": "python",
   "name": "python2"
  },
  "language_info": {
   "codemirror_mode": {
    "name": "ipython",
    "version": 2
   },
   "file_extension": ".py",
   "mimetype": "text/x-python",
   "name": "python",
   "nbconvert_exporter": "python",
   "pygments_lexer": "ipython2",
   "version": "2.7.14"
  }
 },
 "nbformat": 4,
 "nbformat_minor": 2
}
