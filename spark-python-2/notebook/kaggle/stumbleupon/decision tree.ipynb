{
 "cells": [
  {
   "cell_type": "code",
   "execution_count": 1,
   "metadata": {},
   "outputs": [],
   "source": [
    "from pyspark.sql import SQLContext\n",
    "from pyspark.sql import Row\n",
    "from pyspark.ml.feature import StringIndexer\n",
    "from pyspark.ml.feature import OneHotEncoderEstimator\n",
    "from pyspark.ml.feature import VectorAssembler\n",
    "from pyspark.mllib.linalg import Vectors\n",
    "from pyspark.mllib.regression import LabeledPoint\n",
    "from pyspark.mllib.tree import DecisionTree\n",
    "from pyspark.mllib.evaluation import BinaryClassificationMetrics\n",
    "from time import time\n",
    "import pandas as pd"
   ]
  },
  {
   "cell_type": "markdown",
   "metadata": {},
   "source": [
    "# load data"
   ]
  },
  {
   "cell_type": "code",
   "execution_count": 2,
   "metadata": {},
   "outputs": [],
   "source": [
    "rowRdd = sc.textFile(\"/home/hsiehpinghan/git/python/spark-python-2/data/kaggle/stumbleupon/train.tsv\")"
   ]
  },
  {
   "cell_type": "code",
   "execution_count": 3,
   "metadata": {},
   "outputs": [
    {
     "data": {
      "text/plain": [
       "[u'url',\n",
       " u'urlid',\n",
       " u'boilerplate',\n",
       " u'alchemy_category',\n",
       " u'alchemy_category_score',\n",
       " u'avglinksize',\n",
       " u'commonlinkratio_1',\n",
       " u'commonlinkratio_2',\n",
       " u'commonlinkratio_3',\n",
       " u'commonlinkratio_4',\n",
       " u'compression_ratio',\n",
       " u'embed_ratio',\n",
       " u'framebased',\n",
       " u'frameTagRatio',\n",
       " u'hasDomainLink',\n",
       " u'html_ratio',\n",
       " u'image_ratio',\n",
       " u'is_news',\n",
       " u'lengthyLinkDomain',\n",
       " u'linkwordscore',\n",
       " u'news_front_page',\n",
       " u'non_markup_alphanum_characters',\n",
       " u'numberOfLinks',\n",
       " u'numwords_in_url',\n",
       " u'parametrizedLinkRatio',\n",
       " u'spelling_errors_ratio',\n",
       " u'label']"
      ]
     },
     "execution_count": 3,
     "metadata": {},
     "output_type": "execute_result"
    }
   ],
   "source": [
    "headerRow = rowRdd.first()\n",
    "headerRowColList = headerRow.replace(\"\\\"\", \"\").split(\"\\t\")\n",
    "headerRowColList"
   ]
  },
  {
   "cell_type": "code",
   "execution_count": 4,
   "metadata": {},
   "outputs": [],
   "source": [
    "rowRddColList = rowRdd \\\n",
    "    .filter(lambda row : row != headerRow) \\\n",
    "    .map(lambda row : row.replace(\"\\\"\", \"\")) \\\n",
    "    .map(lambda row : row.split(\"\\t\"))"
   ]
  },
  {
   "cell_type": "markdown",
   "metadata": {},
   "source": [
    "# data cleaning"
   ]
  },
  {
   "cell_type": "code",
   "execution_count": 5,
   "metadata": {},
   "outputs": [
    {
     "data": {
      "text/plain": [
       "[Row(alchemy_category=u'business', alchemy_category_score=0.789131, avglinksize=2.055555556, commonlinkratio_1=0.676470588, commonlinkratio_2=0.205882353, commonlinkratio_3=0.047058824, commonlinkratio_4=0.023529412, compression_ratio=0.443783175, embed_ratio=0.0, frameTagRatio=0.09077381, framebased=0, hasDomainLink=0, html_ratio=0.245831182, image_ratio=0.003883495, is_news=1, label=0, lengthyLinkDomain=1, linkwordscore=24.0, news_front_page=0, non_markup_alphanum_characters=5424, numberOfLinks=170, numwords_in_url=8.0, parametrizedLinkRatio=0.152941176, spelling_errors_ratio=0.079129575)]"
      ]
     },
     "execution_count": 5,
     "metadata": {},
     "output_type": "execute_result"
    }
   ],
   "source": [
    "rowRddColList = rowRddColList \\\n",
    "    .map(lambda colList : \\\n",
    "        map(lambda col : None if col == \"?\" else col, colList)\n",
    "    )\n",
    "rowRddRow = rowRddColList.map(lambda colList : \n",
    "    Row(\n",
    "        alchemy_category = colList[3],\n",
    "        alchemy_category_score = float(colList[4]) if colList[4] else 0.0,\n",
    "        avglinksize = float(colList[5]) if colList[5] else 0.0,\n",
    "        commonlinkratio_1 = float(colList[6]) if colList[6] else 0.0,\n",
    "        commonlinkratio_2 = float(colList[7]) if colList[7] else 0.0,\n",
    "        commonlinkratio_3 = float(colList[8]) if colList[8] else 0.0,\n",
    "        commonlinkratio_4 = float(colList[9]) if colList[9] else 0.0,\n",
    "        compression_ratio = float(colList[10]) if colList[10] else 0.0,\n",
    "        embed_ratio = float(colList[11]) if colList[11] else 0.0,\n",
    "        framebased = int(colList[12]) if colList[12] else 0,\n",
    "        frameTagRatio = float(colList[13]) if colList[13] else 0.0,\n",
    "        hasDomainLink = int(colList[14]) if colList[14] else 0,\n",
    "        html_ratio = float(colList[15]) if colList[15] else 0.0,\n",
    "        image_ratio = float(colList[16]) if colList[16] else 0.0,\n",
    "        is_news = int(colList[17]) if colList[17] else 0,\n",
    "        lengthyLinkDomain = int(colList[18]) if colList[18] else 0,\n",
    "        linkwordscore = float(colList[19]) if colList[19] else 0.0,\n",
    "        news_front_page = int(colList[20]) if colList[20] else 0,\n",
    "        non_markup_alphanum_characters = int(colList[21]) if colList[21] else 0,\n",
    "        numberOfLinks = int(colList[22]) if colList[22] else 0,\n",
    "        numwords_in_url = float(colList[23]) if colList[23] else 0.0,\n",
    "        parametrizedLinkRatio = float(colList[24]) if colList[24] else 0.0,\n",
    "        spelling_errors_ratio = float(colList[25]) if colList[25] else 0.0,\n",
    "        label = int(colList[26]) if colList[26] else 0,\n",
    "    )\n",
    ")\n",
    "rowRddRow.take(1)"
   ]
  },
  {
   "cell_type": "markdown",
   "metadata": {},
   "source": [
    "# extract feature"
   ]
  },
  {
   "cell_type": "code",
   "execution_count": 6,
   "metadata": {},
   "outputs": [
    {
     "name": "stdout",
     "output_type": "stream",
     "text": [
      "+----------------+----------------------+-----------+-----------------+-----------------+-----------------+-----------------+-----------------+-----------+-------------+----------+-------------+-----------+-----------+-------+-----+-----------------+-------------+---------------+------------------------------+-------------+---------------+---------------------+---------------------+\n",
      "|alchemy_category|alchemy_category_score|avglinksize|commonlinkratio_1|commonlinkratio_2|commonlinkratio_3|commonlinkratio_4|compression_ratio|embed_ratio|frameTagRatio|framebased|hasDomainLink| html_ratio|image_ratio|is_news|label|lengthyLinkDomain|linkwordscore|news_front_page|non_markup_alphanum_characters|numberOfLinks|numwords_in_url|parametrizedLinkRatio|spelling_errors_ratio|\n",
      "+----------------+----------------------+-----------+-----------------+-----------------+-----------------+-----------------+-----------------+-----------+-------------+----------+-------------+-----------+-----------+-------+-----+-----------------+-------------+---------------+------------------------------+-------------+---------------+---------------------+---------------------+\n",
      "|        business|              0.789131|2.055555556|      0.676470588|      0.205882353|      0.047058824|      0.023529412|      0.443783175|        0.0|   0.09077381|         0|            0|0.245831182|0.003883495|      1|    0|                1|         24.0|              0|                          5424|          170|            8.0|          0.152941176|          0.079129575|\n",
      "+----------------+----------------------+-----------+-----------------+-----------------+-----------------+-----------------+-----------------+-----------+-------------+----------+-------------+-----------+-----------+-------+-----+-----------------+-------------+---------------+------------------------------+-------------+---------------+---------------------+---------------------+\n",
      "only showing top 1 row\n",
      "\n"
     ]
    }
   ],
   "source": [
    "trainDf = spark.createDataFrame(rowRddRow)\n",
    "trainDf.show(1)"
   ]
  },
  {
   "cell_type": "code",
   "execution_count": 7,
   "metadata": {},
   "outputs": [
    {
     "name": "stdout",
     "output_type": "stream",
     "text": [
      "+----------------+----------------------+-----------+-----------------+-----------------+-----------------+-----------------+-----------------+-----------+-------------+----------+-------------+-----------+-----------+-------+-----+-----------------+-------------+---------------+------------------------------+-------------+---------------+---------------------+---------------------+----------------------+\n",
      "|alchemy_category|alchemy_category_score|avglinksize|commonlinkratio_1|commonlinkratio_2|commonlinkratio_3|commonlinkratio_4|compression_ratio|embed_ratio|frameTagRatio|framebased|hasDomainLink| html_ratio|image_ratio|is_news|label|lengthyLinkDomain|linkwordscore|news_front_page|non_markup_alphanum_characters|numberOfLinks|numwords_in_url|parametrizedLinkRatio|spelling_errors_ratio|alchemy_category_index|\n",
      "+----------------+----------------------+-----------+-----------------+-----------------+-----------------+-----------------+-----------------+-----------+-------------+----------+-------------+-----------+-----------+-------+-----+-----------------+-------------+---------------+------------------------------+-------------+---------------+---------------------+---------------------+----------------------+\n",
      "|        business|              0.789131|2.055555556|      0.676470588|      0.205882353|      0.047058824|      0.023529412|      0.443783175|        0.0|   0.09077381|         0|            0|0.245831182|0.003883495|      1|    0|                1|         24.0|              0|                          5424|          170|            8.0|          0.152941176|          0.079129575|                   2.0|\n",
      "+----------------+----------------------+-----------+-----------------+-----------------+-----------------+-----------------+-----------------+-----------+-------------+----------+-------------+-----------+-----------+-------+-----+-----------------+-------------+---------------+------------------------------+-------------+---------------+---------------------+---------------------+----------------------+\n",
      "only showing top 1 row\n",
      "\n"
     ]
    }
   ],
   "source": [
    "alchemy_category_index = \"alchemy_category_index\"\n",
    "alchemyCategoryStringIndexer = StringIndexer(inputCol=\"alchemy_category\", outputCol=alchemy_category_index)\n",
    "alchemyCategoryStringIndexerModel = alchemyCategoryStringIndexer.setHandleInvalid(\"keep\").fit(trainDf)\n",
    "indexedTrainDf = alchemyCategoryStringIndexerModel.transform(trainDf)\n",
    "indexedTrainDf.show(1)"
   ]
  },
  {
   "cell_type": "code",
   "execution_count": 8,
   "metadata": {},
   "outputs": [
    {
     "name": "stdout",
     "output_type": "stream",
     "text": [
      "+----------------+----------------------+-----------+-----------------+-----------------+-----------------+-----------------+-----------------+-----------+-------------+----------+-------------+-----------+-----------+-------+-----+-----------------+-------------+---------------+------------------------------+-------------+---------------+---------------------+---------------------+----------------------+----------------------------+\n",
      "|alchemy_category|alchemy_category_score|avglinksize|commonlinkratio_1|commonlinkratio_2|commonlinkratio_3|commonlinkratio_4|compression_ratio|embed_ratio|frameTagRatio|framebased|hasDomainLink| html_ratio|image_ratio|is_news|label|lengthyLinkDomain|linkwordscore|news_front_page|non_markup_alphanum_characters|numberOfLinks|numwords_in_url|parametrizedLinkRatio|spelling_errors_ratio|alchemy_category_index|alchemy_category_one_hot_vec|\n",
      "+----------------+----------------------+-----------+-----------------+-----------------+-----------------+-----------------+-----------------+-----------+-------------+----------+-------------+-----------+-----------+-------+-----+-----------------+-------------+---------------+------------------------------+-------------+---------------+---------------------+---------------------+----------------------+----------------------------+\n",
      "|        business|              0.789131|2.055555556|      0.676470588|      0.205882353|      0.047058824|      0.023529412|      0.443783175|        0.0|   0.09077381|         0|            0|0.245831182|0.003883495|      1|    0|                1|         24.0|              0|                          5424|          170|            8.0|          0.152941176|          0.079129575|                   2.0|              (14,[2],[1.0])|\n",
      "+----------------+----------------------+-----------+-----------------+-----------------+-----------------+-----------------+-----------------+-----------+-------------+----------+-------------+-----------+-----------+-------+-----+-----------------+-------------+---------------+------------------------------+-------------+---------------+---------------------+---------------------+----------------------+----------------------------+\n",
      "only showing top 1 row\n",
      "\n"
     ]
    }
   ],
   "source": [
    "alchemy_category_one_hot_vec = \"alchemy_category_one_hot_vec\"\n",
    "oneHotEncoderEstimator = OneHotEncoderEstimator(inputCols=[alchemy_category_index],\n",
    "                                 outputCols=[alchemy_category_one_hot_vec])\n",
    "oneHotEncoderModel = oneHotEncoderEstimator.setHandleInvalid(\"keep\").fit(indexedTrainDf)\n",
    "oneHoteddDf = oneHotEncoderModel.transform(indexedTrainDf)\n",
    "oneHoteddDf.show(1)"
   ]
  },
  {
   "cell_type": "code",
   "execution_count": 9,
   "metadata": {},
   "outputs": [
    {
     "data": {
      "text/plain": [
       "[LabeledPoint(0.0, (36,[0,1,2,3,4,5,6,8,11,12,13,14,15,17,18,19,20,21,24],[0.789131,2.055555556,0.676470588,0.205882353,0.047058824,0.023529412,0.443783175,0.09077381,0.245831182,0.003883495,1.0,1.0,24.0,5424.0,170.0,8.0,0.152941176,0.079129575,1.0]))]"
      ]
     },
     "execution_count": 9,
     "metadata": {},
     "output_type": "execute_result"
    }
   ],
   "source": [
    "vectorAssembler = VectorAssembler(\n",
    "    inputCols=filter(lambda col : col not in [\"label\", \"alchemy_category\", \"alchemy_category_index\"], oneHoteddDf.columns),\n",
    "    outputCol=\"features\")\n",
    "\n",
    "vectorAssembledDf = vectorAssembler.transform(oneHoteddDf)\n",
    "labeledPointRdd = vectorAssembledDf.select(\"features\", \"label\").rdd.map(lambda row : LabeledPoint(row.label, Vectors.fromML(row.features)))\n",
    "labeledPointRdd.take(1)"
   ]
  },
  {
   "cell_type": "markdown",
   "metadata": {},
   "source": [
    "# training"
   ]
  },
  {
   "cell_type": "code",
   "execution_count": 10,
   "metadata": {},
   "outputs": [
    {
     "data": {
      "text/plain": [
       "PythonRDD[36] at RDD at PythonRDD.scala:48"
      ]
     },
     "execution_count": 10,
     "metadata": {},
     "output_type": "execute_result"
    }
   ],
   "source": [
    "(trainLabeledPointRdd, validationLabeledPointRdd, testLabeledPointRdd) = labeledPointRdd.randomSplit([8, 1, 1])\n",
    "trainLabeledPointRdd.persist()\n",
    "validationLabeledPointRdd.persist()\n",
    "testLabeledPointRdd.persist()"
   ]
  },
  {
   "cell_type": "code",
   "execution_count": 11,
   "metadata": {},
   "outputs": [],
   "source": [
    "decisionTreeModel = DecisionTree.trainClassifier(data=trainLabeledPointRdd, numClasses=2, categoricalFeaturesInfo={}, impurity=\"entropy\", maxDepth=5, maxBins=5)"
   ]
  },
  {
   "cell_type": "code",
   "execution_count": 12,
   "metadata": {},
   "outputs": [
    {
     "data": {
      "text/plain": [
       "0.6519684019684019"
      ]
     },
     "execution_count": 12,
     "metadata": {},
     "output_type": "execute_result"
    }
   ],
   "source": [
    "scoreRdd = decisionTreeModel.predict(validationLabeledPointRdd.map(lambda labeledPoint : labeledPoint.features))\n",
    "labelRdd = validationLabeledPointRdd.map(lambda labeledPoint : labeledPoint.label)\n",
    "scoreAndLabelRdd = scoreRdd.zip(labelRdd)\n",
    "binaryClassificationMetrics = BinaryClassificationMetrics(scoreAndLabels=scoreAndLabelRdd)\n",
    "binaryClassificationMetrics.areaUnderROC"
   ]
  },
  {
   "cell_type": "code",
   "execution_count": 13,
   "metadata": {},
   "outputs": [],
   "source": [
    "def calculateAUC(decisionTreeModel, labeledPointRdd):\n",
    "    scoreRdd = decisionTreeModel.predict(labeledPointRdd.map(lambda labeledPoint : labeledPoint.features))\n",
    "    labelRdd = labeledPointRdd.map(lambda labeledPoint : labeledPoint.label)\n",
    "    scoreAndLabelRdd = scoreRdd.zip(labelRdd)\n",
    "    binaryClassificationMetrics = BinaryClassificationMetrics(scoreAndLabels=scoreAndLabelRdd)\n",
    "    AUC = binaryClassificationMetrics.areaUnderROC\n",
    "    return AUC\n",
    "    \n",
    "def evaluateModel(trainLabeledPointRdd, validationLabeledPointRdd, testLabeledPointRdd, impurity, maxDepth, maxBins):\n",
    "    startTime = time()\n",
    "    decisionTreeModel = DecisionTree.trainClassifier(data=trainLabeledPointRdd, numClasses=2, categoricalFeaturesInfo={}, impurity=impurity, maxDepth=maxDepth, maxBins=maxBins)\n",
    "    validationAUC = calculateAUC(decisionTreeModel, validationLabeledPointRdd)\n",
    "    testAUC = calculateAUC(decisionTreeModel, testLabeledPointRdd)\n",
    "    duration = time() - startTime\n",
    "    return (impurity, maxDepth, maxBins, duration, validationAUC, testAUC)"
   ]
  },
  {
   "cell_type": "code",
   "execution_count": 14,
   "metadata": {},
   "outputs": [
    {
     "data": {
      "text/html": [
       "<div>\n",
       "<style scoped>\n",
       "    .dataframe tbody tr th:only-of-type {\n",
       "        vertical-align: middle;\n",
       "    }\n",
       "\n",
       "    .dataframe tbody tr th {\n",
       "        vertical-align: top;\n",
       "    }\n",
       "\n",
       "    .dataframe thead th {\n",
       "        text-align: right;\n",
       "    }\n",
       "</style>\n",
       "<table border=\"1\" class=\"dataframe\">\n",
       "  <thead>\n",
       "    <tr style=\"text-align: right;\">\n",
       "      <th></th>\n",
       "      <th>impurity</th>\n",
       "      <th>maxDepth</th>\n",
       "      <th>maxBins</th>\n",
       "      <th>duration</th>\n",
       "      <th>validationAUC</th>\n",
       "      <th>testAUC</th>\n",
       "    </tr>\n",
       "  </thead>\n",
       "  <tbody>\n",
       "    <tr>\n",
       "      <th>0</th>\n",
       "      <td>gini</td>\n",
       "      <td>5</td>\n",
       "      <td>5</td>\n",
       "      <td>3.404577</td>\n",
       "      <td>0.656695</td>\n",
       "      <td>0.673663</td>\n",
       "    </tr>\n",
       "    <tr>\n",
       "      <th>1</th>\n",
       "      <td>gini</td>\n",
       "      <td>5</td>\n",
       "      <td>10</td>\n",
       "      <td>2.038335</td>\n",
       "      <td>0.646335</td>\n",
       "      <td>0.676447</td>\n",
       "    </tr>\n",
       "    <tr>\n",
       "      <th>2</th>\n",
       "      <td>gini</td>\n",
       "      <td>5</td>\n",
       "      <td>15</td>\n",
       "      <td>1.571143</td>\n",
       "      <td>0.644878</td>\n",
       "      <td>0.664982</td>\n",
       "    </tr>\n",
       "    <tr>\n",
       "      <th>3</th>\n",
       "      <td>gini</td>\n",
       "      <td>10</td>\n",
       "      <td>5</td>\n",
       "      <td>1.886011</td>\n",
       "      <td>0.619431</td>\n",
       "      <td>0.642051</td>\n",
       "    </tr>\n",
       "    <tr>\n",
       "      <th>4</th>\n",
       "      <td>gini</td>\n",
       "      <td>10</td>\n",
       "      <td>10</td>\n",
       "      <td>1.702022</td>\n",
       "      <td>0.651191</td>\n",
       "      <td>0.659853</td>\n",
       "    </tr>\n",
       "    <tr>\n",
       "      <th>5</th>\n",
       "      <td>gini</td>\n",
       "      <td>10</td>\n",
       "      <td>15</td>\n",
       "      <td>1.827772</td>\n",
       "      <td>0.661066</td>\n",
       "      <td>0.669634</td>\n",
       "    </tr>\n",
       "    <tr>\n",
       "      <th>6</th>\n",
       "      <td>gini</td>\n",
       "      <td>15</td>\n",
       "      <td>5</td>\n",
       "      <td>1.934184</td>\n",
       "      <td>0.574171</td>\n",
       "      <td>0.655348</td>\n",
       "    </tr>\n",
       "    <tr>\n",
       "      <th>7</th>\n",
       "      <td>gini</td>\n",
       "      <td>15</td>\n",
       "      <td>10</td>\n",
       "      <td>2.297870</td>\n",
       "      <td>0.609881</td>\n",
       "      <td>0.631502</td>\n",
       "    </tr>\n",
       "    <tr>\n",
       "      <th>8</th>\n",
       "      <td>gini</td>\n",
       "      <td>15</td>\n",
       "      <td>15</td>\n",
       "      <td>1.968123</td>\n",
       "      <td>0.634680</td>\n",
       "      <td>0.645458</td>\n",
       "    </tr>\n",
       "    <tr>\n",
       "      <th>9</th>\n",
       "      <td>entropy</td>\n",
       "      <td>5</td>\n",
       "      <td>5</td>\n",
       "      <td>1.034031</td>\n",
       "      <td>0.651968</td>\n",
       "      <td>0.678095</td>\n",
       "    </tr>\n",
       "    <tr>\n",
       "      <th>10</th>\n",
       "      <td>entropy</td>\n",
       "      <td>5</td>\n",
       "      <td>10</td>\n",
       "      <td>1.088340</td>\n",
       "      <td>0.645008</td>\n",
       "      <td>0.675238</td>\n",
       "    </tr>\n",
       "    <tr>\n",
       "      <th>11</th>\n",
       "      <td>entropy</td>\n",
       "      <td>5</td>\n",
       "      <td>15</td>\n",
       "      <td>1.609986</td>\n",
       "      <td>0.645040</td>\n",
       "      <td>0.669414</td>\n",
       "    </tr>\n",
       "    <tr>\n",
       "      <th>12</th>\n",
       "      <td>entropy</td>\n",
       "      <td>10</td>\n",
       "      <td>5</td>\n",
       "      <td>1.737957</td>\n",
       "      <td>0.642353</td>\n",
       "      <td>0.646300</td>\n",
       "    </tr>\n",
       "    <tr>\n",
       "      <th>13</th>\n",
       "      <td>entropy</td>\n",
       "      <td>10</td>\n",
       "      <td>10</td>\n",
       "      <td>1.944040</td>\n",
       "      <td>0.641382</td>\n",
       "      <td>0.647582</td>\n",
       "    </tr>\n",
       "    <tr>\n",
       "      <th>14</th>\n",
       "      <td>entropy</td>\n",
       "      <td>10</td>\n",
       "      <td>15</td>\n",
       "      <td>2.071299</td>\n",
       "      <td>0.650997</td>\n",
       "      <td>0.664945</td>\n",
       "    </tr>\n",
       "    <tr>\n",
       "      <th>15</th>\n",
       "      <td>entropy</td>\n",
       "      <td>15</td>\n",
       "      <td>5</td>\n",
       "      <td>2.779717</td>\n",
       "      <td>0.612600</td>\n",
       "      <td>0.655788</td>\n",
       "    </tr>\n",
       "    <tr>\n",
       "      <th>16</th>\n",
       "      <td>entropy</td>\n",
       "      <td>15</td>\n",
       "      <td>10</td>\n",
       "      <td>2.056215</td>\n",
       "      <td>0.595085</td>\n",
       "      <td>0.602564</td>\n",
       "    </tr>\n",
       "    <tr>\n",
       "      <th>17</th>\n",
       "      <td>entropy</td>\n",
       "      <td>15</td>\n",
       "      <td>15</td>\n",
       "      <td>2.080522</td>\n",
       "      <td>0.623964</td>\n",
       "      <td>0.630916</td>\n",
       "    </tr>\n",
       "  </tbody>\n",
       "</table>\n",
       "</div>"
      ],
      "text/plain": [
       "   impurity  maxDepth  maxBins  duration  validationAUC   testAUC\n",
       "0      gini         5        5  3.404577       0.656695  0.673663\n",
       "1      gini         5       10  2.038335       0.646335  0.676447\n",
       "2      gini         5       15  1.571143       0.644878  0.664982\n",
       "3      gini        10        5  1.886011       0.619431  0.642051\n",
       "4      gini        10       10  1.702022       0.651191  0.659853\n",
       "5      gini        10       15  1.827772       0.661066  0.669634\n",
       "6      gini        15        5  1.934184       0.574171  0.655348\n",
       "7      gini        15       10  2.297870       0.609881  0.631502\n",
       "8      gini        15       15  1.968123       0.634680  0.645458\n",
       "9   entropy         5        5  1.034031       0.651968  0.678095\n",
       "10  entropy         5       10  1.088340       0.645008  0.675238\n",
       "11  entropy         5       15  1.609986       0.645040  0.669414\n",
       "12  entropy        10        5  1.737957       0.642353  0.646300\n",
       "13  entropy        10       10  1.944040       0.641382  0.647582\n",
       "14  entropy        10       15  2.071299       0.650997  0.664945\n",
       "15  entropy        15        5  2.779717       0.612600  0.655788\n",
       "16  entropy        15       10  2.056215       0.595085  0.602564\n",
       "17  entropy        15       15  2.080522       0.623964  0.630916"
      ]
     },
     "execution_count": 14,
     "metadata": {},
     "output_type": "execute_result"
    }
   ],
   "source": [
    "impurityList = [\"gini\", \"entropy\"]\n",
    "maxDepthList = [5, 10, 15]\n",
    "maxBinsList = [5, 10, 15]\n",
    "metrics = [\n",
    "    evaluateModel(trainLabeledPointRdd, validationLabeledPointRdd, testLabeledPointRdd, impurity, maxDepth, maxBins)\n",
    "    for impurity in impurityList\n",
    "    for maxDepth in maxDepthList\n",
    "    for maxBins in maxBinsList\n",
    "]\n",
    "resultDf = pd.DataFrame(data=metrics, columns=[\"impurity\", \"maxDepth\", \"maxBins\", \"duration\", \"validationAUC\", \"testAUC\"])\n",
    "resultDf"
   ]
  },
  {
   "cell_type": "markdown",
   "metadata": {},
   "source": [
    "# print decision tree"
   ]
  },
  {
   "cell_type": "code",
   "execution_count": 15,
   "metadata": {},
   "outputs": [
    {
     "name": "stdout",
     "output_type": "stream",
     "text": [
      "DecisionTreeModel classifier of depth 5 with 57 nodes\n",
      "  If (feature 17 <= 1231.5)\n",
      "   If (feature 23 <= 0.5)\n",
      "    If (feature 25 <= 0.5)\n",
      "     If (feature 7 <= 9.0E-5)\n",
      "      If (feature 8 <= 0.038475772500000005)\n",
      "       Predict: 0.0\n",
      "      Else (feature 8 > 0.038475772500000005)\n",
      "       Predict: 0.0\n",
      "     Else (feature 7 > 9.0E-5)\n",
      "      If (feature 8 <= 0.081178475)\n",
      "       Predict: 0.0\n",
      "      Else (feature 8 > 0.081178475)\n",
      "       Predict: 0.0\n",
      "    Else (feature 25 > 0.5)\n",
      "     If (feature 8 <= 0.081178475)\n",
      "      If (feature 3 <= 0.1680163935)\n",
      "       Predict: 1.0\n",
      "      Else (feature 3 > 0.1680163935)\n",
      "       Predict: 1.0\n",
      "     Else (feature 8 > 0.081178475)\n",
      "      If (feature 6 <= 0.626463362)\n",
      "       Predict: 1.0\n",
      "      Else (feature 6 > 0.626463362)\n",
      "       Predict: 0.0\n",
      "   Else (feature 23 > 0.5)\n",
      "    If (feature 15 <= 12.5)\n",
      "     Predict: 0.0\n",
      "    Else (feature 15 > 12.5)\n",
      "     If (feature 19 <= 5.5)\n",
      "      If (feature 8 <= 0.026010224)\n",
      "       Predict: 0.0\n",
      "      Else (feature 8 > 0.026010224)\n",
      "       Predict: 0.0\n",
      "     Else (feature 19 > 5.5)\n",
      "      If (feature 18 <= 253.5)\n",
      "       Predict: 0.0\n",
      "      Else (feature 18 > 253.5)\n",
      "       Predict: 1.0\n",
      "  Else (feature 17 > 1231.5)\n",
      "   If (feature 22 <= 0.5)\n",
      "    If (feature 24 <= 0.5)\n",
      "     If (feature 26 <= 0.5)\n",
      "      If (feature 15 <= 20.5)\n",
      "       Predict: 1.0\n",
      "      Else (feature 15 > 20.5)\n",
      "       Predict: 0.0\n",
      "     Else (feature 26 > 0.5)\n",
      "      If (feature 15 <= 30.5)\n",
      "       Predict: 0.0\n",
      "      Else (feature 15 > 30.5)\n",
      "       Predict: 0.0\n",
      "    Else (feature 24 > 0.5)\n",
      "     If (feature 21 <= 0.120385854)\n",
      "      If (feature 8 <= 0.038475772500000005)\n",
      "       Predict: 1.0\n",
      "      Else (feature 8 > 0.038475772500000005)\n",
      "       Predict: 1.0\n",
      "     Else (feature 21 > 0.120385854)\n",
      "      If (feature 6 <= 0.46776505999999995)\n",
      "       Predict: 0.0\n",
      "      Else (feature 6 > 0.46776505999999995)\n",
      "       Predict: 1.0\n",
      "   Else (feature 22 > 0.5)\n",
      "    If (feature 12 <= 0.0188631165)\n",
      "     If (feature 21 <= 0.120385854)\n",
      "      If (feature 19 <= 7.5)\n",
      "       Predict: 1.0\n",
      "      Else (feature 19 > 7.5)\n",
      "       Predict: 0.0\n",
      "     Else (feature 21 > 0.120385854)\n",
      "      If (feature 8 <= 0.0553625735)\n",
      "       Predict: 0.0\n",
      "      Else (feature 8 > 0.0553625735)\n",
      "       Predict: 0.0\n",
      "    Else (feature 12 > 0.0188631165)\n",
      "     If (feature 21 <= 0.0980262305)\n",
      "      If (feature 17 <= 4394.5)\n",
      "       Predict: 1.0\n",
      "      Else (feature 17 > 4394.5)\n",
      "       Predict: 1.0\n",
      "     Else (feature 21 > 0.0980262305)\n",
      "      If (feature 18 <= 117.5)\n",
      "       Predict: 1.0\n",
      "      Else (feature 18 > 117.5)\n",
      "       Predict: 1.0\n",
      "\n"
     ]
    }
   ],
   "source": [
    "decisionTreeModel = DecisionTree.trainClassifier(data=trainLabeledPointRdd, numClasses=2, categoricalFeaturesInfo={}, impurity=\"entropy\", maxDepth=5, maxBins=5)\n",
    "print(decisionTreeModel.toDebugString())"
   ]
  }
 ],
 "metadata": {
  "kernelspec": {
   "display_name": "Python 2",
   "language": "python",
   "name": "python2"
  },
  "language_info": {
   "codemirror_mode": {
    "name": "ipython",
    "version": 2
   },
   "file_extension": ".py",
   "mimetype": "text/x-python",
   "name": "python",
   "nbconvert_exporter": "python",
   "pygments_lexer": "ipython2",
   "version": "2.7.14"
  }
 },
 "nbformat": 4,
 "nbformat_minor": 2
}
