{
 "cells": [
  {
   "cell_type": "code",
   "execution_count": 1,
   "metadata": {},
   "outputs": [],
   "source": [
    "from pyspark.sql import SQLContext\n",
    "from pyspark.sql import Row"
   ]
  },
  {
   "cell_type": "markdown",
   "metadata": {},
   "source": [
    "# load data"
   ]
  },
  {
   "cell_type": "code",
   "execution_count": 12,
   "metadata": {},
   "outputs": [],
   "source": [
    "rowRdd = sc.textFile(\"/home/hsiehpinghan/git/python/spark-python-2/data/kaggle/stumbleupon/test.tsv\")"
   ]
  },
  {
   "cell_type": "code",
   "execution_count": 18,
   "metadata": {},
   "outputs": [
    {
     "data": {
      "text/plain": [
       "[u'url',\n",
       " u'urlid',\n",
       " u'boilerplate',\n",
       " u'alchemy_category',\n",
       " u'alchemy_category_score',\n",
       " u'avglinksize',\n",
       " u'commonlinkratio_1',\n",
       " u'commonlinkratio_2',\n",
       " u'commonlinkratio_3',\n",
       " u'commonlinkratio_4',\n",
       " u'compression_ratio',\n",
       " u'embed_ratio',\n",
       " u'framebased',\n",
       " u'frameTagRatio',\n",
       " u'hasDomainLink',\n",
       " u'html_ratio',\n",
       " u'image_ratio',\n",
       " u'is_news',\n",
       " u'lengthyLinkDomain',\n",
       " u'linkwordscore',\n",
       " u'news_front_page',\n",
       " u'non_markup_alphanum_characters',\n",
       " u'numberOfLinks',\n",
       " u'numwords_in_url',\n",
       " u'parametrizedLinkRatio',\n",
       " u'spelling_errors_ratio']"
      ]
     },
     "execution_count": 18,
     "metadata": {},
     "output_type": "execute_result"
    }
   ],
   "source": [
    "headerRow = rowRdd.first()\n",
    "headerRowColList = headerRow.replace(\"\\\"\", \"\").split(\"\\t\")\n",
    "headerRowColList"
   ]
  },
  {
   "cell_type": "code",
   "execution_count": 21,
   "metadata": {},
   "outputs": [],
   "source": [
    "rowRddColList = rowRdd \\\n",
    "    .filter(lambda row : row != headerRow) \\\n",
    "    .map(lambda row : row.replace(\"\\\"\", \"\")) \\\n",
    "    .map(lambda row : row.split(\"\\t\"))"
   ]
  },
  {
   "cell_type": "markdown",
   "metadata": {},
   "source": [
    "# data cleaning"
   ]
  },
  {
   "cell_type": "code",
   "execution_count": 23,
   "metadata": {},
   "outputs": [
    {
     "data": {
      "text/plain": [
       "[[u'http://www.lynnskitchenadventures.com/2009/04/homemade-enchilada-sauce.html',\n",
       "  u'5865',\n",
       "  u'{title:Homemade Enchilada Sauce Lynn s Kitchen Adventures ,body:I usually buy my enchilada sauce Yes I knew I should be making it but I had never found a recipe that I was really happy with I had tried several and they just weren t very good So I stuck to the canned stuff you can get at the grocery store I was recently talking to a friend of mine about this She lived in Mexico for a few years so she knows some about Mexican cooking I asked her how she made her enchilada sauce She told me the basics and then gave me an exact recipe I decided to give it a try This recipe was really good This was the best enchilada sauce that I have made It had great flavor I think it was even better than the canned sauce My husband thought it could have been spicier But he likes his enchiladas spicy You can always add more chili powder or chilies if you like it really spicy The kids and I thought it was really good just like it is I did change two things It called for green onions I did not have any so I used regular onions I thought they worked great so I will probably continue to make it this way I also pureed everything in the blender I wanted a very smooth sauce If you want it more chunky just mix the ingredients together and do not blend Enchiladas are a pretty frugal meal and homemade enchilada sauce is a great way to make enchiladas even more frugal 2 8 ounce cans tomato sauce 1 4 ounce can chopped green chilies undrained 1 2 cup onion chopped 2 teaspoons chili powder 1 teaspoon ground cumin 1 4 teaspoon dried oregano 1 clove garlic minced Combine all tomato sauce ingredients and place in a blender Puree ingredients Then place in a saucepan Heat over medium heat until heated through about 5 minutes Use as desired for enchiladas Get your free Quick Easy Breakfasts ebook Just subscribe for free email updates from Lynn s Kitchen Adventures Like this article Share it this homemade enchilada sauce recipe came from a friend of mine who spent several years in mexico.,url:lynnskitchenadventures 2009 04 homemade enchilada sauce html}',\n",
       "  u'recreation',\n",
       "  u'0.443906',\n",
       "  u'2.558139535',\n",
       "  u'0.389705882',\n",
       "  u'0.257352941',\n",
       "  u'0.044117647',\n",
       "  u'0.022058824',\n",
       "  u'0.489572471',\n",
       "  u'0',\n",
       "  u'0',\n",
       "  u'0.067142857',\n",
       "  u'0',\n",
       "  u'0.230285215',\n",
       "  u'0.199438202',\n",
       "  u'1',\n",
       "  u'1',\n",
       "  u'15',\n",
       "  u'0',\n",
       "  u'5643',\n",
       "  u'136',\n",
       "  u'3',\n",
       "  u'0.242647059',\n",
       "  u'0.080597015']]"
      ]
     },
     "execution_count": 23,
     "metadata": {},
     "output_type": "execute_result"
    }
   ],
   "source": [
    "rowRddColList = rowRddColList \\\n",
    "    .map(lambda colList : \\\n",
    "        map(lambda col : None if col == \"?\" else col, colList)\n",
    "    )\n",
    "rowRddColList.take(1)"
   ]
  },
  {
   "cell_type": "markdown",
   "metadata": {},
   "source": [
    "# extract feature"
   ]
  },
  {
   "cell_type": "code",
   "execution_count": null,
   "metadata": {},
   "outputs": [],
   "source": []
  },
  {
   "cell_type": "code",
   "execution_count": 24,
   "metadata": {},
   "outputs": [
    {
     "data": {
      "text/plain": [
       "{None: 10,\n",
       " u'arts_entertainment': 11,\n",
       " u'business': 2,\n",
       " u'computer_internet': 3,\n",
       " u'culture_politics': 4,\n",
       " u'gaming': 0,\n",
       " u'health': 9,\n",
       " u'law_crime': 6,\n",
       " u'recreation': 1,\n",
       " u'religion': 8,\n",
       " u'science_technology': 5,\n",
       " u'sports': 7}"
      ]
     },
     "execution_count": 24,
     "metadata": {},
     "output_type": "execute_result"
    }
   ],
   "source": [
    "alchemyCategoryMap = rowRddColList.map(lambda colList : colList[3]).distinct().zipWithIndex().collectAsMap()\n",
    "alchemyCategoryMap"
   ]
  },
  {
   "cell_type": "code",
   "execution_count": 25,
   "metadata": {},
   "outputs": [
    {
     "name": "stdout",
     "output_type": "stream",
     "text": [
      "+----+-----+---------+------+--------------------------------------------------------+\n",
      "|real|bool |stringNum|string|features                                                |\n",
      "+----+-----+---------+------+--------------------------------------------------------+\n",
      "|2.2 |true |1        |foo   |(262144,[174475,247670,257907,262126],[2.2,1.0,1.0,1.0])|\n",
      "|3.3 |false|2        |bar   |(262144,[70644,89673,173866,174475],[1.0,1.0,1.0,3.3])  |\n",
      "|4.4 |false|3        |baz   |(262144,[22406,70644,174475,187923],[1.0,1.0,4.4,1.0])  |\n",
      "|5.5 |false|4        |foo   |(262144,[70644,101499,174475,257907],[1.0,1.0,5.5,1.0]) |\n",
      "+----+-----+---------+------+--------------------------------------------------------+\n",
      "\n"
     ]
    }
   ],
   "source": [
    "from pyspark.ml.feature import FeatureHasher\n",
    "\n",
    "dataset = spark.createDataFrame([\n",
    "    (2.2, True, \"1\", \"foo\"),\n",
    "    (3.3, False, \"2\", \"bar\"),\n",
    "    (4.4, False, \"3\", \"baz\"),\n",
    "    (5.5, False, \"4\", \"foo\")\n",
    "], [\"real\", \"bool\", \"stringNum\", \"string\"])\n",
    "\n",
    "hasher = FeatureHasher(inputCols=[\"real\", \"bool\", \"stringNum\", \"string\"],\n",
    "                       outputCol=\"features\")\n",
    "\n",
    "featurized = hasher.transform(dataset)\n",
    "featurized.show(truncate=False)"
   ]
  }
 ],
 "metadata": {
  "kernelspec": {
   "display_name": "Python 2",
   "language": "python",
   "name": "python2"
  },
  "language_info": {
   "codemirror_mode": {
    "name": "ipython",
    "version": 2
   },
   "file_extension": ".py",
   "mimetype": "text/x-python",
   "name": "python",
   "nbconvert_exporter": "python",
   "pygments_lexer": "ipython2",
   "version": "2.7.14"
  }
 },
 "nbformat": 4,
 "nbformat_minor": 2
}
