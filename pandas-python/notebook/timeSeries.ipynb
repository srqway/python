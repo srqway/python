{
 "cells": [
  {
   "cell_type": "code",
   "execution_count": 1,
   "metadata": {},
   "outputs": [],
   "source": [
    "import pandas as pd\n",
    "import numpy as np\n",
    "from datetime import datetime\n",
    "from pandas.tseries.offsets import MonthEnd\n",
    "\n",
    "%matplotlib inline"
   ]
  },
  {
   "cell_type": "markdown",
   "metadata": {},
   "source": [
    "# select"
   ]
  },
  {
   "cell_type": "code",
   "execution_count": 2,
   "metadata": {},
   "outputs": [
    {
     "data": {
      "text/plain": [
       "2011-01-02    0.226116\n",
       "2011-01-05   -0.582840\n",
       "2011-01-07   -0.802188\n",
       "2011-01-08   -0.770732\n",
       "2011-01-10    0.418086\n",
       "2011-01-12    0.413963\n",
       "dtype: float64"
      ]
     },
     "execution_count": 2,
     "metadata": {},
     "output_type": "execute_result"
    }
   ],
   "source": [
    "dates = [\n",
    "    datetime(2011, 1, 2), datetime(2011, 1, 5),\n",
    "    datetime(2011, 1, 7), datetime(2011, 1, 8),\n",
    "    datetime(2011, 1, 10), datetime(2011, 1, 12)\n",
    "]\n",
    "ts = pd.Series(np.random.randn(6), index=dates)\n",
    "ts"
   ]
  },
  {
   "cell_type": "code",
   "execution_count": 3,
   "metadata": {},
   "outputs": [
    {
     "data": {
      "text/plain": [
       "-0.7707317277433591"
      ]
     },
     "execution_count": 3,
     "metadata": {},
     "output_type": "execute_result"
    }
   ],
   "source": [
    "ts[ts.index[3]]"
   ]
  },
  {
   "cell_type": "code",
   "execution_count": 4,
   "metadata": {},
   "outputs": [
    {
     "data": {
      "text/plain": [
       "-0.7707317277433591"
      ]
     },
     "execution_count": 4,
     "metadata": {},
     "output_type": "execute_result"
    }
   ],
   "source": [
    "ts['2011-01-08']"
   ]
  },
  {
   "cell_type": "code",
   "execution_count": 5,
   "metadata": {},
   "outputs": [
    {
     "data": {
      "text/plain": [
       "-0.7707317277433591"
      ]
     },
     "execution_count": 5,
     "metadata": {},
     "output_type": "execute_result"
    }
   ],
   "source": [
    "ts['20110108']"
   ]
  },
  {
   "cell_type": "code",
   "execution_count": 6,
   "metadata": {},
   "outputs": [
    {
     "data": {
      "text/plain": [
       "2011-01-07   -0.802188\n",
       "2011-01-08   -0.770732\n",
       "2011-01-10    0.418086\n",
       "2011-01-12    0.413963\n",
       "dtype: float64"
      ]
     },
     "execution_count": 6,
     "metadata": {},
     "output_type": "execute_result"
    }
   ],
   "source": [
    "ts[datetime(2011, 1, 7):]"
   ]
  },
  {
   "cell_type": "code",
   "execution_count": 7,
   "metadata": {},
   "outputs": [
    {
     "data": {
      "text/plain": [
       "2011-01-07   -0.802188\n",
       "2011-01-08   -0.770732\n",
       "2011-01-10    0.418086\n",
       "dtype: float64"
      ]
     },
     "execution_count": 7,
     "metadata": {},
     "output_type": "execute_result"
    }
   ],
   "source": [
    "ts['1/6/2011':'1/11/2011']"
   ]
  },
  {
   "cell_type": "code",
   "execution_count": 8,
   "metadata": {},
   "outputs": [
    {
     "data": {
      "text/plain": [
       "2000-01-01   -1.518313\n",
       "2000-01-02   -0.214988\n",
       "2000-01-03    0.716134\n",
       "2000-01-04   -0.752873\n",
       "2000-01-05    1.081864\n",
       "2000-01-06   -1.184982\n",
       "2000-01-07    1.236788\n",
       "2000-01-08    0.660919\n",
       "2000-01-09    1.006861\n",
       "2000-01-10    1.194633\n",
       "2000-01-11    0.844683\n",
       "2000-01-12    0.464757\n",
       "2000-01-13    1.112473\n",
       "2000-01-14   -0.511064\n",
       "2000-01-15   -0.339037\n",
       "2000-01-16    0.204133\n",
       "2000-01-17    0.132265\n",
       "2000-01-18    0.558626\n",
       "2000-01-19    0.679655\n",
       "2000-01-20   -1.410262\n",
       "2000-01-21    0.824513\n",
       "2000-01-22    0.136492\n",
       "2000-01-23    2.051758\n",
       "2000-01-24    0.357803\n",
       "2000-01-25   -0.754611\n",
       "2000-01-26    0.397021\n",
       "2000-01-27   -0.190985\n",
       "2000-01-28    0.032521\n",
       "2000-01-29    1.050571\n",
       "2000-01-30   -0.245411\n",
       "                ...   \n",
       "2002-08-28   -0.091626\n",
       "2002-08-29    0.798078\n",
       "2002-08-30    0.054060\n",
       "2002-08-31   -0.426049\n",
       "2002-09-01   -0.921682\n",
       "2002-09-02   -0.467119\n",
       "2002-09-03    0.168783\n",
       "2002-09-04   -0.784836\n",
       "2002-09-05   -0.224254\n",
       "2002-09-06    0.948997\n",
       "2002-09-07    0.375692\n",
       "2002-09-08   -1.380894\n",
       "2002-09-09    0.846305\n",
       "2002-09-10    0.790217\n",
       "2002-09-11   -0.486712\n",
       "2002-09-12    0.222623\n",
       "2002-09-13   -2.289952\n",
       "2002-09-14   -0.995978\n",
       "2002-09-15   -0.863634\n",
       "2002-09-16   -0.538368\n",
       "2002-09-17    0.460193\n",
       "2002-09-18   -0.822741\n",
       "2002-09-19   -0.105920\n",
       "2002-09-20    1.783752\n",
       "2002-09-21   -0.279133\n",
       "2002-09-22   -2.975084\n",
       "2002-09-23    0.664871\n",
       "2002-09-24   -1.036508\n",
       "2002-09-25   -0.325607\n",
       "2002-09-26   -1.890959\n",
       "Freq: D, Length: 1000, dtype: float64"
      ]
     },
     "execution_count": 8,
     "metadata": {},
     "output_type": "execute_result"
    }
   ],
   "source": [
    "ts = pd.Series(\n",
    "    np.random.randn(1000),\n",
    "    index=pd.date_range('1/1/2000', periods=1000)\n",
    ")\n",
    "ts"
   ]
  },
  {
   "cell_type": "code",
   "execution_count": 9,
   "metadata": {},
   "outputs": [
    {
     "data": {
      "text/plain": [
       "2001-01-01   -0.925110\n",
       "2001-01-02    0.120284\n",
       "2001-01-03    0.901376\n",
       "2001-01-04   -0.288670\n",
       "2001-01-05    0.355269\n",
       "2001-01-06   -0.899289\n",
       "2001-01-07    0.009811\n",
       "2001-01-08    1.077279\n",
       "2001-01-09   -0.593480\n",
       "2001-01-10   -0.305714\n",
       "2001-01-11    1.555076\n",
       "2001-01-12    0.161630\n",
       "2001-01-13   -0.038941\n",
       "2001-01-14    1.153305\n",
       "2001-01-15   -0.162033\n",
       "2001-01-16   -0.268129\n",
       "2001-01-17   -0.744820\n",
       "2001-01-18   -2.100322\n",
       "2001-01-19    0.822402\n",
       "2001-01-20   -0.170147\n",
       "2001-01-21   -2.685718\n",
       "2001-01-22   -0.358545\n",
       "2001-01-23   -0.267730\n",
       "2001-01-24   -0.991853\n",
       "2001-01-25   -0.600014\n",
       "2001-01-26    0.163505\n",
       "2001-01-27   -0.320191\n",
       "2001-01-28    0.398274\n",
       "2001-01-29   -0.452485\n",
       "2001-01-30   -0.602764\n",
       "                ...   \n",
       "2001-12-02   -0.009983\n",
       "2001-12-03    0.410043\n",
       "2001-12-04   -1.766285\n",
       "2001-12-05   -0.618800\n",
       "2001-12-06    2.002838\n",
       "2001-12-07    0.148052\n",
       "2001-12-08   -1.001697\n",
       "2001-12-09   -0.104064\n",
       "2001-12-10   -0.372156\n",
       "2001-12-11    2.565089\n",
       "2001-12-12   -0.643680\n",
       "2001-12-13   -1.321599\n",
       "2001-12-14    0.097677\n",
       "2001-12-15    0.009917\n",
       "2001-12-16    0.480789\n",
       "2001-12-17   -0.050080\n",
       "2001-12-18    1.157188\n",
       "2001-12-19   -0.503076\n",
       "2001-12-20    0.031970\n",
       "2001-12-21   -0.785705\n",
       "2001-12-22   -2.150959\n",
       "2001-12-23    0.501203\n",
       "2001-12-24    1.644356\n",
       "2001-12-25    1.459586\n",
       "2001-12-26   -0.100810\n",
       "2001-12-27    1.027498\n",
       "2001-12-28   -0.619154\n",
       "2001-12-29   -1.638389\n",
       "2001-12-30    1.522408\n",
       "2001-12-31    0.759103\n",
       "Freq: D, Length: 365, dtype: float64"
      ]
     },
     "execution_count": 9,
     "metadata": {},
     "output_type": "execute_result"
    }
   ],
   "source": [
    "ts['2001']"
   ]
  },
  {
   "cell_type": "code",
   "execution_count": 10,
   "metadata": {},
   "outputs": [
    {
     "data": {
      "text/plain": [
       "2001-05-01    1.112449\n",
       "2001-05-02   -0.236056\n",
       "2001-05-03   -1.083596\n",
       "2001-05-04    0.578755\n",
       "2001-05-05    0.667405\n",
       "2001-05-06    0.684286\n",
       "2001-05-07    1.968922\n",
       "2001-05-08   -0.782105\n",
       "2001-05-09   -0.742567\n",
       "2001-05-10   -0.372514\n",
       "2001-05-11   -1.988236\n",
       "2001-05-12    0.175797\n",
       "2001-05-13   -0.041747\n",
       "2001-05-14    0.658859\n",
       "2001-05-15    0.886232\n",
       "2001-05-16   -0.951584\n",
       "2001-05-17   -0.042441\n",
       "2001-05-18    0.084747\n",
       "2001-05-19   -0.750622\n",
       "2001-05-20    0.159305\n",
       "2001-05-21   -0.343959\n",
       "2001-05-22    0.288023\n",
       "2001-05-23   -0.835609\n",
       "2001-05-24   -0.660850\n",
       "2001-05-25    0.375679\n",
       "2001-05-26   -2.142172\n",
       "2001-05-27   -0.498493\n",
       "2001-05-28    1.035217\n",
       "2001-05-29    0.973160\n",
       "2001-05-30    1.900037\n",
       "2001-05-31    0.219642\n",
       "Freq: D, dtype: float64"
      ]
     },
     "execution_count": 10,
     "metadata": {},
     "output_type": "execute_result"
    }
   ],
   "source": [
    "ts['2001-5']"
   ]
  },
  {
   "cell_type": "code",
   "execution_count": 11,
   "metadata": {},
   "outputs": [
    {
     "data": {
      "text/plain": [
       "Series([], Freq: D, dtype: float64)"
      ]
     },
     "execution_count": 11,
     "metadata": {},
     "output_type": "execute_result"
    }
   ],
   "source": [
    "ts[datetime(2011, 1, 7):]"
   ]
  },
  {
   "cell_type": "markdown",
   "metadata": {},
   "source": [
    "# truncate"
   ]
  },
  {
   "cell_type": "code",
   "execution_count": 12,
   "metadata": {},
   "outputs": [
    {
     "data": {
      "text/plain": [
       "2011-01-02   -0.551709\n",
       "2011-01-05    1.409809\n",
       "2011-01-07    2.112590\n",
       "2011-01-08   -0.334223\n",
       "2011-01-10    0.120988\n",
       "2011-01-12   -0.910482\n",
       "dtype: float64"
      ]
     },
     "execution_count": 12,
     "metadata": {},
     "output_type": "execute_result"
    }
   ],
   "source": [
    "dates = [\n",
    "    datetime(2011, 1, 2), datetime(2011, 1, 5),\n",
    "    datetime(2011, 1, 7), datetime(2011, 1, 8),\n",
    "    datetime(2011, 1, 10), datetime(2011, 1, 12)\n",
    "]\n",
    "ts = pd.Series(np.random.randn(6), index=dates)\n",
    "ts"
   ]
  },
  {
   "cell_type": "code",
   "execution_count": 13,
   "metadata": {},
   "outputs": [
    {
     "data": {
      "text/plain": [
       "2011-01-02   -0.551709\n",
       "2011-01-05    1.409809\n",
       "2011-01-07    2.112590\n",
       "2011-01-08   -0.334223\n",
       "dtype: float64"
      ]
     },
     "execution_count": 13,
     "metadata": {},
     "output_type": "execute_result"
    }
   ],
   "source": [
    "ts.truncate(after='1/9/2011')"
   ]
  },
  {
   "cell_type": "markdown",
   "metadata": {},
   "source": [
    "# frequency"
   ]
  },
  {
   "cell_type": "code",
   "execution_count": 14,
   "metadata": {},
   "outputs": [
    {
     "data": {
      "text/plain": [
       "DatetimeIndex(['2000-01-05', '2000-01-12', '2000-01-19', '2000-01-26',\n",
       "               '2000-02-02', '2000-02-09', '2000-02-16', '2000-02-23',\n",
       "               '2000-03-01', '2000-03-08', '2000-03-15', '2000-03-22',\n",
       "               '2000-03-29', '2000-04-05', '2000-04-12', '2000-04-19',\n",
       "               '2000-04-26', '2000-05-03', '2000-05-10', '2000-05-17',\n",
       "               '2000-05-24', '2000-05-31', '2000-06-07', '2000-06-14',\n",
       "               '2000-06-21', '2000-06-28', '2000-07-05', '2000-07-12',\n",
       "               '2000-07-19', '2000-07-26', '2000-08-02', '2000-08-09',\n",
       "               '2000-08-16', '2000-08-23', '2000-08-30', '2000-09-06',\n",
       "               '2000-09-13', '2000-09-20', '2000-09-27', '2000-10-04',\n",
       "               '2000-10-11', '2000-10-18', '2000-10-25', '2000-11-01',\n",
       "               '2000-11-08', '2000-11-15', '2000-11-22', '2000-11-29',\n",
       "               '2000-12-06', '2000-12-13', '2000-12-20', '2000-12-27',\n",
       "               '2001-01-03', '2001-01-10', '2001-01-17', '2001-01-24',\n",
       "               '2001-01-31', '2001-02-07', '2001-02-14', '2001-02-21',\n",
       "               '2001-02-28', '2001-03-07', '2001-03-14', '2001-03-21',\n",
       "               '2001-03-28', '2001-04-04', '2001-04-11', '2001-04-18',\n",
       "               '2001-04-25', '2001-05-02', '2001-05-09', '2001-05-16',\n",
       "               '2001-05-23', '2001-05-30', '2001-06-06', '2001-06-13',\n",
       "               '2001-06-20', '2001-06-27', '2001-07-04', '2001-07-11',\n",
       "               '2001-07-18', '2001-07-25', '2001-08-01', '2001-08-08',\n",
       "               '2001-08-15', '2001-08-22', '2001-08-29', '2001-09-05',\n",
       "               '2001-09-12', '2001-09-19', '2001-09-26', '2001-10-03',\n",
       "               '2001-10-10', '2001-10-17', '2001-10-24', '2001-10-31',\n",
       "               '2001-11-07', '2001-11-14', '2001-11-21', '2001-11-28'],\n",
       "              dtype='datetime64[ns]', freq='W-WED')"
      ]
     },
     "execution_count": 14,
     "metadata": {},
     "output_type": "execute_result"
    }
   ],
   "source": [
    "dates = pd.date_range('1/1/2000', periods=100, freq='W-WED')\n",
    "dates"
   ]
  },
  {
   "cell_type": "code",
   "execution_count": 15,
   "metadata": {},
   "outputs": [
    {
     "data": {
      "text/plain": [
       "DatetimeIndex(['2000-01-01 00:00:00', '2000-01-01 01:30:00',\n",
       "               '2000-01-01 03:00:00', '2000-01-01 04:30:00',\n",
       "               '2000-01-01 06:00:00', '2000-01-01 07:30:00',\n",
       "               '2000-01-01 09:00:00', '2000-01-01 10:30:00',\n",
       "               '2000-01-01 12:00:00', '2000-01-01 13:30:00'],\n",
       "              dtype='datetime64[ns]', freq='90T')"
      ]
     },
     "execution_count": 15,
     "metadata": {},
     "output_type": "execute_result"
    }
   ],
   "source": [
    "pd.date_range('2000-01-01', periods=10, freq='1h30min')"
   ]
  },
  {
   "cell_type": "code",
   "execution_count": 16,
   "metadata": {},
   "outputs": [
    {
     "data": {
      "text/plain": [
       "DatetimeIndex(['2000-01-05', '2000-01-12', '2000-01-19', '2000-01-26',\n",
       "               '2000-02-02', '2000-02-09', '2000-02-16', '2000-02-23',\n",
       "               '2000-03-01', '2000-03-08'],\n",
       "              dtype='datetime64[ns]', freq='W-WED')"
      ]
     },
     "execution_count": 16,
     "metadata": {},
     "output_type": "execute_result"
    }
   ],
   "source": [
    "dates = pd.date_range('1/1/2000', periods=10, freq='W-WED')\n",
    "dates"
   ]
  },
  {
   "cell_type": "markdown",
   "metadata": {},
   "source": [
    "# duplicate date"
   ]
  },
  {
   "cell_type": "code",
   "execution_count": 17,
   "metadata": {},
   "outputs": [
    {
     "data": {
      "text/plain": [
       "2000-01-01    0\n",
       "2000-01-02    1\n",
       "2000-01-02    2\n",
       "2000-01-02    3\n",
       "2000-01-03    4\n",
       "dtype: int64"
      ]
     },
     "execution_count": 17,
     "metadata": {},
     "output_type": "execute_result"
    }
   ],
   "source": [
    "dates = pd.DatetimeIndex(['1/1/2000', '1/2/2000', '1/2/2000', '1/2/2000', '1/3/2000'])\n",
    "ts = pd.Series(np.arange(5), index=dates)\n",
    "ts"
   ]
  },
  {
   "cell_type": "code",
   "execution_count": 18,
   "metadata": {},
   "outputs": [
    {
     "data": {
      "text/plain": [
       "False"
      ]
     },
     "execution_count": 18,
     "metadata": {},
     "output_type": "execute_result"
    }
   ],
   "source": [
    "ts.index.is_unique"
   ]
  },
  {
   "cell_type": "code",
   "execution_count": 19,
   "metadata": {},
   "outputs": [
    {
     "data": {
      "text/plain": [
       "2000-01-01    0\n",
       "2000-01-02    2\n",
       "2000-01-03    4\n",
       "dtype: int64"
      ]
     },
     "execution_count": 19,
     "metadata": {},
     "output_type": "execute_result"
    }
   ],
   "source": [
    "grouped = ts.groupby(level=0)\n",
    "grouped.mean()"
   ]
  },
  {
   "cell_type": "markdown",
   "metadata": {},
   "source": [
    "# group by date"
   ]
  },
  {
   "cell_type": "code",
   "execution_count": 20,
   "metadata": {},
   "outputs": [
    {
     "data": {
      "text/plain": [
       "2000-01-15    0.458775\n",
       "2000-01-19   -0.171958\n",
       "2000-01-23   -0.310854\n",
       "2000-01-27    0.921409\n",
       "2000-01-31    0.958991\n",
       "2000-02-04    0.779433\n",
       "2000-02-08    0.584541\n",
       "2000-02-12    2.279308\n",
       "2000-02-16    0.208291\n",
       "2000-02-20   -0.120113\n",
       "2000-02-24    0.985427\n",
       "2000-02-28   -2.644053\n",
       "2000-03-03   -1.097735\n",
       "2000-03-07    0.894024\n",
       "2000-03-11    0.416623\n",
       "2000-03-15    1.645927\n",
       "2000-03-19   -0.495756\n",
       "2000-03-23   -0.402663\n",
       "2000-03-27    2.736866\n",
       "2000-03-31    1.194473\n",
       "Freq: 4D, dtype: float64"
      ]
     },
     "execution_count": 20,
     "metadata": {},
     "output_type": "execute_result"
    }
   ],
   "source": [
    "ts = pd.Series(np.random.randn(20), index=pd.date_range('1/15/2000', periods=20, freq='4d'))\n",
    "ts"
   ]
  },
  {
   "cell_type": "code",
   "execution_count": 21,
   "metadata": {},
   "outputs": [
    {
     "data": {
      "text/plain": [
       "2000-01-31    0.371273\n",
       "2000-02-29    0.296119\n",
       "2000-03-31    0.611470\n",
       "dtype: float64"
      ]
     },
     "execution_count": 21,
     "metadata": {},
     "output_type": "execute_result"
    }
   ],
   "source": [
    "offset = MonthEnd()\n",
    "ts.groupby(offset.rollforward).mean()"
   ]
  },
  {
   "cell_type": "markdown",
   "metadata": {},
   "source": [
    "# date range"
   ]
  },
  {
   "cell_type": "code",
   "execution_count": 22,
   "metadata": {},
   "outputs": [
    {
     "data": {
      "text/plain": [
       "DatetimeIndex(['2012-04-01', '2012-04-02', '2012-04-03', '2012-04-04',\n",
       "               '2012-04-05', '2012-04-06', '2012-04-07', '2012-04-08',\n",
       "               '2012-04-09', '2012-04-10', '2012-04-11', '2012-04-12',\n",
       "               '2012-04-13', '2012-04-14', '2012-04-15', '2012-04-16',\n",
       "               '2012-04-17', '2012-04-18', '2012-04-19', '2012-04-20',\n",
       "               '2012-04-21', '2012-04-22', '2012-04-23', '2012-04-24',\n",
       "               '2012-04-25', '2012-04-26', '2012-04-27', '2012-04-28',\n",
       "               '2012-04-29', '2012-04-30', '2012-05-01'],\n",
       "              dtype='datetime64[ns]', freq='D')"
      ]
     },
     "execution_count": 22,
     "metadata": {},
     "output_type": "execute_result"
    }
   ],
   "source": [
    "index = pd.date_range(start='2012-04-01', end='2012-05-01')\n",
    "index"
   ]
  },
  {
   "cell_type": "code",
   "execution_count": 23,
   "metadata": {},
   "outputs": [
    {
     "data": {
      "text/plain": [
       "DatetimeIndex(['2012-05-02', '2012-05-03', '2012-05-04', '2012-05-05',\n",
       "               '2012-05-06'],\n",
       "              dtype='datetime64[ns]', freq='D')"
      ]
     },
     "execution_count": 23,
     "metadata": {},
     "output_type": "execute_result"
    }
   ],
   "source": [
    "index = pd.date_range('2012-05-02 12:56:31', periods=5, normalize=True)\n",
    "index"
   ]
  },
  {
   "cell_type": "markdown",
   "metadata": {},
   "source": [
    "# shift"
   ]
  },
  {
   "cell_type": "code",
   "execution_count": 24,
   "metadata": {},
   "outputs": [
    {
     "data": {
      "text/plain": [
       "2000-01-31   -0.273190\n",
       "2000-02-29    1.060386\n",
       "2000-03-31    0.084133\n",
       "2000-04-30    0.188905\n",
       "Freq: M, dtype: float64"
      ]
     },
     "execution_count": 24,
     "metadata": {},
     "output_type": "execute_result"
    }
   ],
   "source": [
    "index = pd.date_range('1/1/2000', periods=4, freq='M')\n",
    "ts = pd.Series(np.random.randn(4), index=index)\n",
    "ts"
   ]
  },
  {
   "cell_type": "code",
   "execution_count": 25,
   "metadata": {},
   "outputs": [
    {
     "data": {
      "text/plain": [
       "2000-01-31         NaN\n",
       "2000-02-29         NaN\n",
       "2000-03-31   -0.273190\n",
       "2000-04-30    1.060386\n",
       "Freq: M, dtype: float64"
      ]
     },
     "execution_count": 25,
     "metadata": {},
     "output_type": "execute_result"
    }
   ],
   "source": [
    "ts.shift(2)"
   ]
  },
  {
   "cell_type": "code",
   "execution_count": 26,
   "metadata": {},
   "outputs": [
    {
     "data": {
      "text/plain": [
       "2000-01-31    0.084133\n",
       "2000-02-29    0.188905\n",
       "2000-03-31         NaN\n",
       "2000-04-30         NaN\n",
       "Freq: M, dtype: float64"
      ]
     },
     "execution_count": 26,
     "metadata": {},
     "output_type": "execute_result"
    }
   ],
   "source": [
    "ts.shift(-2)"
   ]
  },
  {
   "cell_type": "code",
   "execution_count": 27,
   "metadata": {},
   "outputs": [
    {
     "data": {
      "text/plain": [
       "2000-03-31   -0.273190\n",
       "2000-04-30    1.060386\n",
       "2000-05-31    0.084133\n",
       "2000-06-30    0.188905\n",
       "Freq: M, dtype: float64"
      ]
     },
     "execution_count": 27,
     "metadata": {},
     "output_type": "execute_result"
    }
   ],
   "source": [
    "ts.shift(2, freq='M')"
   ]
  },
  {
   "cell_type": "code",
   "execution_count": 28,
   "metadata": {},
   "outputs": [
    {
     "data": {
      "text/plain": [
       "2000-02-03   -0.273190\n",
       "2000-03-03    1.060386\n",
       "2000-04-03    0.084133\n",
       "2000-05-03    0.188905\n",
       "dtype: float64"
      ]
     },
     "execution_count": 28,
     "metadata": {},
     "output_type": "execute_result"
    }
   ],
   "source": [
    "ts.shift(3, freq='D')"
   ]
  },
  {
   "cell_type": "markdown",
   "metadata": {},
   "source": [
    "# change frequency"
   ]
  },
  {
   "cell_type": "code",
   "execution_count": 29,
   "metadata": {},
   "outputs": [
    {
     "data": {
      "text/plain": [
       "2000-12-31   -1.083901\n",
       "2001-12-31   -0.365398\n",
       "2002-12-31    0.002542\n",
       "2003-12-31   -0.101837\n",
       "Freq: A-DEC, dtype: float64"
      ]
     },
     "execution_count": 29,
     "metadata": {},
     "output_type": "execute_result"
    }
   ],
   "source": [
    "index = pd.date_range('1/1/2000', periods=4, freq='A')\n",
    "ts = pd.Series(np.random.randn(4), index=index)\n",
    "ts"
   ]
  },
  {
   "cell_type": "code",
   "execution_count": 30,
   "metadata": {},
   "outputs": [
    {
     "data": {
      "text/plain": [
       "2000-12-31   -1.083901\n",
       "2001-01-31         NaN\n",
       "2001-02-28         NaN\n",
       "2001-03-31         NaN\n",
       "2001-04-30         NaN\n",
       "2001-05-31         NaN\n",
       "2001-06-30         NaN\n",
       "2001-07-31         NaN\n",
       "2001-08-31         NaN\n",
       "2001-09-30         NaN\n",
       "2001-10-31         NaN\n",
       "2001-11-30         NaN\n",
       "2001-12-31   -0.365398\n",
       "2002-01-31         NaN\n",
       "2002-02-28         NaN\n",
       "2002-03-31         NaN\n",
       "2002-04-30         NaN\n",
       "2002-05-31         NaN\n",
       "2002-06-30         NaN\n",
       "2002-07-31         NaN\n",
       "2002-08-31         NaN\n",
       "2002-09-30         NaN\n",
       "2002-10-31         NaN\n",
       "2002-11-30         NaN\n",
       "2002-12-31    0.002542\n",
       "2003-01-31         NaN\n",
       "2003-02-28         NaN\n",
       "2003-03-31         NaN\n",
       "2003-04-30         NaN\n",
       "2003-05-31         NaN\n",
       "2003-06-30         NaN\n",
       "2003-07-31         NaN\n",
       "2003-08-31         NaN\n",
       "2003-09-30         NaN\n",
       "2003-10-31         NaN\n",
       "2003-11-30         NaN\n",
       "2003-12-31   -0.101837\n",
       "Freq: M, dtype: float64"
      ]
     },
     "execution_count": 30,
     "metadata": {},
     "output_type": "execute_result"
    }
   ],
   "source": [
    "ts.asfreq('M', how='start')"
   ]
  },
  {
   "cell_type": "markdown",
   "metadata": {},
   "source": [
    "# resample"
   ]
  },
  {
   "cell_type": "code",
   "execution_count": 31,
   "metadata": {},
   "outputs": [
    {
     "data": {
      "text/plain": [
       "2000-01-01   -0.048796\n",
       "2000-01-02   -1.048163\n",
       "2000-01-03    0.827909\n",
       "2000-01-04   -0.208323\n",
       "2000-01-05   -0.546147\n",
       "2000-01-06    1.907024\n",
       "2000-01-07   -0.359705\n",
       "2000-01-08   -0.203213\n",
       "2000-01-09   -0.668552\n",
       "2000-01-10    0.173798\n",
       "2000-01-11   -0.193076\n",
       "2000-01-12    1.214528\n",
       "2000-01-13   -0.833037\n",
       "2000-01-14   -0.545089\n",
       "2000-01-15    0.635299\n",
       "2000-01-16    0.156977\n",
       "2000-01-17   -0.032506\n",
       "2000-01-18   -1.068225\n",
       "2000-01-19   -0.773459\n",
       "2000-01-20   -1.724820\n",
       "2000-01-21   -2.060924\n",
       "2000-01-22   -0.948421\n",
       "2000-01-23    0.167017\n",
       "2000-01-24    0.854118\n",
       "2000-01-25   -1.081197\n",
       "2000-01-26   -0.307295\n",
       "2000-01-27    0.082864\n",
       "2000-01-28    0.382301\n",
       "2000-01-29    0.778050\n",
       "2000-01-30   -0.064520\n",
       "                ...   \n",
       "2000-03-11   -0.324516\n",
       "2000-03-12    0.273470\n",
       "2000-03-13   -0.951332\n",
       "2000-03-14   -0.188063\n",
       "2000-03-15    0.701770\n",
       "2000-03-16    0.195943\n",
       "2000-03-17    0.263913\n",
       "2000-03-18   -0.469439\n",
       "2000-03-19    0.536691\n",
       "2000-03-20    0.867095\n",
       "2000-03-21   -0.929057\n",
       "2000-03-22    2.234133\n",
       "2000-03-23    1.934175\n",
       "2000-03-24    0.089717\n",
       "2000-03-25   -1.002287\n",
       "2000-03-26    0.007864\n",
       "2000-03-27    0.594677\n",
       "2000-03-28   -1.751763\n",
       "2000-03-29    0.534445\n",
       "2000-03-30   -1.030268\n",
       "2000-03-31   -0.675063\n",
       "2000-04-01    0.263497\n",
       "2000-04-02    0.716278\n",
       "2000-04-03    0.848010\n",
       "2000-04-04   -0.197022\n",
       "2000-04-05   -1.298389\n",
       "2000-04-06    1.139543\n",
       "2000-04-07    0.652444\n",
       "2000-04-08   -0.676275\n",
       "2000-04-09   -1.847162\n",
       "Freq: D, Length: 100, dtype: float64"
      ]
     },
     "execution_count": 31,
     "metadata": {},
     "output_type": "execute_result"
    }
   ],
   "source": [
    "dr = pd.date_range('2000-01-01', periods=100, freq='D')\n",
    "ts = pd.Series(np.random.randn(len(dr)), index=dr)\n",
    "ts"
   ]
  },
  {
   "cell_type": "code",
   "execution_count": 32,
   "metadata": {},
   "outputs": [
    {
     "data": {
      "text/plain": [
       "2000-01-31   -0.149738\n",
       "2000-02-29   -0.193027\n",
       "2000-03-31    0.087161\n",
       "2000-04-30   -0.044342\n",
       "Freq: M, dtype: float64"
      ]
     },
     "execution_count": 32,
     "metadata": {},
     "output_type": "execute_result"
    }
   ],
   "source": [
    "ts.resample('M').mean()"
   ]
  },
  {
   "cell_type": "code",
   "execution_count": 33,
   "metadata": {},
   "outputs": [
    {
     "data": {
      "text/plain": [
       "2000-01-01 00:00:00     0\n",
       "2000-01-01 00:01:00     1\n",
       "2000-01-01 00:02:00     2\n",
       "2000-01-01 00:03:00     3\n",
       "2000-01-01 00:04:00     4\n",
       "2000-01-01 00:05:00     5\n",
       "2000-01-01 00:06:00     6\n",
       "2000-01-01 00:07:00     7\n",
       "2000-01-01 00:08:00     8\n",
       "2000-01-01 00:09:00     9\n",
       "2000-01-01 00:10:00    10\n",
       "2000-01-01 00:11:00    11\n",
       "Freq: T, dtype: int64"
      ]
     },
     "execution_count": 33,
     "metadata": {},
     "output_type": "execute_result"
    }
   ],
   "source": [
    "dr = pd.date_range('2000-01-01', periods=12, freq='T')\n",
    "ts = pd.Series(np.arange(len(dr)), index=dr)\n",
    "ts"
   ]
  },
  {
   "cell_type": "code",
   "execution_count": 34,
   "metadata": {},
   "outputs": [
    {
     "data": {
      "text/plain": [
       "1999-12-31 23:55:00     0\n",
       "2000-01-01 00:00:00    15\n",
       "2000-01-01 00:05:00    40\n",
       "2000-01-01 00:10:00    11\n",
       "Freq: 5T, dtype: int64"
      ]
     },
     "execution_count": 34,
     "metadata": {},
     "output_type": "execute_result"
    }
   ],
   "source": [
    "ts.resample('5min', closed='right').sum()"
   ]
  },
  {
   "cell_type": "code",
   "execution_count": 35,
   "metadata": {},
   "outputs": [
    {
     "data": {
      "text/plain": [
       "1999-12-31 23:54:59     0\n",
       "1999-12-31 23:59:59    15\n",
       "2000-01-01 00:04:59    40\n",
       "2000-01-01 00:09:59    11\n",
       "Freq: 5T, dtype: int64"
      ]
     },
     "execution_count": 35,
     "metadata": {},
     "output_type": "execute_result"
    }
   ],
   "source": [
    "ts.resample('5min', closed='right', loffset='-1s').sum()"
   ]
  },
  {
   "cell_type": "code",
   "execution_count": 36,
   "metadata": {},
   "outputs": [
    {
     "data": {
      "text/html": [
       "<div>\n",
       "<style scoped>\n",
       "    .dataframe tbody tr th:only-of-type {\n",
       "        vertical-align: middle;\n",
       "    }\n",
       "\n",
       "    .dataframe tbody tr th {\n",
       "        vertical-align: top;\n",
       "    }\n",
       "\n",
       "    .dataframe thead th {\n",
       "        text-align: right;\n",
       "    }\n",
       "</style>\n",
       "<table border=\"1\" class=\"dataframe\">\n",
       "  <thead>\n",
       "    <tr style=\"text-align: right;\">\n",
       "      <th></th>\n",
       "      <th>open</th>\n",
       "      <th>high</th>\n",
       "      <th>low</th>\n",
       "      <th>close</th>\n",
       "    </tr>\n",
       "  </thead>\n",
       "  <tbody>\n",
       "    <tr>\n",
       "      <th>2000-01-01 00:00:00</th>\n",
       "      <td>0</td>\n",
       "      <td>4</td>\n",
       "      <td>0</td>\n",
       "      <td>4</td>\n",
       "    </tr>\n",
       "    <tr>\n",
       "      <th>2000-01-01 00:05:00</th>\n",
       "      <td>5</td>\n",
       "      <td>9</td>\n",
       "      <td>5</td>\n",
       "      <td>9</td>\n",
       "    </tr>\n",
       "    <tr>\n",
       "      <th>2000-01-01 00:10:00</th>\n",
       "      <td>10</td>\n",
       "      <td>11</td>\n",
       "      <td>10</td>\n",
       "      <td>11</td>\n",
       "    </tr>\n",
       "  </tbody>\n",
       "</table>\n",
       "</div>"
      ],
      "text/plain": [
       "                     open  high  low  close\n",
       "2000-01-01 00:00:00     0     4    0      4\n",
       "2000-01-01 00:05:00     5     9    5      9\n",
       "2000-01-01 00:10:00    10    11   10     11"
      ]
     },
     "execution_count": 36,
     "metadata": {},
     "output_type": "execute_result"
    }
   ],
   "source": [
    "ts.resample('5min').ohlc()"
   ]
  },
  {
   "cell_type": "code",
   "execution_count": 37,
   "metadata": {},
   "outputs": [
    {
     "data": {
      "text/html": [
       "<div>\n",
       "<style scoped>\n",
       "    .dataframe tbody tr th:only-of-type {\n",
       "        vertical-align: middle;\n",
       "    }\n",
       "\n",
       "    .dataframe tbody tr th {\n",
       "        vertical-align: top;\n",
       "    }\n",
       "\n",
       "    .dataframe thead th {\n",
       "        text-align: right;\n",
       "    }\n",
       "</style>\n",
       "<table border=\"1\" class=\"dataframe\">\n",
       "  <thead>\n",
       "    <tr style=\"text-align: right;\">\n",
       "      <th></th>\n",
       "      <th>Colorado</th>\n",
       "      <th>Texas</th>\n",
       "      <th>New York</th>\n",
       "      <th>Ohio</th>\n",
       "    </tr>\n",
       "  </thead>\n",
       "  <tbody>\n",
       "    <tr>\n",
       "      <th>2000-01-05</th>\n",
       "      <td>-0.112548</td>\n",
       "      <td>-0.214275</td>\n",
       "      <td>-0.371664</td>\n",
       "      <td>0.066473</td>\n",
       "    </tr>\n",
       "    <tr>\n",
       "      <th>2000-01-12</th>\n",
       "      <td>-0.309818</td>\n",
       "      <td>-0.484322</td>\n",
       "      <td>-0.726012</td>\n",
       "      <td>0.268361</td>\n",
       "    </tr>\n",
       "  </tbody>\n",
       "</table>\n",
       "</div>"
      ],
      "text/plain": [
       "            Colorado     Texas  New York      Ohio\n",
       "2000-01-05 -0.112548 -0.214275 -0.371664  0.066473\n",
       "2000-01-12 -0.309818 -0.484322 -0.726012  0.268361"
      ]
     },
     "execution_count": 37,
     "metadata": {},
     "output_type": "execute_result"
    }
   ],
   "source": [
    "df = pd.DataFrame(\n",
    "    np.random.randn(2, 4),\n",
    "    index=pd.date_range('1/1/2000', periods=2,\n",
    "    freq='W-WED'),\n",
    "    columns=['Colorado', 'Texas', 'New York', 'Ohio']\n",
    ")\n",
    "df"
   ]
  },
  {
   "cell_type": "code",
   "execution_count": 38,
   "metadata": {},
   "outputs": [
    {
     "data": {
      "text/html": [
       "<div>\n",
       "<style scoped>\n",
       "    .dataframe tbody tr th:only-of-type {\n",
       "        vertical-align: middle;\n",
       "    }\n",
       "\n",
       "    .dataframe tbody tr th {\n",
       "        vertical-align: top;\n",
       "    }\n",
       "\n",
       "    .dataframe thead th {\n",
       "        text-align: right;\n",
       "    }\n",
       "</style>\n",
       "<table border=\"1\" class=\"dataframe\">\n",
       "  <thead>\n",
       "    <tr style=\"text-align: right;\">\n",
       "      <th></th>\n",
       "      <th>Colorado</th>\n",
       "      <th>Texas</th>\n",
       "      <th>New York</th>\n",
       "      <th>Ohio</th>\n",
       "    </tr>\n",
       "  </thead>\n",
       "  <tbody>\n",
       "    <tr>\n",
       "      <th>2000-01-05</th>\n",
       "      <td>-0.112548</td>\n",
       "      <td>-0.214275</td>\n",
       "      <td>-0.371664</td>\n",
       "      <td>0.066473</td>\n",
       "    </tr>\n",
       "    <tr>\n",
       "      <th>2000-01-06</th>\n",
       "      <td>-0.112548</td>\n",
       "      <td>-0.214275</td>\n",
       "      <td>-0.371664</td>\n",
       "      <td>0.066473</td>\n",
       "    </tr>\n",
       "    <tr>\n",
       "      <th>2000-01-07</th>\n",
       "      <td>-0.112548</td>\n",
       "      <td>-0.214275</td>\n",
       "      <td>-0.371664</td>\n",
       "      <td>0.066473</td>\n",
       "    </tr>\n",
       "    <tr>\n",
       "      <th>2000-01-08</th>\n",
       "      <td>-0.112548</td>\n",
       "      <td>-0.214275</td>\n",
       "      <td>-0.371664</td>\n",
       "      <td>0.066473</td>\n",
       "    </tr>\n",
       "    <tr>\n",
       "      <th>2000-01-09</th>\n",
       "      <td>-0.112548</td>\n",
       "      <td>-0.214275</td>\n",
       "      <td>-0.371664</td>\n",
       "      <td>0.066473</td>\n",
       "    </tr>\n",
       "    <tr>\n",
       "      <th>2000-01-10</th>\n",
       "      <td>-0.112548</td>\n",
       "      <td>-0.214275</td>\n",
       "      <td>-0.371664</td>\n",
       "      <td>0.066473</td>\n",
       "    </tr>\n",
       "    <tr>\n",
       "      <th>2000-01-11</th>\n",
       "      <td>-0.112548</td>\n",
       "      <td>-0.214275</td>\n",
       "      <td>-0.371664</td>\n",
       "      <td>0.066473</td>\n",
       "    </tr>\n",
       "    <tr>\n",
       "      <th>2000-01-12</th>\n",
       "      <td>-0.309818</td>\n",
       "      <td>-0.484322</td>\n",
       "      <td>-0.726012</td>\n",
       "      <td>0.268361</td>\n",
       "    </tr>\n",
       "  </tbody>\n",
       "</table>\n",
       "</div>"
      ],
      "text/plain": [
       "            Colorado     Texas  New York      Ohio\n",
       "2000-01-05 -0.112548 -0.214275 -0.371664  0.066473\n",
       "2000-01-06 -0.112548 -0.214275 -0.371664  0.066473\n",
       "2000-01-07 -0.112548 -0.214275 -0.371664  0.066473\n",
       "2000-01-08 -0.112548 -0.214275 -0.371664  0.066473\n",
       "2000-01-09 -0.112548 -0.214275 -0.371664  0.066473\n",
       "2000-01-10 -0.112548 -0.214275 -0.371664  0.066473\n",
       "2000-01-11 -0.112548 -0.214275 -0.371664  0.066473\n",
       "2000-01-12 -0.309818 -0.484322 -0.726012  0.268361"
      ]
     },
     "execution_count": 38,
     "metadata": {},
     "output_type": "execute_result"
    }
   ],
   "source": [
    "df.resample('D').ffill()"
   ]
  },
  {
   "cell_type": "markdown",
   "metadata": {},
   "source": [
    "# rolling window"
   ]
  },
  {
   "cell_type": "code",
   "execution_count": 39,
   "metadata": {},
   "outputs": [
    {
     "data": {
      "text/html": [
       "<div>\n",
       "<style scoped>\n",
       "    .dataframe tbody tr th:only-of-type {\n",
       "        vertical-align: middle;\n",
       "    }\n",
       "\n",
       "    .dataframe tbody tr th {\n",
       "        vertical-align: top;\n",
       "    }\n",
       "\n",
       "    .dataframe thead th {\n",
       "        text-align: right;\n",
       "    }\n",
       "</style>\n",
       "<table border=\"1\" class=\"dataframe\">\n",
       "  <thead>\n",
       "    <tr style=\"text-align: right;\">\n",
       "      <th></th>\n",
       "      <th>AAPL</th>\n",
       "      <th>MSFT</th>\n",
       "      <th>XOM</th>\n",
       "    </tr>\n",
       "  </thead>\n",
       "  <tbody>\n",
       "    <tr>\n",
       "      <th>2003-01-02</th>\n",
       "      <td>7.40</td>\n",
       "      <td>21.11</td>\n",
       "      <td>29.22</td>\n",
       "    </tr>\n",
       "    <tr>\n",
       "      <th>2003-01-03</th>\n",
       "      <td>7.45</td>\n",
       "      <td>21.14</td>\n",
       "      <td>29.24</td>\n",
       "    </tr>\n",
       "    <tr>\n",
       "      <th>2003-01-06</th>\n",
       "      <td>7.45</td>\n",
       "      <td>21.52</td>\n",
       "      <td>29.96</td>\n",
       "    </tr>\n",
       "    <tr>\n",
       "      <th>2003-01-07</th>\n",
       "      <td>7.43</td>\n",
       "      <td>21.93</td>\n",
       "      <td>28.95</td>\n",
       "    </tr>\n",
       "    <tr>\n",
       "      <th>2003-01-08</th>\n",
       "      <td>7.28</td>\n",
       "      <td>21.31</td>\n",
       "      <td>28.83</td>\n",
       "    </tr>\n",
       "  </tbody>\n",
       "</table>\n",
       "</div>"
      ],
      "text/plain": [
       "            AAPL   MSFT    XOM\n",
       "2003-01-02  7.40  21.11  29.22\n",
       "2003-01-03  7.45  21.14  29.24\n",
       "2003-01-06  7.45  21.52  29.96\n",
       "2003-01-07  7.43  21.93  28.95\n",
       "2003-01-08  7.28  21.31  28.83"
      ]
     },
     "execution_count": 39,
     "metadata": {},
     "output_type": "execute_result"
    }
   ],
   "source": [
    "close_px_all = pd.read_csv('/home/hsiehpinghan/git/python/pandas-python/data/stock_px_2.csv', parse_dates=True, index_col=0)\n",
    "close_px = close_px_all[['AAPL', 'MSFT', 'XOM']]\n",
    "close_px[0:5]"
   ]
  },
  {
   "cell_type": "code",
   "execution_count": 40,
   "metadata": {},
   "outputs": [
    {
     "data": {
      "text/plain": [
       "<matplotlib.axes._subplots.AxesSubplot at 0x7f6f98329b38>"
      ]
     },
     "execution_count": 40,
     "metadata": {},
     "output_type": "execute_result"
    },
    {
     "data": {
      "image/png": "[encoded data removed]",
      "text/plain": [
       "<Figure size 432x288 with 1 Axes>"
      ]
     },
     "metadata": {},
     "output_type": "display_data"
    }
   ],
   "source": [
    "close_px.AAPL.plot()\n",
    "close_px.AAPL.rolling(250).mean().plot()"
   ]
  },
  {
   "cell_type": "code",
   "execution_count": 41,
   "metadata": {},
   "outputs": [
    {
     "data": {
      "text/plain": [
       "2003-01-02         NaN\n",
       "2003-01-03         NaN\n",
       "2003-01-06    7.433333\n",
       "2003-01-07    7.432500\n",
       "2003-01-08    7.402000\n",
       "2003-01-09    7.390000\n",
       "2003-01-10    7.372000\n",
       "2003-01-13    7.346000\n",
       "2003-01-14    7.320000\n",
       "2003-01-15    7.308000\n",
       "Name: AAPL, dtype: float64"
      ]
     },
     "execution_count": 41,
     "metadata": {},
     "output_type": "execute_result"
    }
   ],
   "source": [
    "close_px.AAPL.rolling(5, min_periods=3).mean()[0:10]"
   ]
  },
  {
   "cell_type": "code",
   "execution_count": 42,
   "metadata": {},
   "outputs": [
    {
     "data": {
      "text/plain": [
       "2003-01-02         NaN\n",
       "2003-01-03         NaN\n",
       "2003-01-06    7.433333\n",
       "2003-01-07    7.443333\n",
       "2003-01-08    7.386667\n",
       "2003-01-09    7.375000\n",
       "2003-01-10    7.372000\n",
       "2003-01-13    7.340000\n",
       "2003-01-14    7.326667\n",
       "2003-01-15    7.280000\n",
       "Name: AAPL, dtype: float64"
      ]
     },
     "execution_count": 42,
     "metadata": {},
     "output_type": "execute_result"
    }
   ],
   "source": [
    "close_px.AAPL.rolling(\"5D\", min_periods=3).mean()[0:10]"
   ]
  },
  {
   "cell_type": "markdown",
   "metadata": {},
   "source": [
    "# expanding"
   ]
  },
  {
   "cell_type": "code",
   "execution_count": 43,
   "metadata": {},
   "outputs": [
    {
     "data": {
      "text/plain": [
       "2003-01-02         NaN\n",
       "2003-01-03         NaN\n",
       "2003-01-06    7.433333\n",
       "2003-01-07    7.432500\n",
       "2003-01-08    7.402000\n",
       "2003-01-09    7.391667\n",
       "2003-01-10    7.387143\n",
       "2003-01-13    7.378750\n",
       "2003-01-14    7.370000\n",
       "2003-01-15    7.355000\n",
       "Name: AAPL, dtype: float64"
      ]
     },
     "execution_count": 43,
     "metadata": {},
     "output_type": "execute_result"
    }
   ],
   "source": [
    "tsWithExpanding = close_px.AAPL.expanding(min_periods=3).mean()[0:10]\n",
    "tsWithExpanding"
   ]
  },
  {
   "cell_type": "markdown",
   "metadata": {},
   "source": [
    "# exponential weighted moving window"
   ]
  },
  {
   "cell_type": "code",
   "execution_count": 44,
   "metadata": {},
   "outputs": [
    {
     "data": {
      "text/plain": [
       "2003-01-02    7.40\n",
       "2003-01-03    7.45\n",
       "2003-01-06    7.45\n",
       "2003-01-07    7.43\n",
       "2003-01-08    7.28\n",
       "2003-01-09    7.34\n",
       "2003-01-10    7.36\n",
       "2003-01-13    7.32\n",
       "2003-01-14    7.30\n",
       "2003-01-15    7.22\n",
       "Name: AAPL, dtype: float64"
      ]
     },
     "execution_count": 44,
     "metadata": {},
     "output_type": "execute_result"
    }
   ],
   "source": [
    "close_px_all = pd.read_csv('/home/hsiehpinghan/git/python/pandas-python/data/stock_px_2.csv', parse_dates=True, index_col=0)\n",
    "aapl_px = close_px_all.AAPL\n",
    "close_px.AAPL[0:10]"
   ]
  },
  {
   "cell_type": "code",
   "execution_count": 45,
   "metadata": {},
   "outputs": [
    {
     "data": {
      "text/plain": [
       "2003-01-02    7.400000\n",
       "2003-01-03    7.430000\n",
       "2003-01-06    7.439474\n",
       "2003-01-07    7.435538\n",
       "2003-01-08    7.375829\n",
       "2003-01-09    7.362737\n",
       "2003-01-10    7.361768\n",
       "2003-01-13    7.347280\n",
       "2003-01-14    7.331099\n",
       "2003-01-15    7.293412\n",
       "Name: AAPL, dtype: float64"
      ]
     },
     "execution_count": 45,
     "metadata": {},
     "output_type": "execute_result"
    }
   ],
   "source": [
    "aapl_px.ewm(span=5).mean()[0:10]\n"
   ]
  },
  {
   "cell_type": "markdown",
   "metadata": {},
   "source": [
    "# binary moving window"
   ]
  },
  {
   "cell_type": "code",
   "execution_count": 46,
   "metadata": {},
   "outputs": [
    {
     "data": {
      "text/html": [
       "<div>\n",
       "<style scoped>\n",
       "    .dataframe tbody tr th:only-of-type {\n",
       "        vertical-align: middle;\n",
       "    }\n",
       "\n",
       "    .dataframe tbody tr th {\n",
       "        vertical-align: top;\n",
       "    }\n",
       "\n",
       "    .dataframe thead th {\n",
       "        text-align: right;\n",
       "    }\n",
       "</style>\n",
       "<table border=\"1\" class=\"dataframe\">\n",
       "  <thead>\n",
       "    <tr style=\"text-align: right;\">\n",
       "      <th></th>\n",
       "      <th>AAPL</th>\n",
       "      <th>MSFT</th>\n",
       "      <th>XOM</th>\n",
       "      <th>SPX</th>\n",
       "    </tr>\n",
       "  </thead>\n",
       "  <tbody>\n",
       "    <tr>\n",
       "      <th>2003-01-02</th>\n",
       "      <td>7.40</td>\n",
       "      <td>21.11</td>\n",
       "      <td>29.22</td>\n",
       "      <td>909.03</td>\n",
       "    </tr>\n",
       "    <tr>\n",
       "      <th>2003-01-03</th>\n",
       "      <td>7.45</td>\n",
       "      <td>21.14</td>\n",
       "      <td>29.24</td>\n",
       "      <td>908.59</td>\n",
       "    </tr>\n",
       "    <tr>\n",
       "      <th>2003-01-06</th>\n",
       "      <td>7.45</td>\n",
       "      <td>21.52</td>\n",
       "      <td>29.96</td>\n",
       "      <td>929.01</td>\n",
       "    </tr>\n",
       "    <tr>\n",
       "      <th>2003-01-07</th>\n",
       "      <td>7.43</td>\n",
       "      <td>21.93</td>\n",
       "      <td>28.95</td>\n",
       "      <td>922.93</td>\n",
       "    </tr>\n",
       "    <tr>\n",
       "      <th>2003-01-08</th>\n",
       "      <td>7.28</td>\n",
       "      <td>21.31</td>\n",
       "      <td>28.83</td>\n",
       "      <td>909.93</td>\n",
       "    </tr>\n",
       "  </tbody>\n",
       "</table>\n",
       "</div>"
      ],
      "text/plain": [
       "            AAPL   MSFT    XOM     SPX\n",
       "2003-01-02  7.40  21.11  29.22  909.03\n",
       "2003-01-03  7.45  21.14  29.24  908.59\n",
       "2003-01-06  7.45  21.52  29.96  929.01\n",
       "2003-01-07  7.43  21.93  28.95  922.93\n",
       "2003-01-08  7.28  21.31  28.83  909.93"
      ]
     },
     "execution_count": 46,
     "metadata": {},
     "output_type": "execute_result"
    }
   ],
   "source": [
    "close_px_all = pd.read_csv('/home/hsiehpinghan/git/python/pandas-python/data/stock_px_2.csv', parse_dates=True, index_col=0)\n",
    "close_px_all[0:5]"
   ]
  },
  {
   "cell_type": "code",
   "execution_count": 47,
   "metadata": {},
   "outputs": [
    {
     "data": {
      "text/plain": [
       "2003-01-02         NaN\n",
       "2003-01-03   -0.000484\n",
       "2003-01-06    0.022474\n",
       "2003-01-07   -0.006545\n",
       "2003-01-08   -0.014086\n",
       "Name: SPX, dtype: float64"
      ]
     },
     "execution_count": 47,
     "metadata": {},
     "output_type": "execute_result"
    }
   ],
   "source": [
    "spx_rets = close_px_all['SPX'].pct_change()\n",
    "spx_rets[0:5]"
   ]
  },
  {
   "cell_type": "code",
   "execution_count": 48,
   "metadata": {},
   "outputs": [
    {
     "data": {
      "text/html": [
       "<div>\n",
       "<style scoped>\n",
       "    .dataframe tbody tr th:only-of-type {\n",
       "        vertical-align: middle;\n",
       "    }\n",
       "\n",
       "    .dataframe tbody tr th {\n",
       "        vertical-align: top;\n",
       "    }\n",
       "\n",
       "    .dataframe thead th {\n",
       "        text-align: right;\n",
       "    }\n",
       "</style>\n",
       "<table border=\"1\" class=\"dataframe\">\n",
       "  <thead>\n",
       "    <tr style=\"text-align: right;\">\n",
       "      <th></th>\n",
       "      <th>AAPL</th>\n",
       "      <th>MSFT</th>\n",
       "      <th>XOM</th>\n",
       "    </tr>\n",
       "  </thead>\n",
       "  <tbody>\n",
       "    <tr>\n",
       "      <th>2003-01-02</th>\n",
       "      <td>NaN</td>\n",
       "      <td>NaN</td>\n",
       "      <td>NaN</td>\n",
       "    </tr>\n",
       "    <tr>\n",
       "      <th>2003-01-03</th>\n",
       "      <td>0.006757</td>\n",
       "      <td>0.001421</td>\n",
       "      <td>0.000684</td>\n",
       "    </tr>\n",
       "    <tr>\n",
       "      <th>2003-01-06</th>\n",
       "      <td>0.000000</td>\n",
       "      <td>0.017975</td>\n",
       "      <td>0.024624</td>\n",
       "    </tr>\n",
       "    <tr>\n",
       "      <th>2003-01-07</th>\n",
       "      <td>-0.002685</td>\n",
       "      <td>0.019052</td>\n",
       "      <td>-0.033712</td>\n",
       "    </tr>\n",
       "    <tr>\n",
       "      <th>2003-01-08</th>\n",
       "      <td>-0.020188</td>\n",
       "      <td>-0.028272</td>\n",
       "      <td>-0.004145</td>\n",
       "    </tr>\n",
       "  </tbody>\n",
       "</table>\n",
       "</div>"
      ],
      "text/plain": [
       "                AAPL      MSFT       XOM\n",
       "2003-01-02       NaN       NaN       NaN\n",
       "2003-01-03  0.006757  0.001421  0.000684\n",
       "2003-01-06  0.000000  0.017975  0.024624\n",
       "2003-01-07 -0.002685  0.019052 -0.033712\n",
       "2003-01-08 -0.020188 -0.028272 -0.004145"
      ]
     },
     "execution_count": 48,
     "metadata": {},
     "output_type": "execute_result"
    }
   ],
   "source": [
    "returns = close_px.pct_change()\n",
    "returns[0:5]"
   ]
  },
  {
   "cell_type": "code",
   "execution_count": 49,
   "metadata": {},
   "outputs": [
    {
     "data": {
      "text/plain": [
       "<matplotlib.axes._subplots.AxesSubplot at 0x7f6f9448e1d0>"
      ]
     },
     "execution_count": 49,
     "metadata": {},
     "output_type": "execute_result"
    },
    {
     "data": {
      "image/png": "[encoded data removed]",
      "text/plain": [
       "<Figure size 432x288 with 1 Axes>"
      ]
     },
     "metadata": {},
     "output_type": "display_data"
    }
   ],
   "source": [
    "corr = returns.rolling(125, min_periods=100).corr(spx_rets)\n",
    "corr.plot()"
   ]
  },
  {
   "cell_type": "markdown",
   "metadata": {},
   "source": [
    "# user-defined moving window"
   ]
  },
  {
   "cell_type": "code",
   "execution_count": 50,
   "metadata": {},
   "outputs": [
    {
     "data": {
      "text/html": [
       "<div>\n",
       "<style scoped>\n",
       "    .dataframe tbody tr th:only-of-type {\n",
       "        vertical-align: middle;\n",
       "    }\n",
       "\n",
       "    .dataframe tbody tr th {\n",
       "        vertical-align: top;\n",
       "    }\n",
       "\n",
       "    .dataframe thead th {\n",
       "        text-align: right;\n",
       "    }\n",
       "</style>\n",
       "<table border=\"1\" class=\"dataframe\">\n",
       "  <thead>\n",
       "    <tr style=\"text-align: right;\">\n",
       "      <th></th>\n",
       "      <th>AAPL</th>\n",
       "      <th>MSFT</th>\n",
       "      <th>XOM</th>\n",
       "    </tr>\n",
       "  </thead>\n",
       "  <tbody>\n",
       "    <tr>\n",
       "      <th>2003-01-02</th>\n",
       "      <td>7.40</td>\n",
       "      <td>21.11</td>\n",
       "      <td>29.22</td>\n",
       "    </tr>\n",
       "    <tr>\n",
       "      <th>2003-01-03</th>\n",
       "      <td>7.45</td>\n",
       "      <td>21.14</td>\n",
       "      <td>29.24</td>\n",
       "    </tr>\n",
       "    <tr>\n",
       "      <th>2003-01-06</th>\n",
       "      <td>7.45</td>\n",
       "      <td>21.52</td>\n",
       "      <td>29.96</td>\n",
       "    </tr>\n",
       "    <tr>\n",
       "      <th>2003-01-07</th>\n",
       "      <td>7.43</td>\n",
       "      <td>21.93</td>\n",
       "      <td>28.95</td>\n",
       "    </tr>\n",
       "    <tr>\n",
       "      <th>2003-01-08</th>\n",
       "      <td>7.28</td>\n",
       "      <td>21.31</td>\n",
       "      <td>28.83</td>\n",
       "    </tr>\n",
       "  </tbody>\n",
       "</table>\n",
       "</div>"
      ],
      "text/plain": [
       "            AAPL   MSFT    XOM\n",
       "2003-01-02  7.40  21.11  29.22\n",
       "2003-01-03  7.45  21.14  29.24\n",
       "2003-01-06  7.45  21.52  29.96\n",
       "2003-01-07  7.43  21.93  28.95\n",
       "2003-01-08  7.28  21.31  28.83"
      ]
     },
     "execution_count": 50,
     "metadata": {},
     "output_type": "execute_result"
    }
   ],
   "source": [
    "close_px_all = pd.read_csv('/home/hsiehpinghan/git/python/pandas-python/data/stock_px_2.csv', parse_dates=True, index_col=0)\n",
    "close_px = close_px_all[['AAPL', 'MSFT', 'XOM']]\n",
    "close_px[0:5]"
   ]
  },
  {
   "cell_type": "code",
   "execution_count": 51,
   "metadata": {},
   "outputs": [
    {
     "data": {
      "text/html": [
       "<div>\n",
       "<style scoped>\n",
       "    .dataframe tbody tr th:only-of-type {\n",
       "        vertical-align: middle;\n",
       "    }\n",
       "\n",
       "    .dataframe tbody tr th {\n",
       "        vertical-align: top;\n",
       "    }\n",
       "\n",
       "    .dataframe thead th {\n",
       "        text-align: right;\n",
       "    }\n",
       "</style>\n",
       "<table border=\"1\" class=\"dataframe\">\n",
       "  <thead>\n",
       "    <tr style=\"text-align: right;\">\n",
       "      <th></th>\n",
       "      <th>AAPL</th>\n",
       "      <th>MSFT</th>\n",
       "      <th>XOM</th>\n",
       "    </tr>\n",
       "  </thead>\n",
       "  <tbody>\n",
       "    <tr>\n",
       "      <th>2003-01-02</th>\n",
       "      <td>NaN</td>\n",
       "      <td>NaN</td>\n",
       "      <td>NaN</td>\n",
       "    </tr>\n",
       "    <tr>\n",
       "      <th>2003-01-03</th>\n",
       "      <td>NaN</td>\n",
       "      <td>NaN</td>\n",
       "      <td>NaN</td>\n",
       "    </tr>\n",
       "    <tr>\n",
       "      <th>2003-01-06</th>\n",
       "      <td>22.30</td>\n",
       "      <td>63.77</td>\n",
       "      <td>88.42</td>\n",
       "    </tr>\n",
       "    <tr>\n",
       "      <th>2003-01-07</th>\n",
       "      <td>22.33</td>\n",
       "      <td>64.59</td>\n",
       "      <td>88.15</td>\n",
       "    </tr>\n",
       "    <tr>\n",
       "      <th>2003-01-08</th>\n",
       "      <td>22.16</td>\n",
       "      <td>64.76</td>\n",
       "      <td>87.74</td>\n",
       "    </tr>\n",
       "  </tbody>\n",
       "</table>\n",
       "</div>"
      ],
      "text/plain": [
       "             AAPL   MSFT    XOM\n",
       "2003-01-02    NaN    NaN    NaN\n",
       "2003-01-03    NaN    NaN    NaN\n",
       "2003-01-06  22.30  63.77  88.42\n",
       "2003-01-07  22.33  64.59  88.15\n",
       "2003-01-08  22.16  64.76  87.74"
      ]
     },
     "execution_count": 51,
     "metadata": {},
     "output_type": "execute_result"
    }
   ],
   "source": [
    "my_func = lambda x: sum(x)\n",
    "close_px.rolling(3).apply(my_func, raw=False)[0:5]"
   ]
  },
  {
   "cell_type": "markdown",
   "metadata": {},
   "source": [
    "# latest business day"
   ]
  },
  {
   "cell_type": "code",
   "execution_count": 52,
   "metadata": {},
   "outputs": [
    {
     "data": {
      "text/plain": [
       "PeriodIndex(['2016-01-29 09:00', '2016-02-29 09:00', '2016-03-31 09:00',\n",
       "             '2016-04-29 09:00', '2016-05-31 09:00', '2016-06-30 09:00',\n",
       "             '2016-07-29 09:00', '2016-08-31 09:00', '2016-09-30 09:00',\n",
       "             '2016-10-31 09:00', '2016-11-30 09:00', '2016-12-30 09:00'],\n",
       "            dtype='period[H]', freq='H')"
      ]
     },
     "execution_count": 52,
     "metadata": {},
     "output_type": "execute_result"
    }
   ],
   "source": [
    "months_2016 = pd.period_range(\"2016\", periods=12, freq=\"M\")\n",
    "one_day_after_last_days = months_2016.asfreq(\"D\") + 1\n",
    "last_bdays = one_day_after_last_days.to_timestamp() - pd.tseries.offsets.BDay()\n",
    "last_bdays.to_period(\"H\") + 9"
   ]
  },
  {
   "cell_type": "code",
   "execution_count": null,
   "metadata": {},
   "outputs": [],
   "source": []
  }
 ],
 "metadata": {
  "kernelspec": {
   "display_name": "Python 3",
   "language": "python",
   "name": "python3"
  },
  "language_info": {
   "codemirror_mode": {
    "name": "ipython",
    "version": 3
   },
   "file_extension": ".py",
   "mimetype": "text/x-python",
   "name": "python",
   "nbconvert_exporter": "python",
   "pygments_lexer": "ipython3",
   "version": "3.6.5"
  }
 },
 "nbformat": 4,
 "nbformat_minor": 2
}
