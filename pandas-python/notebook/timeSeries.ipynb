{
 "cells": [
  {
   "cell_type": "code",
   "execution_count": 44,
   "metadata": {},
   "outputs": [],
   "source": [
    "import pandas as pd\n",
    "import numpy as np\n",
    "from datetime import datetime\n",
    "from pandas.tseries.offsets import MonthEnd"
   ]
  },
  {
   "cell_type": "markdown",
   "metadata": {},
   "source": [
    "# select"
   ]
  },
  {
   "cell_type": "code",
   "execution_count": 14,
   "metadata": {},
   "outputs": [
    {
     "data": {
      "text/plain": [
       "2011-01-02   -0.548615\n",
       "2011-01-05   -0.168159\n",
       "2011-01-07   -1.582690\n",
       "2011-01-08    1.860168\n",
       "2011-01-10    0.003517\n",
       "2011-01-12   -0.153053\n",
       "dtype: float64"
      ]
     },
     "execution_count": 14,
     "metadata": {},
     "output_type": "execute_result"
    }
   ],
   "source": [
    "dates = [\n",
    "    datetime(2011, 1, 2), datetime(2011, 1, 5),\n",
    "    datetime(2011, 1, 7), datetime(2011, 1, 8),\n",
    "    datetime(2011, 1, 10), datetime(2011, 1, 12)\n",
    "]\n",
    "ts = pd.Series(np.random.randn(6), index=dates)\n",
    "ts"
   ]
  },
  {
   "cell_type": "code",
   "execution_count": 6,
   "metadata": {},
   "outputs": [
    {
     "data": {
      "text/plain": [
       "-0.15001309829745757"
      ]
     },
     "execution_count": 6,
     "metadata": {},
     "output_type": "execute_result"
    }
   ],
   "source": [
    "ts[ts.index[3]]"
   ]
  },
  {
   "cell_type": "code",
   "execution_count": 7,
   "metadata": {},
   "outputs": [
    {
     "data": {
      "text/plain": [
       "-0.15001309829745757"
      ]
     },
     "execution_count": 7,
     "metadata": {},
     "output_type": "execute_result"
    }
   ],
   "source": [
    "ts['2011-01-08']"
   ]
  },
  {
   "cell_type": "code",
   "execution_count": 8,
   "metadata": {},
   "outputs": [
    {
     "data": {
      "text/plain": [
       "-0.15001309829745757"
      ]
     },
     "execution_count": 8,
     "metadata": {},
     "output_type": "execute_result"
    }
   ],
   "source": [
    "ts['20110108']"
   ]
  },
  {
   "cell_type": "code",
   "execution_count": 15,
   "metadata": {},
   "outputs": [
    {
     "data": {
      "text/plain": [
       "2011-01-07   -1.582690\n",
       "2011-01-08    1.860168\n",
       "2011-01-10    0.003517\n",
       "2011-01-12   -0.153053\n",
       "dtype: float64"
      ]
     },
     "execution_count": 15,
     "metadata": {},
     "output_type": "execute_result"
    }
   ],
   "source": [
    "ts[datetime(2011, 1, 7):]"
   ]
  },
  {
   "cell_type": "code",
   "execution_count": 16,
   "metadata": {},
   "outputs": [
    {
     "data": {
      "text/plain": [
       "2011-01-07   -1.582690\n",
       "2011-01-08    1.860168\n",
       "2011-01-10    0.003517\n",
       "dtype: float64"
      ]
     },
     "execution_count": 16,
     "metadata": {},
     "output_type": "execute_result"
    }
   ],
   "source": [
    "ts['1/6/2011':'1/11/2011']"
   ]
  },
  {
   "cell_type": "code",
   "execution_count": 9,
   "metadata": {},
   "outputs": [
    {
     "data": {
      "text/plain": [
       "2000-01-01    0.163374\n",
       "2000-01-02   -0.568072\n",
       "2000-01-03    1.001680\n",
       "2000-01-04    0.034447\n",
       "2000-01-05   -0.325409\n",
       "2000-01-06   -0.515309\n",
       "2000-01-07   -1.519469\n",
       "2000-01-08    0.886959\n",
       "2000-01-09    0.276181\n",
       "2000-01-10   -1.172534\n",
       "2000-01-11    0.244670\n",
       "2000-01-12   -0.283845\n",
       "2000-01-13    0.066906\n",
       "2000-01-14   -1.286139\n",
       "2000-01-15    1.266943\n",
       "2000-01-16    1.221705\n",
       "2000-01-17    0.461656\n",
       "2000-01-18    1.696440\n",
       "2000-01-19   -1.501949\n",
       "2000-01-20    0.429618\n",
       "2000-01-21    0.980889\n",
       "2000-01-22    1.191335\n",
       "2000-01-23   -0.692420\n",
       "2000-01-24    0.906478\n",
       "2000-01-25   -0.375235\n",
       "2000-01-26    2.713931\n",
       "2000-01-27    0.488913\n",
       "2000-01-28    1.507973\n",
       "2000-01-29   -0.686736\n",
       "2000-01-30    0.549817\n",
       "                ...   \n",
       "2002-08-28   -0.632099\n",
       "2002-08-29   -0.020326\n",
       "2002-08-30    1.142492\n",
       "2002-08-31    1.528584\n",
       "2002-09-01   -0.666140\n",
       "2002-09-02    1.889632\n",
       "2002-09-03    0.954589\n",
       "2002-09-04    0.514041\n",
       "2002-09-05   -1.273045\n",
       "2002-09-06   -0.872155\n",
       "2002-09-07    0.039164\n",
       "2002-09-08   -0.019558\n",
       "2002-09-09   -0.040578\n",
       "2002-09-10    1.156331\n",
       "2002-09-11   -0.323076\n",
       "2002-09-12    1.740645\n",
       "2002-09-13   -0.438003\n",
       "2002-09-14    0.446263\n",
       "2002-09-15    1.136817\n",
       "2002-09-16    1.319578\n",
       "2002-09-17    0.441585\n",
       "2002-09-18    0.580101\n",
       "2002-09-19   -1.695215\n",
       "2002-09-20   -0.922550\n",
       "2002-09-21   -0.858287\n",
       "2002-09-22   -0.313062\n",
       "2002-09-23    1.861096\n",
       "2002-09-24   -0.176761\n",
       "2002-09-25   -0.517611\n",
       "2002-09-26    0.958970\n",
       "Freq: D, Length: 1000, dtype: float64"
      ]
     },
     "execution_count": 9,
     "metadata": {},
     "output_type": "execute_result"
    }
   ],
   "source": [
    "ts = pd.Series(\n",
    "    np.random.randn(1000),\n",
    "    index=pd.date_range('1/1/2000', periods=1000)\n",
    ")\n",
    "ts"
   ]
  },
  {
   "cell_type": "code",
   "execution_count": 11,
   "metadata": {},
   "outputs": [
    {
     "data": {
      "text/plain": [
       "2001-01-01    0.401672\n",
       "2001-01-02   -0.066076\n",
       "2001-01-03    0.483296\n",
       "2001-01-04   -0.636025\n",
       "2001-01-05    1.729516\n",
       "2001-01-06    0.800064\n",
       "2001-01-07   -1.030473\n",
       "2001-01-08   -0.764197\n",
       "2001-01-09    0.829211\n",
       "2001-01-10    1.774197\n",
       "2001-01-11    0.028230\n",
       "2001-01-12   -1.401455\n",
       "2001-01-13    0.026158\n",
       "2001-01-14    0.542118\n",
       "2001-01-15   -0.308643\n",
       "2001-01-16   -1.336759\n",
       "2001-01-17   -1.828354\n",
       "2001-01-18   -0.663059\n",
       "2001-01-19   -0.800787\n",
       "2001-01-20   -1.262249\n",
       "2001-01-21    1.794459\n",
       "2001-01-22    0.636660\n",
       "2001-01-23   -2.324620\n",
       "2001-01-24   -1.634379\n",
       "2001-01-25    2.007831\n",
       "2001-01-26   -0.929867\n",
       "2001-01-27    0.896599\n",
       "2001-01-28    1.224217\n",
       "2001-01-29   -0.643482\n",
       "2001-01-30   -1.169798\n",
       "                ...   \n",
       "2001-12-02    0.372984\n",
       "2001-12-03    1.079265\n",
       "2001-12-04   -0.711265\n",
       "2001-12-05   -0.406092\n",
       "2001-12-06    1.204962\n",
       "2001-12-07   -1.712544\n",
       "2001-12-08    1.104833\n",
       "2001-12-09   -1.294849\n",
       "2001-12-10   -0.042374\n",
       "2001-12-11   -0.159410\n",
       "2001-12-12    0.511926\n",
       "2001-12-13   -0.032583\n",
       "2001-12-14   -0.029839\n",
       "2001-12-15   -1.304420\n",
       "2001-12-16   -1.372264\n",
       "2001-12-17    0.442577\n",
       "2001-12-18   -0.479144\n",
       "2001-12-19    0.409178\n",
       "2001-12-20   -0.283424\n",
       "2001-12-21    1.200264\n",
       "2001-12-22    0.020776\n",
       "2001-12-23   -0.407437\n",
       "2001-12-24   -0.388850\n",
       "2001-12-25   -0.058545\n",
       "2001-12-26    2.066803\n",
       "2001-12-27    0.140194\n",
       "2001-12-28    0.376408\n",
       "2001-12-29   -0.343539\n",
       "2001-12-30   -0.126352\n",
       "2001-12-31   -0.037434\n",
       "Freq: D, Length: 365, dtype: float64"
      ]
     },
     "execution_count": 11,
     "metadata": {},
     "output_type": "execute_result"
    }
   ],
   "source": [
    "ts['2001']"
   ]
  },
  {
   "cell_type": "code",
   "execution_count": 12,
   "metadata": {},
   "outputs": [
    {
     "data": {
      "text/plain": [
       "2001-05-01    0.008059\n",
       "2001-05-02    0.830009\n",
       "2001-05-03   -1.391070\n",
       "2001-05-04    0.174784\n",
       "2001-05-05    0.107778\n",
       "2001-05-06   -0.114364\n",
       "2001-05-07   -1.654355\n",
       "2001-05-08   -0.439981\n",
       "2001-05-09   -1.646968\n",
       "2001-05-10   -0.804966\n",
       "2001-05-11   -0.035147\n",
       "2001-05-12   -0.007393\n",
       "2001-05-13   -1.583755\n",
       "2001-05-14   -0.114125\n",
       "2001-05-15   -0.253433\n",
       "2001-05-16    0.566495\n",
       "2001-05-17   -0.883668\n",
       "2001-05-18    1.997568\n",
       "2001-05-19    0.564737\n",
       "2001-05-20    0.018462\n",
       "2001-05-21    0.603551\n",
       "2001-05-22    2.131863\n",
       "2001-05-23    0.685385\n",
       "2001-05-24   -0.945502\n",
       "2001-05-25   -0.532843\n",
       "2001-05-26    2.391318\n",
       "2001-05-27    0.617798\n",
       "2001-05-28    0.233180\n",
       "2001-05-29   -0.140749\n",
       "2001-05-30    0.759216\n",
       "2001-05-31   -0.878612\n",
       "Freq: D, dtype: float64"
      ]
     },
     "execution_count": 12,
     "metadata": {},
     "output_type": "execute_result"
    }
   ],
   "source": [
    "ts['2001-5']"
   ]
  },
  {
   "cell_type": "code",
   "execution_count": null,
   "metadata": {},
   "outputs": [],
   "source": [
    "ts[datetime(2011, 1, 7):]"
   ]
  },
  {
   "cell_type": "markdown",
   "metadata": {},
   "source": [
    "# truncate"
   ]
  },
  {
   "cell_type": "code",
   "execution_count": 17,
   "metadata": {},
   "outputs": [
    {
     "data": {
      "text/plain": [
       "2011-01-02    2.550714\n",
       "2011-01-05    1.592869\n",
       "2011-01-07    0.213103\n",
       "2011-01-08   -0.300751\n",
       "2011-01-10   -1.712269\n",
       "2011-01-12    0.497448\n",
       "dtype: float64"
      ]
     },
     "execution_count": 17,
     "metadata": {},
     "output_type": "execute_result"
    }
   ],
   "source": [
    "dates = [\n",
    "    datetime(2011, 1, 2), datetime(2011, 1, 5),\n",
    "    datetime(2011, 1, 7), datetime(2011, 1, 8),\n",
    "    datetime(2011, 1, 10), datetime(2011, 1, 12)\n",
    "]\n",
    "ts = pd.Series(np.random.randn(6), index=dates)\n",
    "ts"
   ]
  },
  {
   "cell_type": "code",
   "execution_count": 18,
   "metadata": {},
   "outputs": [
    {
     "data": {
      "text/plain": [
       "2011-01-02    2.550714\n",
       "2011-01-05    1.592869\n",
       "2011-01-07    0.213103\n",
       "2011-01-08   -0.300751\n",
       "dtype: float64"
      ]
     },
     "execution_count": 18,
     "metadata": {},
     "output_type": "execute_result"
    }
   ],
   "source": [
    "ts.truncate(after='1/9/2011')"
   ]
  },
  {
   "cell_type": "markdown",
   "metadata": {},
   "source": [
    "# frequency"
   ]
  },
  {
   "cell_type": "code",
   "execution_count": 19,
   "metadata": {},
   "outputs": [
    {
     "data": {
      "text/plain": [
       "DatetimeIndex(['2000-01-05', '2000-01-12', '2000-01-19', '2000-01-26',\n",
       "               '2000-02-02', '2000-02-09', '2000-02-16', '2000-02-23',\n",
       "               '2000-03-01', '2000-03-08', '2000-03-15', '2000-03-22',\n",
       "               '2000-03-29', '2000-04-05', '2000-04-12', '2000-04-19',\n",
       "               '2000-04-26', '2000-05-03', '2000-05-10', '2000-05-17',\n",
       "               '2000-05-24', '2000-05-31', '2000-06-07', '2000-06-14',\n",
       "               '2000-06-21', '2000-06-28', '2000-07-05', '2000-07-12',\n",
       "               '2000-07-19', '2000-07-26', '2000-08-02', '2000-08-09',\n",
       "               '2000-08-16', '2000-08-23', '2000-08-30', '2000-09-06',\n",
       "               '2000-09-13', '2000-09-20', '2000-09-27', '2000-10-04',\n",
       "               '2000-10-11', '2000-10-18', '2000-10-25', '2000-11-01',\n",
       "               '2000-11-08', '2000-11-15', '2000-11-22', '2000-11-29',\n",
       "               '2000-12-06', '2000-12-13', '2000-12-20', '2000-12-27',\n",
       "               '2001-01-03', '2001-01-10', '2001-01-17', '2001-01-24',\n",
       "               '2001-01-31', '2001-02-07', '2001-02-14', '2001-02-21',\n",
       "               '2001-02-28', '2001-03-07', '2001-03-14', '2001-03-21',\n",
       "               '2001-03-28', '2001-04-04', '2001-04-11', '2001-04-18',\n",
       "               '2001-04-25', '2001-05-02', '2001-05-09', '2001-05-16',\n",
       "               '2001-05-23', '2001-05-30', '2001-06-06', '2001-06-13',\n",
       "               '2001-06-20', '2001-06-27', '2001-07-04', '2001-07-11',\n",
       "               '2001-07-18', '2001-07-25', '2001-08-01', '2001-08-08',\n",
       "               '2001-08-15', '2001-08-22', '2001-08-29', '2001-09-05',\n",
       "               '2001-09-12', '2001-09-19', '2001-09-26', '2001-10-03',\n",
       "               '2001-10-10', '2001-10-17', '2001-10-24', '2001-10-31',\n",
       "               '2001-11-07', '2001-11-14', '2001-11-21', '2001-11-28'],\n",
       "              dtype='datetime64[ns]', freq='W-WED')"
      ]
     },
     "execution_count": 19,
     "metadata": {},
     "output_type": "execute_result"
    }
   ],
   "source": [
    "dates = pd.date_range('1/1/2000', periods=100, freq='W-WED')\n",
    "dates"
   ]
  },
  {
   "cell_type": "code",
   "execution_count": 34,
   "metadata": {},
   "outputs": [
    {
     "data": {
      "text/plain": [
       "DatetimeIndex(['2000-01-01 00:00:00', '2000-01-01 01:30:00',\n",
       "               '2000-01-01 03:00:00', '2000-01-01 04:30:00',\n",
       "               '2000-01-01 06:00:00', '2000-01-01 07:30:00',\n",
       "               '2000-01-01 09:00:00', '2000-01-01 10:30:00',\n",
       "               '2000-01-01 12:00:00', '2000-01-01 13:30:00'],\n",
       "              dtype='datetime64[ns]', freq='90T')"
      ]
     },
     "execution_count": 34,
     "metadata": {},
     "output_type": "execute_result"
    }
   ],
   "source": [
    "pd.date_range('2000-01-01', periods=10, freq='1h30min')"
   ]
  },
  {
   "cell_type": "markdown",
   "metadata": {},
   "source": [
    "# datetime frequency"
   ]
  },
  {
   "cell_type": "code",
   "execution_count": 23,
   "metadata": {},
   "outputs": [
    {
     "data": {
      "text/plain": [
       "DatetimeIndex(['2000-01-05', '2000-01-12', '2000-01-19', '2000-01-26',\n",
       "               '2000-02-02', '2000-02-09', '2000-02-16', '2000-02-23',\n",
       "               '2000-03-01', '2000-03-08'],\n",
       "              dtype='datetime64[ns]', freq='W-WED')"
      ]
     },
     "execution_count": 23,
     "metadata": {},
     "output_type": "execute_result"
    }
   ],
   "source": [
    "dates = pd.date_range('1/1/2000', periods=10, freq='W-WED')\n",
    "dates"
   ]
  },
  {
   "cell_type": "markdown",
   "metadata": {},
   "source": [
    "# duplicate date"
   ]
  },
  {
   "cell_type": "code",
   "execution_count": 25,
   "metadata": {},
   "outputs": [
    {
     "data": {
      "text/plain": [
       "2000-01-01    0\n",
       "2000-01-02    1\n",
       "2000-01-02    2\n",
       "2000-01-02    3\n",
       "2000-01-03    4\n",
       "dtype: int64"
      ]
     },
     "execution_count": 25,
     "metadata": {},
     "output_type": "execute_result"
    }
   ],
   "source": [
    "dates = pd.DatetimeIndex(['1/1/2000', '1/2/2000', '1/2/2000', '1/2/2000', '1/3/2000'])\n",
    "ts = pd.Series(np.arange(5), index=dates)\n",
    "ts"
   ]
  },
  {
   "cell_type": "code",
   "execution_count": 26,
   "metadata": {},
   "outputs": [
    {
     "data": {
      "text/plain": [
       "False"
      ]
     },
     "execution_count": 26,
     "metadata": {},
     "output_type": "execute_result"
    }
   ],
   "source": [
    "ts.index.is_unique"
   ]
  },
  {
   "cell_type": "code",
   "execution_count": 27,
   "metadata": {},
   "outputs": [
    {
     "data": {
      "text/plain": [
       "2000-01-01    0\n",
       "2000-01-02    2\n",
       "2000-01-03    4\n",
       "dtype: int64"
      ]
     },
     "execution_count": 27,
     "metadata": {},
     "output_type": "execute_result"
    }
   ],
   "source": [
    "grouped = ts.groupby(level=0)\n",
    "grouped.mean()"
   ]
  },
  {
   "cell_type": "markdown",
   "metadata": {},
   "source": [
    "# group by date"
   ]
  },
  {
   "cell_type": "code",
   "execution_count": 43,
   "metadata": {},
   "outputs": [
    {
     "data": {
      "text/plain": [
       "2000-01-15   -0.395714\n",
       "2000-01-19   -0.462092\n",
       "2000-01-23   -1.076810\n",
       "2000-01-27   -1.029270\n",
       "2000-01-31    0.891717\n",
       "2000-02-04   -1.000515\n",
       "2000-02-08   -0.541641\n",
       "2000-02-12    0.087851\n",
       "2000-02-16    0.289796\n",
       "2000-02-20    1.441489\n",
       "2000-02-24   -0.338533\n",
       "2000-02-28    0.559946\n",
       "2000-03-03   -0.350191\n",
       "2000-03-07   -3.105073\n",
       "2000-03-11   -0.741405\n",
       "2000-03-15   -0.030614\n",
       "2000-03-19    0.557011\n",
       "2000-03-23   -0.891927\n",
       "2000-03-27    0.066896\n",
       "2000-03-31    1.270674\n",
       "Freq: 4D, dtype: float64"
      ]
     },
     "execution_count": 43,
     "metadata": {},
     "output_type": "execute_result"
    }
   ],
   "source": [
    "ts = pd.Series(np.random.randn(20), index=pd.date_range('1/15/2000', periods=20, freq='4d'))\n",
    "ts"
   ]
  },
  {
   "cell_type": "code",
   "execution_count": 45,
   "metadata": {},
   "outputs": [
    {
     "data": {
      "text/plain": [
       "2000-01-31   -0.414434\n",
       "2000-02-29    0.071199\n",
       "2000-03-31   -0.403079\n",
       "dtype: float64"
      ]
     },
     "execution_count": 45,
     "metadata": {},
     "output_type": "execute_result"
    }
   ],
   "source": [
    "offset = MonthEnd()\n",
    "ts.groupby(offset.rollforward).mean()"
   ]
  },
  {
   "cell_type": "markdown",
   "metadata": {},
   "source": [
    "# date range"
   ]
  },
  {
   "cell_type": "code",
   "execution_count": 32,
   "metadata": {},
   "outputs": [
    {
     "data": {
      "text/plain": [
       "DatetimeIndex(['2012-04-01', '2012-04-02', '2012-04-03', '2012-04-04',\n",
       "               '2012-04-05', '2012-04-06', '2012-04-07', '2012-04-08',\n",
       "               '2012-04-09', '2012-04-10', '2012-04-11', '2012-04-12',\n",
       "               '2012-04-13', '2012-04-14', '2012-04-15', '2012-04-16',\n",
       "               '2012-04-17', '2012-04-18', '2012-04-19', '2012-04-20',\n",
       "               '2012-04-21', '2012-04-22', '2012-04-23', '2012-04-24',\n",
       "               '2012-04-25', '2012-04-26', '2012-04-27', '2012-04-28',\n",
       "               '2012-04-29', '2012-04-30', '2012-05-01'],\n",
       "              dtype='datetime64[ns]', freq='D')"
      ]
     },
     "execution_count": 32,
     "metadata": {},
     "output_type": "execute_result"
    }
   ],
   "source": [
    "index = pd.date_range(start='2012-04-01', end='2012-05-01')\n",
    "index"
   ]
  },
  {
   "cell_type": "code",
   "execution_count": 33,
   "metadata": {},
   "outputs": [
    {
     "data": {
      "text/plain": [
       "DatetimeIndex(['2012-05-02', '2012-05-03', '2012-05-04', '2012-05-05',\n",
       "               '2012-05-06'],\n",
       "              dtype='datetime64[ns]', freq='D')"
      ]
     },
     "execution_count": 33,
     "metadata": {},
     "output_type": "execute_result"
    }
   ],
   "source": [
    "index = pd.date_range('2012-05-02 12:56:31', periods=5, normalize=True)\n",
    "index"
   ]
  },
  {
   "cell_type": "markdown",
   "metadata": {},
   "source": [
    "# shift"
   ]
  },
  {
   "cell_type": "code",
   "execution_count": 37,
   "metadata": {},
   "outputs": [
    {
     "data": {
      "text/plain": [
       "2000-01-31   -0.437984\n",
       "2000-02-29   -0.638836\n",
       "2000-03-31    0.669411\n",
       "2000-04-30   -1.487197\n",
       "Freq: M, dtype: float64"
      ]
     },
     "execution_count": 37,
     "metadata": {},
     "output_type": "execute_result"
    }
   ],
   "source": [
    "index = pd.date_range('1/1/2000', periods=4, freq='M')\n",
    "ts = pd.Series(np.random.randn(4), index=index)\n",
    "ts"
   ]
  },
  {
   "cell_type": "code",
   "execution_count": 38,
   "metadata": {},
   "outputs": [
    {
     "data": {
      "text/plain": [
       "2000-01-31         NaN\n",
       "2000-02-29         NaN\n",
       "2000-03-31   -0.437984\n",
       "2000-04-30   -0.638836\n",
       "Freq: M, dtype: float64"
      ]
     },
     "execution_count": 38,
     "metadata": {},
     "output_type": "execute_result"
    }
   ],
   "source": [
    "ts.shift(2)"
   ]
  },
  {
   "cell_type": "code",
   "execution_count": 39,
   "metadata": {},
   "outputs": [
    {
     "data": {
      "text/plain": [
       "2000-01-31    0.669411\n",
       "2000-02-29   -1.487197\n",
       "2000-03-31         NaN\n",
       "2000-04-30         NaN\n",
       "Freq: M, dtype: float64"
      ]
     },
     "execution_count": 39,
     "metadata": {},
     "output_type": "execute_result"
    }
   ],
   "source": [
    "ts.shift(-2)"
   ]
  },
  {
   "cell_type": "code",
   "execution_count": 40,
   "metadata": {},
   "outputs": [
    {
     "data": {
      "text/plain": [
       "2000-03-31   -0.437984\n",
       "2000-04-30   -0.638836\n",
       "2000-05-31    0.669411\n",
       "2000-06-30   -1.487197\n",
       "Freq: M, dtype: float64"
      ]
     },
     "execution_count": 40,
     "metadata": {},
     "output_type": "execute_result"
    }
   ],
   "source": [
    "ts.shift(2, freq='M')"
   ]
  },
  {
   "cell_type": "code",
   "execution_count": 41,
   "metadata": {},
   "outputs": [
    {
     "data": {
      "text/plain": [
       "2000-02-03   -0.437984\n",
       "2000-03-03   -0.638836\n",
       "2000-04-03    0.669411\n",
       "2000-05-03   -1.487197\n",
       "dtype: float64"
      ]
     },
     "execution_count": 41,
     "metadata": {},
     "output_type": "execute_result"
    }
   ],
   "source": [
    "ts.shift(3, freq='D')"
   ]
  }
 ],
 "metadata": {
  "kernelspec": {
   "display_name": "Python 3",
   "language": "python",
   "name": "python3"
  },
  "language_info": {
   "codemirror_mode": {
    "name": "ipython",
    "version": 3
   },
   "file_extension": ".py",
   "mimetype": "text/x-python",
   "name": "python",
   "nbconvert_exporter": "python",
   "pygments_lexer": "ipython3",
   "version": "3.6.5"
  }
 },
 "nbformat": 4,
 "nbformat_minor": 2
}
