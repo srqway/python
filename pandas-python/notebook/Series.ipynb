{
 "cells": [
  {
   "cell_type": "code",
   "execution_count": 1,
   "metadata": {},
   "outputs": [],
   "source": [
    "import pandas as pd"
   ]
  },
  {
   "cell_type": "markdown",
   "metadata": {},
   "source": [
    "# Series with index"
   ]
  },
  {
   "cell_type": "code",
   "execution_count": 8,
   "metadata": {},
   "outputs": [
    {
     "name": "stdout",
     "output_type": "stream",
     "text": [
      "1\n",
      "----------\n",
      "b    1\n",
      "c    2\n",
      "dtype: int64\n"
     ]
    }
   ],
   "source": [
    "series_with_index = pd.Series([0, 1, 2, 3], index=['a', 'b', 'c', 'd'])\n",
    "print(series_with_index['b'])\n",
    "print(\"----------\")\n",
    "print(series_with_index[['b', 'c']])"
   ]
  },
  {
   "cell_type": "markdown",
   "metadata": {},
   "source": [
    "# Update value"
   ]
  },
  {
   "cell_type": "code",
   "execution_count": 9,
   "metadata": {},
   "outputs": [
    {
     "name": "stdout",
     "output_type": "stream",
     "text": [
      "a    0\n",
      "b    9\n",
      "c    2\n",
      "d    3\n",
      "dtype: int64\n"
     ]
    }
   ],
   "source": [
    "series_with_index['b'] = 9\n",
    "print(series_with_index)"
   ]
  },
  {
   "cell_type": "markdown",
   "metadata": {},
   "source": [
    "# Filter"
   ]
  },
  {
   "cell_type": "code",
   "execution_count": 11,
   "metadata": {},
   "outputs": [
    {
     "name": "stdout",
     "output_type": "stream",
     "text": [
      "b    9\n",
      "d    3\n",
      "dtype: int64\n"
     ]
    }
   ],
   "source": [
    "print(series_with_index[series_with_index > 2])"
   ]
  },
  {
   "cell_type": "markdown",
   "metadata": {},
   "source": [
    "# Multiply"
   ]
  },
  {
   "cell_type": "code",
   "execution_count": 12,
   "metadata": {},
   "outputs": [
    {
     "name": "stdout",
     "output_type": "stream",
     "text": [
      "a     0\n",
      "b    18\n",
      "c     4\n",
      "d     6\n",
      "dtype: int64\n"
     ]
    }
   ],
   "source": [
    "print(series_with_index * 2)"
   ]
  },
  {
   "cell_type": "markdown",
   "metadata": {},
   "source": [
    "# Dictionary-like operation"
   ]
  },
  {
   "cell_type": "code",
   "execution_count": 14,
   "metadata": {},
   "outputs": [
    {
     "name": "stdout",
     "output_type": "stream",
     "text": [
      "True\n",
      "----------\n",
      "False\n"
     ]
    }
   ],
   "source": [
    "print('c' in series_with_index)\n",
    "print(\"----------\")\n",
    "print('x' in series_with_index)"
   ]
  },
  {
   "cell_type": "markdown",
   "metadata": {},
   "source": [
    "# Dictionary to series"
   ]
  },
  {
   "cell_type": "code",
   "execution_count": 15,
   "metadata": {},
   "outputs": [
    {
     "name": "stdout",
     "output_type": "stream",
     "text": [
      "aaa    111\n",
      "bbb    222\n",
      "ccc    333\n",
      "dtype: int64\n"
     ]
    }
   ],
   "source": [
    "dictionary_to_series = {\"aaa\" : 111, \"bbb\" : 222, \"ccc\" : 333}\n",
    "print(pd.Series(dictionary_to_series))"
   ]
  },
  {
   "cell_type": "markdown",
   "metadata": {},
   "source": [
    "# Dictionary to series with index"
   ]
  },
  {
   "cell_type": "code",
   "execution_count": 16,
   "metadata": {},
   "outputs": [
    {
     "name": "stdout",
     "output_type": "stream",
     "text": [
      "ccc    333.0\n",
      "aaa    111.0\n",
      "xxx      NaN\n",
      "dtype: float64\n"
     ]
    }
   ],
   "source": [
    "dictionary_to_series_with_index = {\"aaa\" : 111, \"bbb\" : 222, \"ccc\" : 333}\n",
    "print(pd.Series(dictionary_to_series, index=[\"ccc\", \"aaa\", \"xxx\"]))"
   ]
  },
  {
   "cell_type": "markdown",
   "metadata": {},
   "source": [
    "# Detect missing data"
   ]
  },
  {
   "cell_type": "code",
   "execution_count": 19,
   "metadata": {},
   "outputs": [
    {
     "name": "stdout",
     "output_type": "stream",
     "text": [
      "ccc    False\n",
      "aaa    False\n",
      "xxx     True\n",
      "dtype: bool\n"
     ]
    }
   ],
   "source": [
    "detect_missing_data = pd.Series({\"aaa\" : 111, \"bbb\" : 222, \"ccc\" : 333}, index=[\"ccc\", \"aaa\", \"xxx\"])\n",
    "print(detect_missing_data.isna())"
   ]
  },
  {
   "cell_type": "markdown",
   "metadata": {},
   "source": [
    "# Add serieses"
   ]
  },
  {
   "cell_type": "code",
   "execution_count": 21,
   "metadata": {},
   "outputs": [
    {
     "name": "stdout",
     "output_type": "stream",
     "text": [
      "a    NaN\n",
      "b    4.0\n",
      "c    6.0\n",
      "d    NaN\n",
      "dtype: float64\n"
     ]
    }
   ],
   "source": [
    "add_serieses_0 = pd.Series({\"a\" : 1, \"b\" : 2, \"c\" : 3})\n",
    "add_serieses_1 = pd.Series({\"b\" : 2, \"c\" : 3, \"d\" : 4})\n",
    "print(add_serieses_0 + add_serieses_1)"
   ]
  },
  {
   "cell_type": "markdown",
   "metadata": {},
   "source": [
    "# Series name"
   ]
  },
  {
   "cell_type": "code",
   "execution_count": 22,
   "metadata": {},
   "outputs": [
    {
     "name": "stdout",
     "output_type": "stream",
     "text": [
      "a    1\n",
      "b    2\n",
      "c    3\n",
      "Name: my series name, dtype: int64\n"
     ]
    }
   ],
   "source": [
    "series_name = pd.Series({\"a\" : 1, \"b\" : 2, \"c\" : 3})\n",
    "series_name.name = \"my_series_name\"\n",
    "print(series_name)"
   ]
  },
  {
   "cell_type": "markdown",
   "metadata": {},
   "source": [
    "# Index name"
   ]
  },
  {
   "cell_type": "code",
   "execution_count": 26,
   "metadata": {},
   "outputs": [
    {
     "name": "stdout",
     "output_type": "stream",
     "text": [
      "my_index_name\n",
      "a    1\n",
      "b    2\n",
      "c    3\n",
      "dtype: int64\n"
     ]
    }
   ],
   "source": [
    "index_name = pd.Series({\"a\" : 1, \"b\" : 2, \"c\" : 3})\n",
    "index_name.index.name = \"my_index_name\"\n",
    "print(index_name)"
   ]
  },
  {
   "cell_type": "code",
   "execution_count": null,
   "metadata": {},
   "outputs": [],
   "source": []
  }
 ],
 "metadata": {
  "kernelspec": {
   "display_name": "Python 3",
   "language": "python",
   "name": "python3"
  },
  "language_info": {
   "codemirror_mode": {
    "name": "ipython",
    "version": 3
   },
   "file_extension": ".py",
   "mimetype": "text/x-python",
   "name": "python",
   "nbconvert_exporter": "python",
   "pygments_lexer": "ipython3",
   "version": "3.6.4"
  }
 },
 "nbformat": 4,
 "nbformat_minor": 2
}
