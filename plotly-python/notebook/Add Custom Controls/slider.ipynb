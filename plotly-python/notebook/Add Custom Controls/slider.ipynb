{
 "cells": [
  {
   "cell_type": "code",
   "execution_count": 1,
   "metadata": {},
   "outputs": [
    {
     "data": {
      "text/html": [
       "<script type=\"text/javascript\">window.PlotlyConfig = {MathJaxConfig: 'local'};</script><script type=\"text/javascript\">if (window.MathJax) {MathJax.Hub.Config({SVG: {font: \"STIX-Web\"}});}</script><script>requirejs.config({paths: { 'plotly': ['https://cdn.plot.ly/plotly-latest.min']},});if(!window._Plotly) {require(['plotly'],function(plotly) {window._Plotly=plotly;});}</script>"
      ],
      "text/vnd.plotly.v1+html": [
       "<script type=\"text/javascript\">window.PlotlyConfig = {MathJaxConfig: 'local'};</script><script type=\"text/javascript\">if (window.MathJax) {MathJax.Hub.Config({SVG: {font: \"STIX-Web\"}});}</script><script>requirejs.config({paths: { 'plotly': ['https://cdn.plot.ly/plotly-latest.min']},});if(!window._Plotly) {require(['plotly'],function(plotly) {window._Plotly=plotly;});}</script>"
      ]
     },
     "metadata": {},
     "output_type": "display_data"
    }
   ],
   "source": [
    "from plotly.offline import init_notebook_mode, iplot\n",
    "import numpy as np\n",
    "\n",
    "init_notebook_mode(connected=True)"
   ]
  },
  {
   "cell_type": "markdown",
   "metadata": {},
   "source": [
    "# visible / invisible"
   ]
  },
  {
   "cell_type": "code",
   "execution_count": 2,
   "metadata": {},
   "outputs": [
    {
     "data": {
      "application/vnd.plotly.v1+json": {
       "data": [
        {
         "line": {
          "color": "#00CED1",
          "width": 6
         },
         "name": "step 0",
         "type": "scatter",
         "uid": "363ebb7f-d84b-4801-bf2a-3538bdbae1ae",
         "visible": true,
         "x": [
          0,
          1,
          2,
          3,
          4,
          5,
          6,
          7,
          8,
          9
         ],
         "y": [
          0,
          1,
          2,
          3,
          4,
          5,
          6,
          7,
          8,
          9
         ]
        },
        {
         "line": {
          "color": "#00CED1",
          "width": 6
         },
         "name": "step 1",
         "type": "scatter",
         "uid": "77437c0f-33d9-4420-8e07-6dc81317b82d",
         "visible": false,
         "x": [
          0,
          1,
          2,
          3,
          4,
          5,
          6,
          7,
          8,
          9
         ],
         "y": [
          1,
          2,
          3,
          4,
          5,
          6,
          7,
          8,
          9,
          10
         ]
        },
        {
         "line": {
          "color": "#00CED1",
          "width": 6
         },
         "name": "step 2",
         "type": "scatter",
         "uid": "ff6f8f42-6e20-4d9b-a4f1-0b56737cd0f4",
         "visible": false,
         "x": [
          0,
          1,
          2,
          3,
          4,
          5,
          6,
          7,
          8,
          9
         ],
         "y": [
          2,
          3,
          4,
          5,
          6,
          7,
          8,
          9,
          10,
          11
         ]
        },
        {
         "line": {
          "color": "#00CED1",
          "width": 6
         },
         "name": "step 3",
         "type": "scatter",
         "uid": "c201de3f-c305-4254-8814-7d81e7d2a084",
         "visible": false,
         "x": [
          0,
          1,
          2,
          3,
          4,
          5,
          6,
          7,
          8,
          9
         ],
         "y": [
          3,
          4,
          5,
          6,
          7,
          8,
          9,
          10,
          11,
          12
         ]
        },
        {
         "line": {
          "color": "#00CED1",
          "width": 6
         },
         "name": "step 4",
         "type": "scatter",
         "uid": "6154086a-ad48-4952-bd07-6a8337cc0c70",
         "visible": false,
         "x": [
          0,
          1,
          2,
          3,
          4,
          5,
          6,
          7,
          8,
          9
         ],
         "y": [
          4,
          5,
          6,
          7,
          8,
          9,
          10,
          11,
          12,
          13
         ]
        },
        {
         "line": {
          "color": "#00CED1",
          "width": 6
         },
         "name": "step 5",
         "type": "scatter",
         "uid": "d6a2a7c4-70b0-4749-9671-55b44dd0bcd1",
         "visible": false,
         "x": [
          0,
          1,
          2,
          3,
          4,
          5,
          6,
          7,
          8,
          9
         ],
         "y": [
          5,
          6,
          7,
          8,
          9,
          10,
          11,
          12,
          13,
          14
         ]
        },
        {
         "line": {
          "color": "#00CED1",
          "width": 6
         },
         "name": "step 6",
         "type": "scatter",
         "uid": "b1aec721-96ce-4a2f-87f3-105ad234a439",
         "visible": false,
         "x": [
          0,
          1,
          2,
          3,
          4,
          5,
          6,
          7,
          8,
          9
         ],
         "y": [
          6,
          7,
          8,
          9,
          10,
          11,
          12,
          13,
          14,
          15
         ]
        },
        {
         "line": {
          "color": "#00CED1",
          "width": 6
         },
         "name": "step 7",
         "type": "scatter",
         "uid": "b4df6eb9-3056-4f48-9a60-8cb37ff94c8b",
         "visible": false,
         "x": [
          0,
          1,
          2,
          3,
          4,
          5,
          6,
          7,
          8,
          9
         ],
         "y": [
          7,
          8,
          9,
          10,
          11,
          12,
          13,
          14,
          15,
          16
         ]
        },
        {
         "line": {
          "color": "#00CED1",
          "width": 6
         },
         "name": "step 8",
         "type": "scatter",
         "uid": "c8583266-5ef7-4448-981d-959c5a9e630c",
         "visible": false,
         "x": [
          0,
          1,
          2,
          3,
          4,
          5,
          6,
          7,
          8,
          9
         ],
         "y": [
          8,
          9,
          10,
          11,
          12,
          13,
          14,
          15,
          16,
          17
         ]
        },
        {
         "line": {
          "color": "#00CED1",
          "width": 6
         },
         "name": "step 9",
         "type": "scatter",
         "uid": "7812229c-af31-4962-a7ee-746d73e95efc",
         "visible": false,
         "x": [
          0,
          1,
          2,
          3,
          4,
          5,
          6,
          7,
          8,
          9
         ],
         "y": [
          9,
          10,
          11,
          12,
          13,
          14,
          15,
          16,
          17,
          18
         ]
        }
       ],
       "layout": {
        "sliders": [
         {
          "active": 10,
          "currentvalue": {
           "prefix": "Frequency: "
          },
          "steps": [
           {
            "args": [
             "visible",
             [
              true,
              false,
              false,
              false,
              false,
              false,
              false,
              false,
              false,
              false
             ]
            ],
            "method": "restyle"
           },
           {
            "args": [
             "visible",
             [
              false,
              true,
              false,
              false,
              false,
              false,
              false,
              false,
              false,
              false
             ]
            ],
            "method": "restyle"
           },
           {
            "args": [
             "visible",
             [
              false,
              false,
              true,
              false,
              false,
              false,
              false,
              false,
              false,
              false
             ]
            ],
            "method": "restyle"
           },
           {
            "args": [
             "visible",
             [
              false,
              false,
              false,
              true,
              false,
              false,
              false,
              false,
              false,
              false
             ]
            ],
            "method": "restyle"
           },
           {
            "args": [
             "visible",
             [
              false,
              false,
              false,
              false,
              true,
              false,
              false,
              false,
              false,
              false
             ]
            ],
            "method": "restyle"
           },
           {
            "args": [
             "visible",
             [
              false,
              false,
              false,
              false,
              false,
              true,
              false,
              false,
              false,
              false
             ]
            ],
            "method": "restyle"
           },
           {
            "args": [
             "visible",
             [
              false,
              false,
              false,
              false,
              false,
              false,
              true,
              false,
              false,
              false
             ]
            ],
            "method": "restyle"
           },
           {
            "args": [
             "visible",
             [
              false,
              false,
              false,
              false,
              false,
              false,
              false,
              true,
              false,
              false
             ]
            ],
            "method": "restyle"
           },
           {
            "args": [
             "visible",
             [
              false,
              false,
              false,
              false,
              false,
              false,
              false,
              false,
              true,
              false
             ]
            ],
            "method": "restyle"
           },
           {
            "args": [
             "visible",
             [
              false,
              false,
              false,
              false,
              false,
              false,
              false,
              false,
              false,
              true
             ]
            ],
            "method": "restyle"
           }
          ]
         }
        ],
        "title": "Start Title",
        "xaxis": {
         "autorange": false,
         "range": [
          0,
          10
         ]
        },
        "yaxis": {
         "autorange": false,
         "range": [
          0,
          20
         ]
        }
       }
      },
      "text/html": [
       "<div id=\"5bd1515e-1a20-4a28-9f9e-18764678dbad\" style=\"height: 525px; width: 100%;\" class=\"plotly-graph-div\"></div><script type=\"text/javascript\">require([\"plotly\"], function(Plotly) { window.PLOTLYENV=window.PLOTLYENV || {};window.PLOTLYENV.BASE_URL=\"https://plot.ly\";Plotly.newPlot(\"5bd1515e-1a20-4a28-9f9e-18764678dbad\", [{\"line\": {\"color\": \"#00CED1\", \"width\": 6}, \"name\": \"step 0\", \"visible\": true, \"x\": [0, 1, 2, 3, 4, 5, 6, 7, 8, 9], \"y\": [0, 1, 2, 3, 4, 5, 6, 7, 8, 9], \"type\": \"scatter\", \"uid\": \"f924c6f9-be4a-4e25-8ce5-484ab81b18ca\"}, {\"line\": {\"color\": \"#00CED1\", \"width\": 6}, \"name\": \"step 1\", \"visible\": false, \"x\": [0, 1, 2, 3, 4, 5, 6, 7, 8, 9], \"y\": [1, 2, 3, 4, 5, 6, 7, 8, 9, 10], \"type\": \"scatter\", \"uid\": \"84714b2a-21b1-4417-87e9-a7d040fff7e6\"}, {\"line\": {\"color\": \"#00CED1\", \"width\": 6}, \"name\": \"step 2\", \"visible\": false, \"x\": [0, 1, 2, 3, 4, 5, 6, 7, 8, 9], \"y\": [2, 3, 4, 5, 6, 7, 8, 9, 10, 11], \"type\": \"scatter\", \"uid\": \"84ecad88-bce2-4cca-9b7c-fab5e1ab082c\"}, {\"line\": {\"color\": \"#00CED1\", \"width\": 6}, \"name\": \"step 3\", \"visible\": false, \"x\": [0, 1, 2, 3, 4, 5, 6, 7, 8, 9], \"y\": [3, 4, 5, 6, 7, 8, 9, 10, 11, 12], \"type\": \"scatter\", \"uid\": \"2e374816-2cbb-4aa2-bf62-1ba707f4b5d5\"}, {\"line\": {\"color\": \"#00CED1\", \"width\": 6}, \"name\": \"step 4\", \"visible\": false, \"x\": [0, 1, 2, 3, 4, 5, 6, 7, 8, 9], \"y\": [4, 5, 6, 7, 8, 9, 10, 11, 12, 13], \"type\": \"scatter\", \"uid\": \"4076f454-e1b3-4c1e-ac7a-687fb897296f\"}, {\"line\": {\"color\": \"#00CED1\", \"width\": 6}, \"name\": \"step 5\", \"visible\": false, \"x\": [0, 1, 2, 3, 4, 5, 6, 7, 8, 9], \"y\": [5, 6, 7, 8, 9, 10, 11, 12, 13, 14], \"type\": \"scatter\", \"uid\": \"3208398a-0b52-4126-ac03-c269d2c4e90e\"}, {\"line\": {\"color\": \"#00CED1\", \"width\": 6}, \"name\": \"step 6\", \"visible\": false, \"x\": [0, 1, 2, 3, 4, 5, 6, 7, 8, 9], \"y\": [6, 7, 8, 9, 10, 11, 12, 13, 14, 15], \"type\": \"scatter\", \"uid\": \"ea93d7a1-4c72-4694-9c91-48d7a9da7698\"}, {\"line\": {\"color\": \"#00CED1\", \"width\": 6}, \"name\": \"step 7\", \"visible\": false, \"x\": [0, 1, 2, 3, 4, 5, 6, 7, 8, 9], \"y\": [7, 8, 9, 10, 11, 12, 13, 14, 15, 16], \"type\": \"scatter\", \"uid\": \"c8579bfa-be23-4b3f-8a86-d129ffd0efed\"}, {\"line\": {\"color\": \"#00CED1\", \"width\": 6}, \"name\": \"step 8\", \"visible\": false, \"x\": [0, 1, 2, 3, 4, 5, 6, 7, 8, 9], \"y\": [8, 9, 10, 11, 12, 13, 14, 15, 16, 17], \"type\": \"scatter\", \"uid\": \"2dc32133-5d37-49d6-a8eb-2d8dcb05daef\"}, {\"line\": {\"color\": \"#00CED1\", \"width\": 6}, \"name\": \"step 9\", \"visible\": false, \"x\": [0, 1, 2, 3, 4, 5, 6, 7, 8, 9], \"y\": [9, 10, 11, 12, 13, 14, 15, 16, 17, 18], \"type\": \"scatter\", \"uid\": \"995bc801-e152-4878-9177-3238fa456df5\"}], {\"sliders\": [{\"active\": 10, \"currentvalue\": {\"prefix\": \"Frequency: \"}, \"steps\": [{\"args\": [\"visible\", [true, false, false, false, false, false, false, false, false, false]], \"method\": \"restyle\"}, {\"args\": [\"visible\", [false, true, false, false, false, false, false, false, false, false]], \"method\": \"restyle\"}, {\"args\": [\"visible\", [false, false, true, false, false, false, false, false, false, false]], \"method\": \"restyle\"}, {\"args\": [\"visible\", [false, false, false, true, false, false, false, false, false, false]], \"method\": \"restyle\"}, {\"args\": [\"visible\", [false, false, false, false, true, false, false, false, false, false]], \"method\": \"restyle\"}, {\"args\": [\"visible\", [false, false, false, false, false, true, false, false, false, false]], \"method\": \"restyle\"}, {\"args\": [\"visible\", [false, false, false, false, false, false, true, false, false, false]], \"method\": \"restyle\"}, {\"args\": [\"visible\", [false, false, false, false, false, false, false, true, false, false]], \"method\": \"restyle\"}, {\"args\": [\"visible\", [false, false, false, false, false, false, false, false, true, false]], \"method\": \"restyle\"}, {\"args\": [\"visible\", [false, false, false, false, false, false, false, false, false, true]], \"method\": \"restyle\"}]}], \"title\": \"Start Title\", \"xaxis\": {\"autorange\": false, \"range\": [0, 10]}, \"yaxis\": {\"autorange\": false, \"range\": [0, 20]}}, {\"showLink\": true, \"linkText\": \"Export to plot.ly\"})});</script><script type=\"text/javascript\">window.addEventListener(\"resize\", function(){window._Plotly.Plots.resize(document.getElementById(\"5bd1515e-1a20-4a28-9f9e-18764678dbad\"));});</script>"
      ],
      "text/vnd.plotly.v1+html": [
       "<div id=\"5bd1515e-1a20-4a28-9f9e-18764678dbad\" style=\"height: 525px; width: 100%;\" class=\"plotly-graph-div\"></div><script type=\"text/javascript\">require([\"plotly\"], function(Plotly) { window.PLOTLYENV=window.PLOTLYENV || {};window.PLOTLYENV.BASE_URL=\"https://plot.ly\";Plotly.newPlot(\"5bd1515e-1a20-4a28-9f9e-18764678dbad\", [{\"line\": {\"color\": \"#00CED1\", \"width\": 6}, \"name\": \"step 0\", \"visible\": true, \"x\": [0, 1, 2, 3, 4, 5, 6, 7, 8, 9], \"y\": [0, 1, 2, 3, 4, 5, 6, 7, 8, 9], \"type\": \"scatter\", \"uid\": \"f924c6f9-be4a-4e25-8ce5-484ab81b18ca\"}, {\"line\": {\"color\": \"#00CED1\", \"width\": 6}, \"name\": \"step 1\", \"visible\": false, \"x\": [0, 1, 2, 3, 4, 5, 6, 7, 8, 9], \"y\": [1, 2, 3, 4, 5, 6, 7, 8, 9, 10], \"type\": \"scatter\", \"uid\": \"84714b2a-21b1-4417-87e9-a7d040fff7e6\"}, {\"line\": {\"color\": \"#00CED1\", \"width\": 6}, \"name\": \"step 2\", \"visible\": false, \"x\": [0, 1, 2, 3, 4, 5, 6, 7, 8, 9], \"y\": [2, 3, 4, 5, 6, 7, 8, 9, 10, 11], \"type\": \"scatter\", \"uid\": \"84ecad88-bce2-4cca-9b7c-fab5e1ab082c\"}, {\"line\": {\"color\": \"#00CED1\", \"width\": 6}, \"name\": \"step 3\", \"visible\": false, \"x\": [0, 1, 2, 3, 4, 5, 6, 7, 8, 9], \"y\": [3, 4, 5, 6, 7, 8, 9, 10, 11, 12], \"type\": \"scatter\", \"uid\": \"2e374816-2cbb-4aa2-bf62-1ba707f4b5d5\"}, {\"line\": {\"color\": \"#00CED1\", \"width\": 6}, \"name\": \"step 4\", \"visible\": false, \"x\": [0, 1, 2, 3, 4, 5, 6, 7, 8, 9], \"y\": [4, 5, 6, 7, 8, 9, 10, 11, 12, 13], \"type\": \"scatter\", \"uid\": \"4076f454-e1b3-4c1e-ac7a-687fb897296f\"}, {\"line\": {\"color\": \"#00CED1\", \"width\": 6}, \"name\": \"step 5\", \"visible\": false, \"x\": [0, 1, 2, 3, 4, 5, 6, 7, 8, 9], \"y\": [5, 6, 7, 8, 9, 10, 11, 12, 13, 14], \"type\": \"scatter\", \"uid\": \"3208398a-0b52-4126-ac03-c269d2c4e90e\"}, {\"line\": {\"color\": \"#00CED1\", \"width\": 6}, \"name\": \"step 6\", \"visible\": false, \"x\": [0, 1, 2, 3, 4, 5, 6, 7, 8, 9], \"y\": [6, 7, 8, 9, 10, 11, 12, 13, 14, 15], \"type\": \"scatter\", \"uid\": \"ea93d7a1-4c72-4694-9c91-48d7a9da7698\"}, {\"line\": {\"color\": \"#00CED1\", \"width\": 6}, \"name\": \"step 7\", \"visible\": false, \"x\": [0, 1, 2, 3, 4, 5, 6, 7, 8, 9], \"y\": [7, 8, 9, 10, 11, 12, 13, 14, 15, 16], \"type\": \"scatter\", \"uid\": \"c8579bfa-be23-4b3f-8a86-d129ffd0efed\"}, {\"line\": {\"color\": \"#00CED1\", \"width\": 6}, \"name\": \"step 8\", \"visible\": false, \"x\": [0, 1, 2, 3, 4, 5, 6, 7, 8, 9], \"y\": [8, 9, 10, 11, 12, 13, 14, 15, 16, 17], \"type\": \"scatter\", \"uid\": \"2dc32133-5d37-49d6-a8eb-2d8dcb05daef\"}, {\"line\": {\"color\": \"#00CED1\", \"width\": 6}, \"name\": \"step 9\", \"visible\": false, \"x\": [0, 1, 2, 3, 4, 5, 6, 7, 8, 9], \"y\": [9, 10, 11, 12, 13, 14, 15, 16, 17, 18], \"type\": \"scatter\", \"uid\": \"995bc801-e152-4878-9177-3238fa456df5\"}], {\"sliders\": [{\"active\": 10, \"currentvalue\": {\"prefix\": \"Frequency: \"}, \"steps\": [{\"args\": [\"visible\", [true, false, false, false, false, false, false, false, false, false]], \"method\": \"restyle\"}, {\"args\": [\"visible\", [false, true, false, false, false, false, false, false, false, false]], \"method\": \"restyle\"}, {\"args\": [\"visible\", [false, false, true, false, false, false, false, false, false, false]], \"method\": \"restyle\"}, {\"args\": [\"visible\", [false, false, false, true, false, false, false, false, false, false]], \"method\": \"restyle\"}, {\"args\": [\"visible\", [false, false, false, false, true, false, false, false, false, false]], \"method\": \"restyle\"}, {\"args\": [\"visible\", [false, false, false, false, false, true, false, false, false, false]], \"method\": \"restyle\"}, {\"args\": [\"visible\", [false, false, false, false, false, false, true, false, false, false]], \"method\": \"restyle\"}, {\"args\": [\"visible\", [false, false, false, false, false, false, false, true, false, false]], \"method\": \"restyle\"}, {\"args\": [\"visible\", [false, false, false, false, false, false, false, false, true, false]], \"method\": \"restyle\"}, {\"args\": [\"visible\", [false, false, false, false, false, false, false, false, false, true]], \"method\": \"restyle\"}]}], \"title\": \"Start Title\", \"xaxis\": {\"autorange\": false, \"range\": [0, 10]}, \"yaxis\": {\"autorange\": false, \"range\": [0, 20]}}, {\"showLink\": true, \"linkText\": \"Export to plot.ly\"})});</script><script type=\"text/javascript\">window.addEventListener(\"resize\", function(){window._Plotly.Plots.resize(document.getElementById(\"5bd1515e-1a20-4a28-9f9e-18764678dbad\"));});</script>"
      ]
     },
     "metadata": {},
     "output_type": "display_data"
    }
   ],
   "source": [
    "data = [\n",
    "    dict(\n",
    "        visible = False,\n",
    "        line=dict(color='#00CED1', width=6),\n",
    "        x = np.arange(0,10,1),\n",
    "        y = np.arange(0,10,1) + step,\n",
    "        name = \"step {}\".format(step)\n",
    "    ) for step in range(0,10,1)\n",
    "]\n",
    "data[0]['visible'] = True\n",
    "\n",
    "steps = []\n",
    "for i in range(len(data)):\n",
    "    step = dict(\n",
    "        method = 'restyle',  \n",
    "        args = ['visible', [False] * len(data)],\n",
    "    )\n",
    "    step['args'][1][i] = True\n",
    "    steps.append(step)\n",
    "\n",
    "sliders = [\n",
    "    dict(\n",
    "        active = len(data),\n",
    "        currentvalue = {\"prefix\": \"Frequency: \"},\n",
    "        steps = steps\n",
    "    )\n",
    "]\n",
    "\n",
    "layout = dict(\n",
    "    sliders=sliders,\n",
    "    xaxis={'range': [0, 10], 'autorange': False},\n",
    "    yaxis={'range': [0, 20], 'autorange': False},\n",
    "    title='Start Title'\n",
    ")\n",
    "\n",
    "fig = dict(data=data, layout=layout)\n",
    "\n",
    "iplot(fig)"
   ]
  }
 ],
 "metadata": {
  "kernelspec": {
   "display_name": "Python 3",
   "language": "python",
   "name": "python3"
  },
  "language_info": {
   "codemirror_mode": {
    "name": "ipython",
    "version": 3
   },
   "file_extension": ".py",
   "mimetype": "text/x-python",
   "name": "python",
   "nbconvert_exporter": "python",
   "pygments_lexer": "ipython3",
   "version": "3.6.5"
  }
 },
 "nbformat": 4,
 "nbformat_minor": 2
}
