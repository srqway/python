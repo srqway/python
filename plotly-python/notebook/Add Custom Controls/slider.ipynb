{
 "cells": [
  {
   "cell_type": "code",
   "execution_count": 1,
   "metadata": {},
   "outputs": [
    {
     "data": {
      "text/html": [
       "<script type=\"text/javascript\">window.PlotlyConfig = {MathJaxConfig: 'local'};</script><script type=\"text/javascript\">if (window.MathJax) {MathJax.Hub.Config({SVG: {font: \"STIX-Web\"}});}</script><script>requirejs.config({paths: { 'plotly': ['https://cdn.plot.ly/plotly-latest.min']},});if(!window._Plotly) {require(['plotly'],function(plotly) {window._Plotly=plotly;});}</script>"
      ],
      "text/vnd.plotly.v1+html": [
       "<script type=\"text/javascript\">window.PlotlyConfig = {MathJaxConfig: 'local'};</script><script type=\"text/javascript\">if (window.MathJax) {MathJax.Hub.Config({SVG: {font: \"STIX-Web\"}});}</script><script>requirejs.config({paths: { 'plotly': ['https://cdn.plot.ly/plotly-latest.min']},});if(!window._Plotly) {require(['plotly'],function(plotly) {window._Plotly=plotly;});}</script>"
      ]
     },
     "metadata": {},
     "output_type": "display_data"
    }
   ],
   "source": [
    "from plotly.offline import init_notebook_mode, iplot\n",
    "import numpy as np\n",
    "\n",
    "init_notebook_mode(connected=True)"
   ]
  },
  {
   "cell_type": "markdown",
   "metadata": {},
   "source": [
    "# visible / invisible"
   ]
  },
  {
   "cell_type": "code",
   "execution_count": 30,
   "metadata": {},
   "outputs": [
    {
     "data": {
      "application/vnd.plotly.v1+json": {
       "data": [
        {
         "line": {
          "color": "#00CED1",
          "width": 6
         },
         "name": "step 0",
         "type": "scatter",
         "uid": "4a9b37a2-27ad-4d64-9b0b-cc0ad0fb1499",
         "visible": true,
         "x": [
          0,
          1,
          2,
          3,
          4,
          5,
          6,
          7,
          8,
          9
         ],
         "y": [
          0,
          1,
          2,
          3,
          4,
          5,
          6,
          7,
          8,
          9
         ]
        },
        {
         "line": {
          "color": "#00CED1",
          "width": 6
         },
         "name": "step 1",
         "type": "scatter",
         "uid": "6b790842-f6ef-45f8-92e8-89d7546ae636",
         "visible": false,
         "x": [
          0,
          1,
          2,
          3,
          4,
          5,
          6,
          7,
          8,
          9
         ],
         "y": [
          1,
          2,
          3,
          4,
          5,
          6,
          7,
          8,
          9,
          10
         ]
        },
        {
         "line": {
          "color": "#00CED1",
          "width": 6
         },
         "name": "step 2",
         "type": "scatter",
         "uid": "ed2312ba-11c6-45f6-8190-8aa8c5edf4db",
         "visible": false,
         "x": [
          0,
          1,
          2,
          3,
          4,
          5,
          6,
          7,
          8,
          9
         ],
         "y": [
          2,
          3,
          4,
          5,
          6,
          7,
          8,
          9,
          10,
          11
         ]
        },
        {
         "line": {
          "color": "#00CED1",
          "width": 6
         },
         "name": "step 3",
         "type": "scatter",
         "uid": "791bfecd-d349-4893-a881-6ae1b26125c2",
         "visible": false,
         "x": [
          0,
          1,
          2,
          3,
          4,
          5,
          6,
          7,
          8,
          9
         ],
         "y": [
          3,
          4,
          5,
          6,
          7,
          8,
          9,
          10,
          11,
          12
         ]
        },
        {
         "line": {
          "color": "#00CED1",
          "width": 6
         },
         "name": "step 4",
         "type": "scatter",
         "uid": "7c727274-a16a-4030-9831-e4d03339b713",
         "visible": false,
         "x": [
          0,
          1,
          2,
          3,
          4,
          5,
          6,
          7,
          8,
          9
         ],
         "y": [
          4,
          5,
          6,
          7,
          8,
          9,
          10,
          11,
          12,
          13
         ]
        },
        {
         "line": {
          "color": "#00CED1",
          "width": 6
         },
         "name": "step 5",
         "type": "scatter",
         "uid": "cec15610-c594-4dad-9cff-badbc4026a31",
         "visible": false,
         "x": [
          0,
          1,
          2,
          3,
          4,
          5,
          6,
          7,
          8,
          9
         ],
         "y": [
          5,
          6,
          7,
          8,
          9,
          10,
          11,
          12,
          13,
          14
         ]
        },
        {
         "line": {
          "color": "#00CED1",
          "width": 6
         },
         "name": "step 6",
         "type": "scatter",
         "uid": "5ebcc3f1-cb54-4acf-b1e3-e175df0bcc38",
         "visible": false,
         "x": [
          0,
          1,
          2,
          3,
          4,
          5,
          6,
          7,
          8,
          9
         ],
         "y": [
          6,
          7,
          8,
          9,
          10,
          11,
          12,
          13,
          14,
          15
         ]
        },
        {
         "line": {
          "color": "#00CED1",
          "width": 6
         },
         "name": "step 7",
         "type": "scatter",
         "uid": "72eca7fb-ed3e-4f83-ac1b-9acb754b17c6",
         "visible": false,
         "x": [
          0,
          1,
          2,
          3,
          4,
          5,
          6,
          7,
          8,
          9
         ],
         "y": [
          7,
          8,
          9,
          10,
          11,
          12,
          13,
          14,
          15,
          16
         ]
        },
        {
         "line": {
          "color": "#00CED1",
          "width": 6
         },
         "name": "step 8",
         "type": "scatter",
         "uid": "9b933846-a859-486b-884a-71501d0402a2",
         "visible": false,
         "x": [
          0,
          1,
          2,
          3,
          4,
          5,
          6,
          7,
          8,
          9
         ],
         "y": [
          8,
          9,
          10,
          11,
          12,
          13,
          14,
          15,
          16,
          17
         ]
        },
        {
         "line": {
          "color": "#00CED1",
          "width": 6
         },
         "name": "step 9",
         "type": "scatter",
         "uid": "0c226324-a6be-4f63-9997-74893cb0f1a3",
         "visible": false,
         "x": [
          0,
          1,
          2,
          3,
          4,
          5,
          6,
          7,
          8,
          9
         ],
         "y": [
          9,
          10,
          11,
          12,
          13,
          14,
          15,
          16,
          17,
          18
         ]
        }
       ],
       "layout": {
        "sliders": [
         {
          "active": 10,
          "currentvalue": {
           "prefix": "Frequency: "
          },
          "steps": [
           {
            "args": [
             "visible",
             [
              true,
              false,
              false,
              false,
              false,
              false,
              false,
              false,
              false,
              false
             ]
            ],
            "method": "restyle"
           },
           {
            "args": [
             "visible",
             [
              false,
              true,
              false,
              false,
              false,
              false,
              false,
              false,
              false,
              false
             ]
            ],
            "method": "restyle"
           },
           {
            "args": [
             "visible",
             [
              false,
              false,
              true,
              false,
              false,
              false,
              false,
              false,
              false,
              false
             ]
            ],
            "method": "restyle"
           },
           {
            "args": [
             "visible",
             [
              false,
              false,
              false,
              true,
              false,
              false,
              false,
              false,
              false,
              false
             ]
            ],
            "method": "restyle"
           },
           {
            "args": [
             "visible",
             [
              false,
              false,
              false,
              false,
              true,
              false,
              false,
              false,
              false,
              false
             ]
            ],
            "method": "restyle"
           },
           {
            "args": [
             "visible",
             [
              false,
              false,
              false,
              false,
              false,
              true,
              false,
              false,
              false,
              false
             ]
            ],
            "method": "restyle"
           },
           {
            "args": [
             "visible",
             [
              false,
              false,
              false,
              false,
              false,
              false,
              true,
              false,
              false,
              false
             ]
            ],
            "method": "restyle"
           },
           {
            "args": [
             "visible",
             [
              false,
              false,
              false,
              false,
              false,
              false,
              false,
              true,
              false,
              false
             ]
            ],
            "method": "restyle"
           },
           {
            "args": [
             "visible",
             [
              false,
              false,
              false,
              false,
              false,
              false,
              false,
              false,
              true,
              false
             ]
            ],
            "method": "restyle"
           },
           {
            "args": [
             "visible",
             [
              false,
              false,
              false,
              false,
              false,
              false,
              false,
              false,
              false,
              true
             ]
            ],
            "method": "restyle"
           }
          ]
         }
        ],
        "title": "Start Title",
        "xaxis": {
         "autorange": false,
         "range": [
          0,
          10
         ]
        },
        "yaxis": {
         "autorange": false,
         "range": [
          0,
          20
         ]
        }
       }
      },
      "text/html": [
       "<div id=\"f29a022c-28cc-4e96-9066-ecc6ec820085\" style=\"height: 525px; width: 100%;\" class=\"plotly-graph-div\"></div><script type=\"text/javascript\">require([\"plotly\"], function(Plotly) { window.PLOTLYENV=window.PLOTLYENV || {};window.PLOTLYENV.BASE_URL=\"https://plot.ly\";Plotly.newPlot(\"f29a022c-28cc-4e96-9066-ecc6ec820085\", [{\"line\": {\"color\": \"#00CED1\", \"width\": 6}, \"name\": \"step 0\", \"visible\": true, \"x\": [0, 1, 2, 3, 4, 5, 6, 7, 8, 9], \"y\": [0, 1, 2, 3, 4, 5, 6, 7, 8, 9], \"type\": \"scatter\", \"uid\": \"a1a6508e-76b0-4300-9d36-493ebff835f3\"}, {\"line\": {\"color\": \"#00CED1\", \"width\": 6}, \"name\": \"step 1\", \"visible\": false, \"x\": [0, 1, 2, 3, 4, 5, 6, 7, 8, 9], \"y\": [1, 2, 3, 4, 5, 6, 7, 8, 9, 10], \"type\": \"scatter\", \"uid\": \"37a2c202-e1a4-4c69-ac6b-e1aedcf3940a\"}, {\"line\": {\"color\": \"#00CED1\", \"width\": 6}, \"name\": \"step 2\", \"visible\": false, \"x\": [0, 1, 2, 3, 4, 5, 6, 7, 8, 9], \"y\": [2, 3, 4, 5, 6, 7, 8, 9, 10, 11], \"type\": \"scatter\", \"uid\": \"aef317d4-65d1-45bd-a71d-c711c2c547d4\"}, {\"line\": {\"color\": \"#00CED1\", \"width\": 6}, \"name\": \"step 3\", \"visible\": false, \"x\": [0, 1, 2, 3, 4, 5, 6, 7, 8, 9], \"y\": [3, 4, 5, 6, 7, 8, 9, 10, 11, 12], \"type\": \"scatter\", \"uid\": \"77de2566-3429-47a5-a2f0-5836e7bf3cc6\"}, {\"line\": {\"color\": \"#00CED1\", \"width\": 6}, \"name\": \"step 4\", \"visible\": false, \"x\": [0, 1, 2, 3, 4, 5, 6, 7, 8, 9], \"y\": [4, 5, 6, 7, 8, 9, 10, 11, 12, 13], \"type\": \"scatter\", \"uid\": \"a24c5323-391b-4603-9335-c7259f6a18d7\"}, {\"line\": {\"color\": \"#00CED1\", \"width\": 6}, \"name\": \"step 5\", \"visible\": false, \"x\": [0, 1, 2, 3, 4, 5, 6, 7, 8, 9], \"y\": [5, 6, 7, 8, 9, 10, 11, 12, 13, 14], \"type\": \"scatter\", \"uid\": \"26fa8bd7-29fc-4439-a7bf-69bec04fedfb\"}, {\"line\": {\"color\": \"#00CED1\", \"width\": 6}, \"name\": \"step 6\", \"visible\": false, \"x\": [0, 1, 2, 3, 4, 5, 6, 7, 8, 9], \"y\": [6, 7, 8, 9, 10, 11, 12, 13, 14, 15], \"type\": \"scatter\", \"uid\": \"4859aff7-b4e8-4e38-80ee-3c430bb0b467\"}, {\"line\": {\"color\": \"#00CED1\", \"width\": 6}, \"name\": \"step 7\", \"visible\": false, \"x\": [0, 1, 2, 3, 4, 5, 6, 7, 8, 9], \"y\": [7, 8, 9, 10, 11, 12, 13, 14, 15, 16], \"type\": \"scatter\", \"uid\": \"8abf787d-89af-4850-af8a-cc80195c8e2d\"}, {\"line\": {\"color\": \"#00CED1\", \"width\": 6}, \"name\": \"step 8\", \"visible\": false, \"x\": [0, 1, 2, 3, 4, 5, 6, 7, 8, 9], \"y\": [8, 9, 10, 11, 12, 13, 14, 15, 16, 17], \"type\": \"scatter\", \"uid\": \"16c99439-be90-44f0-bdd7-da5a27fafc09\"}, {\"line\": {\"color\": \"#00CED1\", \"width\": 6}, \"name\": \"step 9\", \"visible\": false, \"x\": [0, 1, 2, 3, 4, 5, 6, 7, 8, 9], \"y\": [9, 10, 11, 12, 13, 14, 15, 16, 17, 18], \"type\": \"scatter\", \"uid\": \"dbea93a7-5cbc-4e3e-8f11-1b6628d7f2aa\"}], {\"sliders\": [{\"active\": 10, \"currentvalue\": {\"prefix\": \"Frequency: \"}, \"steps\": [{\"args\": [\"visible\", [true, false, false, false, false, false, false, false, false, false]], \"method\": \"restyle\"}, {\"args\": [\"visible\", [false, true, false, false, false, false, false, false, false, false]], \"method\": \"restyle\"}, {\"args\": [\"visible\", [false, false, true, false, false, false, false, false, false, false]], \"method\": \"restyle\"}, {\"args\": [\"visible\", [false, false, false, true, false, false, false, false, false, false]], \"method\": \"restyle\"}, {\"args\": [\"visible\", [false, false, false, false, true, false, false, false, false, false]], \"method\": \"restyle\"}, {\"args\": [\"visible\", [false, false, false, false, false, true, false, false, false, false]], \"method\": \"restyle\"}, {\"args\": [\"visible\", [false, false, false, false, false, false, true, false, false, false]], \"method\": \"restyle\"}, {\"args\": [\"visible\", [false, false, false, false, false, false, false, true, false, false]], \"method\": \"restyle\"}, {\"args\": [\"visible\", [false, false, false, false, false, false, false, false, true, false]], \"method\": \"restyle\"}, {\"args\": [\"visible\", [false, false, false, false, false, false, false, false, false, true]], \"method\": \"restyle\"}]}], \"title\": \"Start Title\", \"xaxis\": {\"autorange\": false, \"range\": [0, 10]}, \"yaxis\": {\"autorange\": false, \"range\": [0, 20]}}, {\"showLink\": true, \"linkText\": \"Export to plot.ly\"})});</script><script type=\"text/javascript\">window.addEventListener(\"resize\", function(){window._Plotly.Plots.resize(document.getElementById(\"f29a022c-28cc-4e96-9066-ecc6ec820085\"));});</script>"
      ],
      "text/vnd.plotly.v1+html": [
       "<div id=\"f29a022c-28cc-4e96-9066-ecc6ec820085\" style=\"height: 525px; width: 100%;\" class=\"plotly-graph-div\"></div><script type=\"text/javascript\">require([\"plotly\"], function(Plotly) { window.PLOTLYENV=window.PLOTLYENV || {};window.PLOTLYENV.BASE_URL=\"https://plot.ly\";Plotly.newPlot(\"f29a022c-28cc-4e96-9066-ecc6ec820085\", [{\"line\": {\"color\": \"#00CED1\", \"width\": 6}, \"name\": \"step 0\", \"visible\": true, \"x\": [0, 1, 2, 3, 4, 5, 6, 7, 8, 9], \"y\": [0, 1, 2, 3, 4, 5, 6, 7, 8, 9], \"type\": \"scatter\", \"uid\": \"a1a6508e-76b0-4300-9d36-493ebff835f3\"}, {\"line\": {\"color\": \"#00CED1\", \"width\": 6}, \"name\": \"step 1\", \"visible\": false, \"x\": [0, 1, 2, 3, 4, 5, 6, 7, 8, 9], \"y\": [1, 2, 3, 4, 5, 6, 7, 8, 9, 10], \"type\": \"scatter\", \"uid\": \"37a2c202-e1a4-4c69-ac6b-e1aedcf3940a\"}, {\"line\": {\"color\": \"#00CED1\", \"width\": 6}, \"name\": \"step 2\", \"visible\": false, \"x\": [0, 1, 2, 3, 4, 5, 6, 7, 8, 9], \"y\": [2, 3, 4, 5, 6, 7, 8, 9, 10, 11], \"type\": \"scatter\", \"uid\": \"aef317d4-65d1-45bd-a71d-c711c2c547d4\"}, {\"line\": {\"color\": \"#00CED1\", \"width\": 6}, \"name\": \"step 3\", \"visible\": false, \"x\": [0, 1, 2, 3, 4, 5, 6, 7, 8, 9], \"y\": [3, 4, 5, 6, 7, 8, 9, 10, 11, 12], \"type\": \"scatter\", \"uid\": \"77de2566-3429-47a5-a2f0-5836e7bf3cc6\"}, {\"line\": {\"color\": \"#00CED1\", \"width\": 6}, \"name\": \"step 4\", \"visible\": false, \"x\": [0, 1, 2, 3, 4, 5, 6, 7, 8, 9], \"y\": [4, 5, 6, 7, 8, 9, 10, 11, 12, 13], \"type\": \"scatter\", \"uid\": \"a24c5323-391b-4603-9335-c7259f6a18d7\"}, {\"line\": {\"color\": \"#00CED1\", \"width\": 6}, \"name\": \"step 5\", \"visible\": false, \"x\": [0, 1, 2, 3, 4, 5, 6, 7, 8, 9], \"y\": [5, 6, 7, 8, 9, 10, 11, 12, 13, 14], \"type\": \"scatter\", \"uid\": \"26fa8bd7-29fc-4439-a7bf-69bec04fedfb\"}, {\"line\": {\"color\": \"#00CED1\", \"width\": 6}, \"name\": \"step 6\", \"visible\": false, \"x\": [0, 1, 2, 3, 4, 5, 6, 7, 8, 9], \"y\": [6, 7, 8, 9, 10, 11, 12, 13, 14, 15], \"type\": \"scatter\", \"uid\": \"4859aff7-b4e8-4e38-80ee-3c430bb0b467\"}, {\"line\": {\"color\": \"#00CED1\", \"width\": 6}, \"name\": \"step 7\", \"visible\": false, \"x\": [0, 1, 2, 3, 4, 5, 6, 7, 8, 9], \"y\": [7, 8, 9, 10, 11, 12, 13, 14, 15, 16], \"type\": \"scatter\", \"uid\": \"8abf787d-89af-4850-af8a-cc80195c8e2d\"}, {\"line\": {\"color\": \"#00CED1\", \"width\": 6}, \"name\": \"step 8\", \"visible\": false, \"x\": [0, 1, 2, 3, 4, 5, 6, 7, 8, 9], \"y\": [8, 9, 10, 11, 12, 13, 14, 15, 16, 17], \"type\": \"scatter\", \"uid\": \"16c99439-be90-44f0-bdd7-da5a27fafc09\"}, {\"line\": {\"color\": \"#00CED1\", \"width\": 6}, \"name\": \"step 9\", \"visible\": false, \"x\": [0, 1, 2, 3, 4, 5, 6, 7, 8, 9], \"y\": [9, 10, 11, 12, 13, 14, 15, 16, 17, 18], \"type\": \"scatter\", \"uid\": \"dbea93a7-5cbc-4e3e-8f11-1b6628d7f2aa\"}], {\"sliders\": [{\"active\": 10, \"currentvalue\": {\"prefix\": \"Frequency: \"}, \"steps\": [{\"args\": [\"visible\", [true, false, false, false, false, false, false, false, false, false]], \"method\": \"restyle\"}, {\"args\": [\"visible\", [false, true, false, false, false, false, false, false, false, false]], \"method\": \"restyle\"}, {\"args\": [\"visible\", [false, false, true, false, false, false, false, false, false, false]], \"method\": \"restyle\"}, {\"args\": [\"visible\", [false, false, false, true, false, false, false, false, false, false]], \"method\": \"restyle\"}, {\"args\": [\"visible\", [false, false, false, false, true, false, false, false, false, false]], \"method\": \"restyle\"}, {\"args\": [\"visible\", [false, false, false, false, false, true, false, false, false, false]], \"method\": \"restyle\"}, {\"args\": [\"visible\", [false, false, false, false, false, false, true, false, false, false]], \"method\": \"restyle\"}, {\"args\": [\"visible\", [false, false, false, false, false, false, false, true, false, false]], \"method\": \"restyle\"}, {\"args\": [\"visible\", [false, false, false, false, false, false, false, false, true, false]], \"method\": \"restyle\"}, {\"args\": [\"visible\", [false, false, false, false, false, false, false, false, false, true]], \"method\": \"restyle\"}]}], \"title\": \"Start Title\", \"xaxis\": {\"autorange\": false, \"range\": [0, 10]}, \"yaxis\": {\"autorange\": false, \"range\": [0, 20]}}, {\"showLink\": true, \"linkText\": \"Export to plot.ly\"})});</script><script type=\"text/javascript\">window.addEventListener(\"resize\", function(){window._Plotly.Plots.resize(document.getElementById(\"f29a022c-28cc-4e96-9066-ecc6ec820085\"));});</script>"
      ]
     },
     "metadata": {},
     "output_type": "display_data"
    }
   ],
   "source": [
    "data = [\n",
    "    dict(\n",
    "        visible = False,\n",
    "        line=dict(color='#00CED1', width=6),\n",
    "        x = np.arange(0,10,1),\n",
    "        y = np.arange(0,10,1) + step,\n",
    "        name = \"step {}\".format(step)\n",
    "    ) for step in range(0,10,1)\n",
    "]\n",
    "data[0]['visible'] = True\n",
    "\n",
    "steps = []\n",
    "for i in range(len(data)):\n",
    "    step = dict(\n",
    "        method = 'restyle',  \n",
    "        args = ['visible', [False] * len(data)],\n",
    "    )\n",
    "    step['args'][1][i] = True\n",
    "    steps.append(step)\n",
    "\n",
    "sliders = [\n",
    "    dict(\n",
    "        active = len(data),\n",
    "        currentvalue = {\"prefix\": \"Frequency: \"},\n",
    "        steps = steps\n",
    "    )\n",
    "]\n",
    "\n",
    "layout = dict(\n",
    "    sliders=sliders,\n",
    "    xaxis={'range': [0, 10], 'autorange': False},\n",
    "    yaxis={'range': [0, 20], 'autorange': False},\n",
    "    title='Start Title'\n",
    ")\n",
    "\n",
    "fig = dict(data=data, layout=layout)\n",
    "\n",
    "iplot(fig)"
   ]
  },
  {
   "cell_type": "code",
   "execution_count": 11,
   "metadata": {},
   "outputs": [
    {
     "name": "stdout",
     "output_type": "stream",
     "text": [
      "[0 1 2 3 4 5 6 7 8 9]\n"
     ]
    }
   ],
   "source": [
    "print(np.arange(0,10,1))"
   ]
  },
  {
   "cell_type": "code",
   "execution_count": 12,
   "metadata": {},
   "outputs": [
    {
     "name": "stdout",
     "output_type": "stream",
     "text": [
      "range(0, 10)\n"
     ]
    }
   ],
   "source": [
    "print(range(0,10,1))"
   ]
  },
  {
   "cell_type": "code",
   "execution_count": null,
   "metadata": {},
   "outputs": [],
   "source": []
  }
 ],
 "metadata": {
  "kernelspec": {
   "display_name": "Python 3",
   "language": "python",
   "name": "python3"
  },
  "language_info": {
   "codemirror_mode": {
    "name": "ipython",
    "version": 3
   },
   "file_extension": ".py",
   "mimetype": "text/x-python",
   "name": "python",
   "nbconvert_exporter": "python",
   "pygments_lexer": "ipython3",
   "version": "3.6.5"
  }
 },
 "nbformat": 4,
 "nbformat_minor": 2
}
