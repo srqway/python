{
 "cells": [
  {
   "cell_type": "code",
   "execution_count": 1,
   "metadata": {},
   "outputs": [
    {
     "data": {
      "text/html": [
       "<script type=\"text/javascript\">window.PlotlyConfig = {MathJaxConfig: 'local'};</script><script type=\"text/javascript\">if (window.MathJax) {MathJax.Hub.Config({SVG: {font: \"STIX-Web\"}});}</script><script>requirejs.config({paths: { 'plotly': ['https://cdn.plot.ly/plotly-latest.min']},});if(!window._Plotly) {require(['plotly'],function(plotly) {window._Plotly=plotly;});}</script>"
      ],
      "text/vnd.plotly.v1+html": [
       "<script type=\"text/javascript\">window.PlotlyConfig = {MathJaxConfig: 'local'};</script><script type=\"text/javascript\">if (window.MathJax) {MathJax.Hub.Config({SVG: {font: \"STIX-Web\"}});}</script><script>requirejs.config({paths: { 'plotly': ['https://cdn.plot.ly/plotly-latest.min']},});if(!window._Plotly) {require(['plotly'],function(plotly) {window._Plotly=plotly;});}</script>"
      ]
     },
     "metadata": {},
     "output_type": "display_data"
    }
   ],
   "source": [
    "from plotly.offline import init_notebook_mode, iplot\n",
    "from plotly.grid_objs import Grid, Column\n",
    "\n",
    "import numpy as np\n",
    "\n",
    "init_notebook_mode(connected=True)"
   ]
  },
  {
   "cell_type": "markdown",
   "metadata": {},
   "source": [
    "# Play / Pause"
   ]
  },
  {
   "cell_type": "code",
   "execution_count": 2,
   "metadata": {},
   "outputs": [
    {
     "data": {
      "application/vnd.plotly.v1+json": {
       "data": [
        {
         "line": {
          "color": "blue",
          "width": 2
         },
         "mode": "lines",
         "name": "point",
         "type": "scatter",
         "uid": "da94b043-134f-462d-be06-e2a01e4b3b69",
         "x": [
          0,
          1,
          2,
          3,
          4,
          5,
          6,
          7,
          8,
          9
         ],
         "y": [
          0,
          2,
          4,
          6,
          8,
          10,
          12,
          14,
          16,
          18
         ]
        },
        {
         "line": {
          "color": "blue",
          "width": 2
         },
         "mode": "lines",
         "name": "line",
         "type": "scatter",
         "uid": "2bf8f763-0794-4679-ade3-48d00f319980",
         "x": [
          0,
          1,
          2,
          3,
          4,
          5,
          6,
          7,
          8,
          9
         ],
         "y": [
          0,
          2,
          4,
          6,
          8,
          10,
          12,
          14,
          16,
          18
         ]
        }
       ],
       "frames": [
        {
         "data": [
          {
           "marker": {
            "color": "red",
            "size": 10
           },
           "mode": "markers",
           "type": "scatter",
           "x": [
            0
           ],
           "y": [
            0
           ]
          }
         ]
        },
        {
         "data": [
          {
           "marker": {
            "color": "red",
            "size": 10
           },
           "mode": "markers",
           "type": "scatter",
           "x": [
            1
           ],
           "y": [
            2
           ]
          }
         ]
        },
        {
         "data": [
          {
           "marker": {
            "color": "red",
            "size": 10
           },
           "mode": "markers",
           "type": "scatter",
           "x": [
            2
           ],
           "y": [
            4
           ]
          }
         ]
        },
        {
         "data": [
          {
           "marker": {
            "color": "red",
            "size": 10
           },
           "mode": "markers",
           "type": "scatter",
           "x": [
            3
           ],
           "y": [
            6
           ]
          }
         ]
        },
        {
         "data": [
          {
           "marker": {
            "color": "red",
            "size": 10
           },
           "mode": "markers",
           "type": "scatter",
           "x": [
            4
           ],
           "y": [
            8
           ]
          }
         ]
        },
        {
         "data": [
          {
           "marker": {
            "color": "red",
            "size": 10
           },
           "mode": "markers",
           "type": "scatter",
           "x": [
            5
           ],
           "y": [
            10
           ]
          }
         ]
        },
        {
         "data": [
          {
           "marker": {
            "color": "red",
            "size": 10
           },
           "mode": "markers",
           "type": "scatter",
           "x": [
            6
           ],
           "y": [
            12
           ]
          }
         ]
        },
        {
         "data": [
          {
           "marker": {
            "color": "red",
            "size": 10
           },
           "mode": "markers",
           "type": "scatter",
           "x": [
            7
           ],
           "y": [
            14
           ]
          }
         ]
        },
        {
         "data": [
          {
           "marker": {
            "color": "red",
            "size": 10
           },
           "mode": "markers",
           "type": "scatter",
           "x": [
            8
           ],
           "y": [
            16
           ]
          }
         ]
        },
        {
         "data": [
          {
           "marker": {
            "color": "red",
            "size": 10
           },
           "mode": "markers",
           "type": "scatter",
           "x": [
            9
           ],
           "y": [
            18
           ]
          }
         ]
        }
       ],
       "layout": {
        "hovermode": "closest",
        "title": "Start Title",
        "updatemenus": [
         {
          "buttons": [
           {
            "args": [
             null,
             {
              "frame": {
               "duration": 500,
               "redraw": false
              },
              "fromcurrent": true,
              "transition": {
               "duration": 300,
               "easing": "quadratic-in-out"
              }
             }
            ],
            "label": "Play",
            "method": "animate"
           },
           {
            "args": [
             [
              null
             ],
             {
              "frame": {
               "duration": 0,
               "redraw": false
              },
              "mode": "immediate",
              "transition": {
               "duration": 0
              }
             }
            ],
            "label": "Pause",
            "method": "animate"
           }
          ],
          "type": "buttons"
         }
        ],
        "xaxis": {
         "autorange": false,
         "range": [
          -1,
          10
         ]
        },
        "yaxis": {
         "autorange": false,
         "range": [
          -1,
          20
         ]
        }
       }
      },
      "text/html": [
       "<div id=\"bb084369-68ef-4e43-9eb3-3d684e8d0b17\" style=\"height: 525px; width: 100%;\" class=\"plotly-graph-div\"></div><script type=\"text/javascript\">require([\"plotly\"], function(Plotly) { window.PLOTLYENV=window.PLOTLYENV || {};window.PLOTLYENV.BASE_URL=\"https://plot.ly\";\n",
       "        Plotly.plot(\n",
       "            'bb084369-68ef-4e43-9eb3-3d684e8d0b17',\n",
       "            [{\"line\": {\"color\": \"blue\", \"width\": 2}, \"mode\": \"lines\", \"name\": \"point\", \"x\": [0, 1, 2, 3, 4, 5, 6, 7, 8, 9], \"y\": [0, 2, 4, 6, 8, 10, 12, 14, 16, 18], \"type\": \"scatter\", \"uid\": \"420f9c05-7153-448b-8108-0aaebc69fb99\"}, {\"line\": {\"color\": \"blue\", \"width\": 2}, \"mode\": \"lines\", \"name\": \"line\", \"x\": [0, 1, 2, 3, 4, 5, 6, 7, 8, 9], \"y\": [0, 2, 4, 6, 8, 10, 12, 14, 16, 18], \"type\": \"scatter\", \"uid\": \"cf5eb44e-d618-4250-9aa6-3091f01b1142\"}],\n",
       "            {\"hovermode\": \"closest\", \"title\": \"Start Title\", \"updatemenus\": [{\"buttons\": [{\"args\": [null, {\"frame\": {\"duration\": 500, \"redraw\": false}, \"fromcurrent\": true, \"transition\": {\"duration\": 300, \"easing\": \"quadratic-in-out\"}}], \"label\": \"Play\", \"method\": \"animate\"}, {\"args\": [[null], {\"frame\": {\"duration\": 0, \"redraw\": false}, \"mode\": \"immediate\", \"transition\": {\"duration\": 0}}], \"label\": \"Pause\", \"method\": \"animate\"}], \"type\": \"buttons\"}], \"xaxis\": {\"autorange\": false, \"range\": [-1, 10]}, \"yaxis\": {\"autorange\": false, \"range\": [-1, 20]}},\n",
       "            {\"showLink\": true, \"linkText\": \"Export to plot.ly\"}\n",
       "        ).then(function () {return Plotly.addFrames('bb084369-68ef-4e43-9eb3-3d684e8d0b17',[{\"data\": [{\"marker\": {\"color\": \"red\", \"size\": 10}, \"mode\": \"markers\", \"x\": [0], \"y\": [0], \"type\": \"scatter\"}]}, {\"data\": [{\"marker\": {\"color\": \"red\", \"size\": 10}, \"mode\": \"markers\", \"x\": [1], \"y\": [2], \"type\": \"scatter\"}]}, {\"data\": [{\"marker\": {\"color\": \"red\", \"size\": 10}, \"mode\": \"markers\", \"x\": [2], \"y\": [4], \"type\": \"scatter\"}]}, {\"data\": [{\"marker\": {\"color\": \"red\", \"size\": 10}, \"mode\": \"markers\", \"x\": [3], \"y\": [6], \"type\": \"scatter\"}]}, {\"data\": [{\"marker\": {\"color\": \"red\", \"size\": 10}, \"mode\": \"markers\", \"x\": [4], \"y\": [8], \"type\": \"scatter\"}]}, {\"data\": [{\"marker\": {\"color\": \"red\", \"size\": 10}, \"mode\": \"markers\", \"x\": [5], \"y\": [10], \"type\": \"scatter\"}]}, {\"data\": [{\"marker\": {\"color\": \"red\", \"size\": 10}, \"mode\": \"markers\", \"x\": [6], \"y\": [12], \"type\": \"scatter\"}]}, {\"data\": [{\"marker\": {\"color\": \"red\", \"size\": 10}, \"mode\": \"markers\", \"x\": [7], \"y\": [14], \"type\": \"scatter\"}]}, {\"data\": [{\"marker\": {\"color\": \"red\", \"size\": 10}, \"mode\": \"markers\", \"x\": [8], \"y\": [16], \"type\": \"scatter\"}]}, {\"data\": [{\"marker\": {\"color\": \"red\", \"size\": 10}, \"mode\": \"markers\", \"x\": [9], \"y\": [18], \"type\": \"scatter\"}]}]);}).then(function(){Plotly.animate('bb084369-68ef-4e43-9eb3-3d684e8d0b17');})\n",
       "        });</script><script type=\"text/javascript\">window.addEventListener(\"resize\", function(){window._Plotly.Plots.resize(document.getElementById(\"bb084369-68ef-4e43-9eb3-3d684e8d0b17\"));});</script>"
      ],
      "text/vnd.plotly.v1+html": [
       "<div id=\"bb084369-68ef-4e43-9eb3-3d684e8d0b17\" style=\"height: 525px; width: 100%;\" class=\"plotly-graph-div\"></div><script type=\"text/javascript\">require([\"plotly\"], function(Plotly) { window.PLOTLYENV=window.PLOTLYENV || {};window.PLOTLYENV.BASE_URL=\"https://plot.ly\";\n",
       "        Plotly.plot(\n",
       "            'bb084369-68ef-4e43-9eb3-3d684e8d0b17',\n",
       "            [{\"line\": {\"color\": \"blue\", \"width\": 2}, \"mode\": \"lines\", \"name\": \"point\", \"x\": [0, 1, 2, 3, 4, 5, 6, 7, 8, 9], \"y\": [0, 2, 4, 6, 8, 10, 12, 14, 16, 18], \"type\": \"scatter\", \"uid\": \"420f9c05-7153-448b-8108-0aaebc69fb99\"}, {\"line\": {\"color\": \"blue\", \"width\": 2}, \"mode\": \"lines\", \"name\": \"line\", \"x\": [0, 1, 2, 3, 4, 5, 6, 7, 8, 9], \"y\": [0, 2, 4, 6, 8, 10, 12, 14, 16, 18], \"type\": \"scatter\", \"uid\": \"cf5eb44e-d618-4250-9aa6-3091f01b1142\"}],\n",
       "            {\"hovermode\": \"closest\", \"title\": \"Start Title\", \"updatemenus\": [{\"buttons\": [{\"args\": [null, {\"frame\": {\"duration\": 500, \"redraw\": false}, \"fromcurrent\": true, \"transition\": {\"duration\": 300, \"easing\": \"quadratic-in-out\"}}], \"label\": \"Play\", \"method\": \"animate\"}, {\"args\": [[null], {\"frame\": {\"duration\": 0, \"redraw\": false}, \"mode\": \"immediate\", \"transition\": {\"duration\": 0}}], \"label\": \"Pause\", \"method\": \"animate\"}], \"type\": \"buttons\"}], \"xaxis\": {\"autorange\": false, \"range\": [-1, 10]}, \"yaxis\": {\"autorange\": false, \"range\": [-1, 20]}},\n",
       "            {\"showLink\": true, \"linkText\": \"Export to plot.ly\"}\n",
       "        ).then(function () {return Plotly.addFrames('bb084369-68ef-4e43-9eb3-3d684e8d0b17',[{\"data\": [{\"marker\": {\"color\": \"red\", \"size\": 10}, \"mode\": \"markers\", \"x\": [0], \"y\": [0], \"type\": \"scatter\"}]}, {\"data\": [{\"marker\": {\"color\": \"red\", \"size\": 10}, \"mode\": \"markers\", \"x\": [1], \"y\": [2], \"type\": \"scatter\"}]}, {\"data\": [{\"marker\": {\"color\": \"red\", \"size\": 10}, \"mode\": \"markers\", \"x\": [2], \"y\": [4], \"type\": \"scatter\"}]}, {\"data\": [{\"marker\": {\"color\": \"red\", \"size\": 10}, \"mode\": \"markers\", \"x\": [3], \"y\": [6], \"type\": \"scatter\"}]}, {\"data\": [{\"marker\": {\"color\": \"red\", \"size\": 10}, \"mode\": \"markers\", \"x\": [4], \"y\": [8], \"type\": \"scatter\"}]}, {\"data\": [{\"marker\": {\"color\": \"red\", \"size\": 10}, \"mode\": \"markers\", \"x\": [5], \"y\": [10], \"type\": \"scatter\"}]}, {\"data\": [{\"marker\": {\"color\": \"red\", \"size\": 10}, \"mode\": \"markers\", \"x\": [6], \"y\": [12], \"type\": \"scatter\"}]}, {\"data\": [{\"marker\": {\"color\": \"red\", \"size\": 10}, \"mode\": \"markers\", \"x\": [7], \"y\": [14], \"type\": \"scatter\"}]}, {\"data\": [{\"marker\": {\"color\": \"red\", \"size\": 10}, \"mode\": \"markers\", \"x\": [8], \"y\": [16], \"type\": \"scatter\"}]}, {\"data\": [{\"marker\": {\"color\": \"red\", \"size\": 10}, \"mode\": \"markers\", \"x\": [9], \"y\": [18], \"type\": \"scatter\"}]}]);}).then(function(){Plotly.animate('bb084369-68ef-4e43-9eb3-3d684e8d0b17');})\n",
       "        });</script><script type=\"text/javascript\">window.addEventListener(\"resize\", function(){window._Plotly.Plots.resize(document.getElementById(\"bb084369-68ef-4e43-9eb3-3d684e8d0b17\"));});</script>"
      ]
     },
     "metadata": {},
     "output_type": "display_data"
    }
   ],
   "source": [
    "xs=np.arange(0, 10, 1)\n",
    "ys=np.arange(0, 20, 2)\n",
    "data = [\n",
    "    dict(name='point', x=xs, y=ys, mode='lines', line=dict(width=2, color='blue')),\n",
    "    dict(name='line', x=xs, y=ys, mode='lines', line=dict(width=2, color='blue'))\n",
    "]\n",
    "layout = dict(\n",
    "    xaxis=dict(range=[-1, 10], autorange=False),\n",
    "    yaxis=dict(range=[-1, 20], autorange=False),\n",
    "    title='Start Title', \n",
    "    hovermode='closest',\n",
    "    updatemenus= [\n",
    "        {\n",
    "            'type': 'buttons',\n",
    "            'buttons': [\n",
    "                {\n",
    "                    'label': 'Play',\n",
    "                    'method': 'animate',\n",
    "                    'args': [\n",
    "                        None, \n",
    "                        {\n",
    "                            'frame': {'duration': 500, 'redraw': False},\n",
    "                            'fromcurrent': True, \n",
    "                            'transition': {'duration': 300, 'easing': 'quadratic-in-out'}\n",
    "                        }\n",
    "                    ]\n",
    "                },\n",
    "                {\n",
    "                    'label': 'Pause',\n",
    "                    'method': 'animate',\n",
    "                    'args': [\n",
    "                        [None], \n",
    "                        {\n",
    "                            'frame': {'duration': 0, 'redraw': False}, \n",
    "                            'mode': 'immediate',\n",
    "                            'transition': {'duration': 0}\n",
    "                        }\n",
    "                    ]\n",
    "                }\n",
    "            ]\n",
    "        }\n",
    "    ]\n",
    ")\n",
    "frames=[\n",
    "    dict(\n",
    "        data=[\n",
    "            dict(x=[xs[i]], y=[ys[i]], mode='markers', marker=dict(color='red', size=10))\n",
    "        ]\n",
    "    ) for i in range(10)\n",
    "]   \n",
    "figure=dict(data=data, layout=layout, frames=frames)\n",
    "iplot(figure)"
   ]
  }
 ],
 "metadata": {
  "kernelspec": {
   "display_name": "Python 3",
   "language": "python",
   "name": "python3"
  },
  "language_info": {
   "codemirror_mode": {
    "name": "ipython",
    "version": 3
   },
   "file_extension": ".py",
   "mimetype": "text/x-python",
   "name": "python",
   "nbconvert_exporter": "python",
   "pygments_lexer": "ipython3",
   "version": "3.6.5"
  }
 },
 "nbformat": 4,
 "nbformat_minor": 2
}
