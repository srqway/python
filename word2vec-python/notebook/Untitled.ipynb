{
 "cells": [
  {
   "cell_type": "code",
   "execution_count": 1,
   "metadata": {},
   "outputs": [],
   "source": [
    "# -*- coding: utf-8 -*-\n",
    "import jieba\n",
    "import numpy as np\n",
    "\n",
    "dim = 0\n",
    "word_vecs= {}\n",
    "# 開啟詞向量檔案\n",
    "with open('/home/hsiehpinghan/Downloads/crawl-300d-2M.vec') as f:\n",
    "  for line in f:\n",
    "    # 假設我們的詞向量有300維\n",
    "    # 由word以及向量中的元素共301個\n",
    "    # 以空格分隔組成詞向量檔案中一行\n",
    "    tokens = line.strip().split()\n",
    "\n",
    "    # 第一行是兩個整數，分別代表有幾個詞向量，以及詞向量維度\n",
    "    if len(tokens) == 2:\n",
    "      dim = int(tokens[1])\n",
    "      continue\n",
    "    \n",
    "    word = tokens[0] \n",
    "    vec = np.array([ float(t) for t in tokens[1:] ])\n",
    "    word_vecs[word] = vec\n"
   ]
  },
  {
   "cell_type": "code",
   "execution_count": 11,
   "metadata": {},
   "outputs": [
    {
     "name": "stdout",
     "output_type": "stream",
     "text": [
      "s50 ic tester base system\n",
      "Answer:測試機 S50 S50 IC TESTER BASE SYSTEM Q'TY : 1 SET\n",
      "\n"
     ]
    }
   ],
   "source": [
    "# 我們要從answers中挑出應該接在dialogue之後的短句\n",
    "dialogue = \"S50 IC TESTER BASE SYSTEM\".lower()\n",
    "print(dialogue)\n",
    "\n",
    "emb_cnt = 0\n",
    "avg_dlg_emb = np.zeros((dim,))\n",
    "# jieba.cut 會把dialogue作分詞\n",
    "# 對於有在word_vecs裡面的詞我們才把它取出\n",
    "# 最後詞向量加總取平均，作為句子的向量表示\n",
    "for word in jieba.cut(dialogue):\n",
    "    if word in word_vecs:\n",
    "        avg_dlg_emb += word_vecs[word]\n",
    "        emb_cnt += 1\n",
    "avg_dlg_emb /= emb_cnt\n",
    "\n",
    "emb_cnt = 0\n",
    "max_idx = -1\n",
    "max_sim = -10\n",
    "result = \"\"\n",
    "sim = 0.0\n",
    "# 在六個回答中，每個答句都取詞向量平均作為向量表示\n",
    "# 我們選出與dialogue句子向量表示cosine similarity最高的短句\n",
    "with open(\"/tmp/data\") as f:\n",
    "    for ans in f:\n",
    "        avg_ans_emb = np.zeros((dim,))\n",
    "        for word in jieba.cut(ans.lower()):\n",
    "            if word in word_vecs:\n",
    "                avg_ans_emb += word_vecs[word]\n",
    "                emb_cnt += 1\n",
    "\n",
    "        if(np.linalg.norm(avg_dlg_emb) <= 0.0 or np.linalg.norm(avg_ans_emb) <= 0.0):\n",
    "            sim = 0.0\n",
    "        else:\n",
    "            sim = np.dot(avg_dlg_emb, avg_ans_emb) / np.linalg.norm(avg_dlg_emb) / np.linalg.norm(avg_ans_emb)\n",
    "#      print(\"Ans#%d: %f\" % (idx, sim))\n",
    "        if sim > max_sim:\n",
    "            max_sim = sim\n",
    "            result = ans\n",
    "        \n",
    "print(\"Answer:%s\" % result)"
   ]
  },
  {
   "cell_type": "code",
   "execution_count": 3,
   "metadata": {},
   "outputs": [
    {
     "name": "stdout",
     "output_type": "stream",
     "text": [
      "['PIRESPA', ' ', 'TABLETS']\n"
     ]
    }
   ],
   "source": [
    "result = list(jieba.cut(\"PIRESPA TABLETS\"))\n",
    "print(result)"
   ]
  },
  {
   "cell_type": "code",
   "execution_count": 4,
   "metadata": {},
   "outputs": [
    {
     "ename": "SyntaxError",
     "evalue": "invalid syntax (<ipython-input-4-d7b31f807e7f>, line 5)",
     "output_type": "error",
     "traceback": [
      "\u001b[0;36m  File \u001b[0;32m\"<ipython-input-4-d7b31f807e7f>\"\u001b[0;36m, line \u001b[0;32m5\u001b[0m\n\u001b[0;31m    out_f.write(\"%s\\n\" % \" \".join(word_list))\u001b[0m\n\u001b[0m        ^\u001b[0m\n\u001b[0;31mSyntaxError\u001b[0m\u001b[0;31m:\u001b[0m invalid syntax\n"
     ]
    }
   ],
   "source": [
    "out_f = open(\"/home/hsiehpinghan/git/python/word2vec-python/file/my_corpus.txt\",\"w\")\n",
    "with open(\"<your_raw_text>.txt\", \"r\") as f:\n",
    "  for line in f:\n",
    "    word_list = list(jieba.cut(line.strip())\n",
    "    out_f.write(\"%s\\n\" % \" \".join(word_list))"
   ]
  }
 ],
 "metadata": {
  "kernelspec": {
   "display_name": "Python 3",
   "language": "python",
   "name": "python3"
  },
  "language_info": {
   "codemirror_mode": {
    "name": "ipython",
    "version": 3
   },
   "file_extension": ".py",
   "mimetype": "text/x-python",
   "name": "python",
   "nbconvert_exporter": "python",
   "pygments_lexer": "ipython3",
   "version": "3.6.4"
  }
 },
 "nbformat": 4,
 "nbformat_minor": 2
}
